{
 "cells": [
  {
   "cell_type": "markdown",
   "id": "902054aa-7cc9-4333-949b-5b0095f93763",
   "metadata": {},
   "source": [
    "# Embedding을 이용한 영화평 긍정/부정 예측 이진 분류 모델 "
   ]
  },
  {
   "cell_type": "code",
   "execution_count": null,
   "id": "bf112554",
   "metadata": {},
   "outputs": [],
   "source": []
  },
  {
   "cell_type": "code",
   "execution_count": null,
   "id": "01b404d4",
   "metadata": {},
   "outputs": [],
   "source": []
  },
  {
   "cell_type": "markdown",
   "id": "590ec01a-773b-4a00-bccf-6f2a1ab7185e",
   "metadata": {},
   "source": [
    "### Embedding을 특성으로 사용하여 Naver 영화평 예측 Machine Learning model 작성"
   ]
  },
  {
   "cell_type": "code",
   "execution_count": null,
   "id": "3b174a79",
   "metadata": {},
   "outputs": [],
   "source": []
  },
  {
   "cell_type": "code",
   "execution_count": null,
   "id": "5ef94e57",
   "metadata": {},
   "outputs": [],
   "source": []
  },
  {
   "cell_type": "code",
   "execution_count": null,
   "id": "7bfde089",
   "metadata": {},
   "outputs": [],
   "source": []
  },
  {
   "cell_type": "markdown",
   "id": "93b143a8-f6d7-4f1b-b4eb-0b2c6fee6405",
   "metadata": {},
   "source": [
    "- OpenAI API 가 유료 서비스이므로 학습 데이터 건수 축소"
   ]
  },
  {
   "cell_type": "code",
   "execution_count": null,
   "id": "10c021c3",
   "metadata": {},
   "outputs": [],
   "source": [
    "# 샘플링할 데이터 수\n",
    "# 긍정 및 부정 리뷰 필터링 (학습 데이터)\n",
    "# 긍정 및 부정 리뷰 필터링 (테스트 데이터)\n",
    "# 긍정 및 부정 리뷰에서 각각 n_train_samples 수만큼 무작위 추출 (학습 데이터)\n",
    "# 긍정 및 부정 리뷰에서 각각 n_test_samples 수만큼 무작위 추출 (테스트 데이터)\n",
    "# 추출한 샘플 데이터 결합 (학습 데이터)\n",
    "# 추출한 샘플 데이터 결합 (테스트 데이터)\n",
    "# 학습 샘플 데이터 분포 출력\n",
    "# 테스트 샘플 데이터 분포 출력"
   ]
  },
  {
   "cell_type": "code",
   "execution_count": null,
   "id": "812d570d",
   "metadata": {},
   "outputs": [],
   "source": [
    "# 텍스트 임베딩을 생성하는 함수 정의\n",
    "def get_embedding(text, model):\n",
    "    # 주어진 텍스트를 사용하여 임베딩 생성 요청을 보내고 결과를 반환\n",
    "# 학습 데이터에 대한 임베딩 생성\n",
    "# 테스트 데이터에 대한 임베딩 생성\n",
    "# 임베딩 결과 확인"
   ]
  },
  {
   "cell_type": "code",
   "execution_count": null,
   "id": "83980e41",
   "metadata": {},
   "outputs": [],
   "source": []
  },
  {
   "cell_type": "code",
   "execution_count": null,
   "id": "a656326d",
   "metadata": {},
   "outputs": [],
   "source": []
  },
  {
   "cell_type": "code",
   "execution_count": null,
   "id": "8e20b504",
   "metadata": {},
   "outputs": [],
   "source": []
  },
  {
   "cell_type": "markdown",
   "id": "c43688e0-96f4-4a62-80c0-ea195c6a5d0a",
   "metadata": {},
   "source": [
    "## Machine Learning 학습을 위한 Text Feature Encoder로서의 Embedding 사용"
   ]
  },
  {
   "cell_type": "code",
   "execution_count": null,
   "id": "09081050",
   "metadata": {},
   "outputs": [],
   "source": [
    "# 리스트 형태의 임베딩을 numpy 배열로 변환"
   ]
  },
  {
   "cell_type": "markdown",
   "id": "dcb84128-018f-4e93-b655-3e2307987996",
   "metadata": {},
   "source": [
    "### 이진 분류 모델 작성에 사용"
   ]
  },
  {
   "cell_type": "code",
   "execution_count": null,
   "id": "436e5a71",
   "metadata": {},
   "outputs": [],
   "source": []
  },
  {
   "cell_type": "code",
   "execution_count": null,
   "id": "07e0a5da",
   "metadata": {},
   "outputs": [],
   "source": []
  }
 ],
 "metadata": {
  "kernelspec": {
   "display_name": "Python 3 (ipykernel)",
   "language": "python",
   "name": "python3"
  },
  "language_info": {
   "codemirror_mode": {
    "name": "ipython",
    "version": 3
   },
   "file_extension": ".py",
   "mimetype": "text/x-python",
   "name": "python",
   "nbconvert_exporter": "python",
   "pygments_lexer": "ipython3",
   "version": "3.9.16"
  }
 },
 "nbformat": 4,
 "nbformat_minor": 5
}
