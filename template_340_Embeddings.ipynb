{
 "cells": [
  {
   "cell_type": "markdown",
   "id": "33f780ca-9e08-4017-b4eb-00b7c5eebf35",
   "metadata": {},
   "source": [
    "# Embedding\n",
    "OpenAI의 텍스트 임베딩은 텍스트 문자열의 관련성을 측정합니다. 임베딩은 일반적으로 다음 용도로 사용됩니다.\n",
    "\n",
    "- 두 텍스트 사이의 관련성을 측정하는 데 사용할 수 있는 텍스트의 숫자 표현  \n",
    "- 검색, 클러스터링, 추천, 이상 탐지 및 분류 작업에 유용\n",
    "\n",
    "    - 검색 (쿼리 문자열과의 관련성을 기준으로 결과 순위 지정)  \n",
    "    - 클러스터링 (텍스트 문자열이 유사성을 기준으로 그룹화)  \n",
    "    - 추천 (관련 문자열이 포함된 항목을 추천)  \n",
    "    - 이상 탐지 (관련성이 거의 없는 이상값이 식별되는 경우)  \n",
    "    - 다양성 측정 (유사성 분포를 분석)\n",
    "    - 분류 (텍스트 문자열이 가장 유사한 레이블로 분류)\n",
    "  \n",
    "임베딩은 부동 소수점 숫자의 벡터(목록)입니다. 두 벡터 사이의 거리는 관련성 을 측정합니다. 거리가 작을수록 관련성이 높음을 나타내고, 거리가 멀면 관련성이 낮다는 것을 나타냅니다."
   ]
  },
  {
   "cell_type": "code",
   "execution_count": null,
   "id": "edf2eb54",
   "metadata": {},
   "outputs": [],
   "source": []
  },
  {
   "cell_type": "code",
   "execution_count": null,
   "id": "503f910e",
   "metadata": {},
   "outputs": [],
   "source": []
  },
  {
   "cell_type": "markdown",
   "id": "e5ce68fd-4374-4f99-8118-0606ca58b9cb",
   "metadata": {},
   "source": [
    "## API 사용 방법\n",
    "\n",
    "- 기본적으로 임베딩 벡터의 길이는 text-embedding-3-small의 경우 1536이고 text-embedding-3-large의 경우 3072입니다. 차원 매개변수를 전달하면 임베딩이 개념을 나타내는 속성을 잃지 않고  임베딩의 차원을 줄일 수 있습니다."
   ]
  },
  {
   "cell_type": "code",
   "execution_count": null,
   "id": "76e1d093",
   "metadata": {},
   "outputs": [],
   "source": [
    "# 텍스트 임베딩 생성 요청\n",
    "# 응답에서 임베딩 데이터의 처음 10개 요소를 출력"
   ]
  },
  {
   "cell_type": "markdown",
   "id": "821ad76f-004e-450f-8827-3897510512ea",
   "metadata": {},
   "source": [
    "## Amazon 고급 음식 리뷰를 이용한 Text Search\n",
    "\n",
    "데이터 세트에는 2012년 10월까지 Amazon 사용자가 남긴 총 568,454개의 음식 리뷰가 포함되어 있습니다. 이 중 가장 최근 리뷰 1,000개로 구성된 이 데이터 세트의 하위 세트를 사용합니다. 리뷰는 영어로 작성되며 긍정적이거나 부정적입니다. 각 리뷰에는 ProductId, UserId, 점수, 리뷰 제목(요약) 및 리뷰 본문(텍스트)이 있습니다.\r\n",
    "\r\n",
    "리뷰 요약과 리뷰 텍스트를 하나의 결합 텍스트로 결합합니다. 모델은 이 결합된 텍스트를 인코딩하고 단일 벡터 임베딩을 출력합니다."
   ]
  },
  {
   "cell_type": "code",
   "execution_count": null,
   "id": "9b525e05",
   "metadata": {},
   "outputs": [],
   "source": [
    "def get_embedding(text: str, model=\"text-embedding-3-small\", **kwargs):\n",
    "    # 성능에 부정적인 영향을 줄 수 있는 개행 문자를 space로 바꿉니다.\n",
    "def cosine_similarity(a, b):"
   ]
  },
  {
   "cell_type": "code",
   "execution_count": null,
   "id": "ebfe8fd4",
   "metadata": {},
   "outputs": [],
   "source": []
  },
  {
   "cell_type": "code",
   "execution_count": null,
   "id": "30c2820e",
   "metadata": {},
   "outputs": [],
   "source": [
    "#데이터세트 로드 및 검사"
   ]
  },
  {
   "cell_type": "code",
   "execution_count": null,
   "id": "385efcac",
   "metadata": {},
   "outputs": [],
   "source": [
    "# 비용 절약을 위해 1,000개의 최신 리뷰로 서브샘플링하고 너무 긴 샘플을 제거합니다.\n",
    "# 너무 길어서 포함할 수 없는 리뷰는 생략합니다."
   ]
  },
  {
   "cell_type": "markdown",
   "id": "1b58b601-9440-47c7-b232-54c0264e24ef",
   "metadata": {},
   "source": [
    "-  임베딩을 나중에 재사용할 수 있도록 저장합니다."
   ]
  },
  {
   "cell_type": "code",
   "execution_count": null,
   "id": "2fcc97ac",
   "metadata": {},
   "outputs": [],
   "source": [
    "# 수분 정도 소요됩니다."
   ]
  },
  {
   "cell_type": "code",
   "execution_count": null,
   "id": "0f86f274",
   "metadata": {},
   "outputs": [],
   "source": [
    "# hi의 embedding"
   ]
  },
  {
   "cell_type": "markdown",
   "id": "e854399e-2d7f-4ac3-8746-6d87aed3af4a",
   "metadata": {},
   "source": [
    "- 가장 관련성이 높은 문서를 검색하기 위해 쿼리의 임베딩 벡터와 각 문서 간의 코사인 유사성을 사용하고 가장 높은 점수를 받은 문서를 반환합니다."
   ]
  },
  {
   "cell_type": "code",
   "execution_count": null,
   "id": "017ef1c0",
   "metadata": {},
   "outputs": [],
   "source": [
    "def search_reviews(df, product_description, n=3, pprint=True):\n",
    "    # 주어진 제품 설명에 대한 임베딩 생성\n",
    "    # 데이터프레임의 각 임베딩과 제품 설명 임베딩 간의 유사도 계산\n",
    "    # 유사도를 기준으로 내림차순 정렬하고 상위 n개의 리뷰 선택\n",
    "# 'delicious beans'라는 제품 설명과 유사한 상위 3개의 리뷰 검색"
   ]
  },
  {
   "cell_type": "markdown",
   "id": "6b399c54-2e43-4a58-860e-948aa8542174",
   "metadata": {},
   "source": [
    "### 임베딩 기반 검색을 사용한 질문 답변"
   ]
  },
  {
   "cell_type": "code",
   "execution_count": null,
   "id": "8f7db70b",
   "metadata": {},
   "outputs": [],
   "source": [
    "# Wikipedia 페이지의 URL\n",
    "# 페이지 내용 가져오기\n",
    "# 페이지 내용 중에서 필요한 부분 추출 (예시로 본문 전체를 가져옵니다)"
   ]
  },
  {
   "cell_type": "code",
   "execution_count": null,
   "id": "aaeb8674",
   "metadata": {},
   "outputs": [],
   "source": []
  },
  {
   "cell_type": "markdown",
   "id": "590ec01a-773b-4a00-bccf-6f2a1ab7185e",
   "metadata": {},
   "source": [
    "### Embedding을 특성으로 사용하여 별점 예측 Machine Learning model 작성"
   ]
  },
  {
   "cell_type": "code",
   "execution_count": null,
   "id": "d35182aa",
   "metadata": {},
   "outputs": [],
   "source": [
    "# 데이터셋 로드 및 검사"
   ]
  },
  {
   "cell_type": "code",
   "execution_count": null,
   "id": "075d0e9c",
   "metadata": {},
   "outputs": [],
   "source": []
  },
  {
   "cell_type": "code",
   "execution_count": null,
   "id": "0f0e58ab",
   "metadata": {},
   "outputs": [],
   "source": [
    "# Summary와 Text를 결합하여 새로운 컬럼 생성"
   ]
  },
  {
   "cell_type": "code",
   "execution_count": null,
   "id": "e559e579",
   "metadata": {},
   "outputs": [],
   "source": []
  },
  {
   "cell_type": "markdown",
   "id": "1f44c6ab-c653-4711-851f-b62c2a74f7a0",
   "metadata": {},
   "source": [
    "- combined text를 embedding vector로 변환하여 저장 (유료 API 이므로 반복 작업을 최소화하기 위해)"
   ]
  },
  {
   "cell_type": "code",
   "execution_count": null,
   "id": "6b84c061",
   "metadata": {},
   "outputs": [],
   "source": [
    "def get_embedding(text, model):"
   ]
  },
  {
   "cell_type": "markdown",
   "id": "67f90fb9-13a0-4c18-b057-b4838cfb6e1c",
   "metadata": {},
   "source": [
    "- 저장한 embedding 불러오기"
   ]
  },
  {
   "cell_type": "code",
   "execution_count": null,
   "id": "f2841883",
   "metadata": {},
   "outputs": [],
   "source": []
  },
  {
   "cell_type": "code",
   "execution_count": null,
   "id": "2d975dcc",
   "metadata": {},
   "outputs": [],
   "source": []
  },
  {
   "cell_type": "markdown",
   "id": "c43688e0-96f4-4a62-80c0-ea195c6a5d0a",
   "metadata": {},
   "source": [
    "## Machine Learning 학습을 위한 Text Feature Encoder로서의 Embedding 사용"
   ]
  },
  {
   "cell_type": "markdown",
   "id": "817d6370-8fee-42a0-82d6-6b27b7068047",
   "metadata": {},
   "source": [
    "### 회귀 모델 작성에 사용"
   ]
  },
  {
   "cell_type": "code",
   "execution_count": null,
   "id": "01db72f1",
   "metadata": {},
   "outputs": [],
   "source": [
    "# 'ada_embedding' 열의 값을 문자열에서 리스트로 변환\n",
    "# 변환된 리스트를 numpy 배열로 변환"
   ]
  },
  {
   "cell_type": "markdown",
   "id": "e31c4d6c-25a0-4e47-a499-4fbb51674689",
   "metadata": {},
   "source": [
    "리뷰 텍스트를 기반으로 리뷰어의 별점을 예측합니다. 점수는 1과 5 사이의 연속 변수라고 가정하고 알고리즘이 부동 소수점 값을 예측할 수 있도록 합니다"
   ]
  },
  {
   "cell_type": "code",
   "execution_count": null,
   "id": "c0a5933b",
   "metadata": {},
   "outputs": [],
   "source": []
  },
  {
   "cell_type": "code",
   "execution_count": null,
   "id": "d2b25371",
   "metadata": {},
   "outputs": [],
   "source": []
  },
  {
   "cell_type": "markdown",
   "id": "5c1bcab9-b426-49e6-af0b-5e29a82db575",
   "metadata": {},
   "source": [
    "ML 알고리즘은 예측된 값과 실제 점수의 거리를 최소화하고 0.51의 평균 절대 오차를 달성합니다. 이는 평균적으로 예측이 별표의 절반 미만만큼 벗어났음을 의미합니다."
   ]
  },
  {
   "cell_type": "markdown",
   "id": "fab4259c-899d-4cd2-956b-9cc5f7270b9c",
   "metadata": {},
   "source": [
    "### 분류 모델 작성에 사용\n",
    "\n",
    "이번에는 알고리즘이 1에서 5 사이의 값을 예측하도록 하는 대신 리뷰에 대한 정확한 별 수를 별 1에서 5개 범위의 5개 버킷으로 분류하려고 합니다.\r\n",
    "\r\n",
    "훈련 후 모인해 미묘한 리뷰(별 2~4개)보다 별 1개 및 5개 리뷰를 훨씬 더 잘 예측하는 방법을 학습합니다."
   ]
  },
  {
   "cell_type": "code",
   "execution_count": null,
   "id": "5b7dfe55",
   "metadata": {},
   "outputs": [],
   "source": [
    "# train random forest classifier"
   ]
  },
  {
   "cell_type": "code",
   "execution_count": null,
   "id": "59477760",
   "metadata": {},
   "outputs": [],
   "source": []
  }
 ],
 "metadata": {
  "kernelspec": {
   "display_name": "Python 3 (ipykernel)",
   "language": "python",
   "name": "python3"
  },
  "language_info": {
   "codemirror_mode": {
    "name": "ipython",
    "version": 3
   },
   "file_extension": ".py",
   "mimetype": "text/x-python",
   "name": "python",
   "nbconvert_exporter": "python",
   "pygments_lexer": "ipython3",
   "version": "3.9.16"
  }
 },
 "nbformat": 4,
 "nbformat_minor": 5
}
