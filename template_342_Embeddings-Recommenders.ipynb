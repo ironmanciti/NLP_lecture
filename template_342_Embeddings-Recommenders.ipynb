{
 "cells": [
  {
   "cell_type": "markdown",
   "id": "2c34c7d7-7a5a-4ada-95ee-5a00ece22727",
   "metadata": {},
   "source": [
    "# Embedding을 이용한 추천 시스템 구축\n",
    "- 최근접 이웃 검색 방식"
   ]
  },
  {
   "cell_type": "code",
   "execution_count": null,
   "id": "93f28ec3",
   "metadata": {},
   "outputs": [],
   "source": []
  },
  {
   "cell_type": "code",
   "execution_count": null,
   "id": "cfb1b1cf",
   "metadata": {},
   "outputs": [],
   "source": []
  },
  {
   "cell_type": "markdown",
   "id": "5b7e8876-c812-4f0f-8278-c681df47263f",
   "metadata": {},
   "source": [
    "### Data Load"
   ]
  },
  {
   "cell_type": "code",
   "execution_count": null,
   "id": "4d640c43",
   "metadata": {},
   "outputs": [],
   "source": [
    "# 데이터 로드(http://groups.di.unipi.it/~gulli/AG_corpus_of_news_articles.html에서 전체 데이터 세트 사용 가능)\n",
    "# 비용 절감을 위해 데이터 프레임을 500개의 샘플로 줄임\n",
    "# 첫 5개의 샘플 출력"
   ]
  },
  {
   "cell_type": "markdown",
   "id": "5783e529-15a5-43f6-8313-7d42011b2199",
   "metadata": {},
   "source": [
    "생략 부호로 잘리지 않은 동일한 예를 살펴보겠습니다."
   ]
  },
  {
   "cell_type": "code",
   "execution_count": null,
   "id": "14312532",
   "metadata": {},
   "outputs": [],
   "source": [
    "# print the title, description, and label of each example"
   ]
  },
  {
   "cell_type": "markdown",
   "id": "2a0dcf25-d339-4bcb-94bf-f2d413314184",
   "metadata": {},
   "source": [
    "- 이러한 기사에 대한 임베딩을 가져오기 전에 생성한 임베딩을 저장하기 위한 캐시를 설정해 보겠습니다. 일반적으로 나중에 다시 사용할 수 있도록 임베딩을 저장하는 것이 좋습니다. 저장하지 않으면 다시 계산할 때마다 비용을 다시 지불하게 됩니다.\r",
    "- \r\n",
    "캐시는 (텍스트, 모델)의 튜플을 부동 소수점 목록인 임베딩에 매핑하는 사전입니다. 캐시는 Python 피클 파일로 저장됩니다."
   ]
  },
  {
   "cell_type": "code",
   "execution_count": null,
   "id": "2f902675",
   "metadata": {},
   "outputs": [],
   "source": [
    "# 재계산을 피하기 위해 임베딩 캐시 설정\n",
    "# 캐시는 튜플(텍스트, 모델)의 dictinary입니다 -> 임베딩, 피클 파일로 저장됨\n",
    "def get_embedding(text, model):\n",
    "    # 입력 텍스트에서 줄바꿈 문자를 공백으로 대체\n",
    "    # 텍스트 임베딩 생성\n",
    "# embedding cache 경로 설정\n",
    "# 저장된 캐시가 있으면 캐시의 초기값으로 로드합니다.\n",
    "# 존재하는 경우 캐시에서 임베딩을 검색하고 그렇지 않은 경우 API를 통해 요청하는 함수를 정의합니다.\n",
    "def embedding_from_string("
   ]
  },
  {
   "cell_type": "code",
   "execution_count": null,
   "id": "3892ffcc",
   "metadata": {},
   "outputs": [],
   "source": [
    "# 현재의 cache size"
   ]
  },
  {
   "cell_type": "markdown",
   "id": "a21fddcb-624a-42a4-ae47-d9d8e4423bee",
   "metadata": {},
   "source": [
    "임베딩을 가져와서 제대로 작동하는지 확인해 보겠습니다."
   ]
  },
  {
   "cell_type": "code",
   "execution_count": null,
   "id": "29298259",
   "metadata": {},
   "outputs": [],
   "source": [
    "# 데이터 세트의 첫 번째 설명을 가져옵니다.\n",
    "# 임베딩의 처음 10차원을 인쇄합니다."
   ]
  },
  {
   "cell_type": "code",
   "execution_count": null,
   "id": "fb131ce8",
   "metadata": {},
   "outputs": [],
   "source": [
    "# 현재의 cache size"
   ]
  },
  {
   "cell_type": "markdown",
   "id": "7b17658d-bb14-4b83-9946-841ba4dd7877",
   "metadata": {},
   "source": [
    "### 임베딩을 기반으로 유사한 기사 추천  \n",
    "유사한 기사를 찾으려면 다음 3단계 계획을 따르세요.\n",
    "\n",
    "1. 모든 기사 설명의 유사성 임베딩을 가져옵니다.  \n",
    "2. 소스 기사 제목과 다른 모든 기사 사이의 거리를 계산합니다.  \n",
    "3. 소스 기사 제목에 가장 가까운 다른 기사를 인쇄하세요."
   ]
  },
  {
   "cell_type": "code",
   "execution_count": null,
   "id": "20e18d14",
   "metadata": {},
   "outputs": [],
   "source": [
    "def print_recommendations_from_strings(\n",
    "    # 모든 문자열에 대한 임베딩 가져오기\n",
    "    # 소스 문자열의 임베딩을 가져옵니다.\n",
    "    # 소스 임베딩과 다른 임베딩 사이의 거리를 얻습니다.\n",
    "    # 가장 가까운 이웃의 인덱스 가져오기\n",
    "    # 소스 문자열을 출력\n",
    "    # k개의 가장 가까운 이웃 출력\n",
    "        # 시작 문자열과 동일하게 일치하는 문자열을 건너뜁니다.\n",
    "        # k개의 기사를 인쇄한 후 중지\n",
    "        # 비슷한 문자열과 그것들의 거리를 출력"
   ]
  },
  {
   "cell_type": "markdown",
   "id": "49a3dc83-3295-41f4-ad6e-6ad5e4c27acc",
   "metadata": {},
   "source": [
    "### 5. 추천 예시\r",
    "다음의  기사와 유사한 기사를 찾아보겠습니다."
   ]
  },
  {
   "cell_type": "code",
   "execution_count": null,
   "id": "5b68d890",
   "metadata": {},
   "outputs": [],
   "source": []
  },
  {
   "cell_type": "code",
   "execution_count": null,
   "id": "24d6a6fa",
   "metadata": {},
   "outputs": [],
   "source": []
  },
  {
   "cell_type": "code",
   "execution_count": null,
   "id": "7540500a",
   "metadata": {},
   "outputs": [],
   "source": []
  },
  {
   "cell_type": "code",
   "execution_count": null,
   "id": "d5e2539c",
   "metadata": {},
   "outputs": [],
   "source": [
    "# 현재의 cache size"
   ]
  },
  {
   "cell_type": "code",
   "execution_count": null,
   "id": "4fa93c88",
   "metadata": {},
   "outputs": [],
   "source": []
  }
 ],
 "metadata": {
  "kernelspec": {
   "display_name": "Python 3 (ipykernel)",
   "language": "python",
   "name": "python3"
  },
  "language_info": {
   "codemirror_mode": {
    "name": "ipython",
    "version": 3
   },
   "file_extension": ".py",
   "mimetype": "text/x-python",
   "name": "python",
   "nbconvert_exporter": "python",
   "pygments_lexer": "ipython3",
   "version": "3.9.16"
  }
 },
 "nbformat": 4,
 "nbformat_minor": 5
}
