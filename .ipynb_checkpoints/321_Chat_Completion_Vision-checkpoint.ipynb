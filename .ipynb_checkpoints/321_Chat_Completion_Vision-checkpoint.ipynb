{
 "cells": [
  {
   "cell_type": "markdown",
   "id": "c5a91499-2154-45fc-b4b0-10c888d61c6d",
   "metadata": {},
   "source": [
    "# Vision\n",
    "\n",
    "- GPT-4o with image inpus\n",
    "\n",
    "- GPT-4o와 GPT-4 Turbo 모두 비전 기능을 갖추고 있습니다. 즉, 모델이 이미지를 촬영하고 그에 대한 질문에 답할 수 있습니다"
   ]
  },
  {
   "cell_type": "code",
   "execution_count": 1,
   "id": "989f8b65-992a-4c1c-b196-aa19cfff4e95",
   "metadata": {},
   "outputs": [],
   "source": [
    "import os\n",
    "import openai\n",
    "import sys\n",
    "sys.path.append('./')\n",
    "\n",
    "from dotenv import load_dotenv, find_dotenv\n",
    "_ = load_dotenv(find_dotenv()) # read local .env file"
   ]
  },
  {
   "cell_type": "markdown",
   "id": "77b88726-3171-428a-9145-c2a4e48c3521",
   "metadata": {},
   "source": [
    "이미지는 두 가지 주요 방법, 즉 이미지에 대한 링크를 전달하거나 요청에 base64로 인코딩된 이미지를 직접 전달하는 방법으로 모델에서 사용할 수 있습니다. "
   ]
  },
  {
   "cell_type": "code",
   "execution_count": 2,
   "id": "d5d24889-8f2f-479a-b5a1-d8d4a7a26b31",
   "metadata": {},
   "outputs": [],
   "source": [
    "from openai import OpenAI\n",
    "\n",
    "client = OpenAI()"
   ]
  },
  {
   "cell_type": "markdown",
   "id": "1a776c83-96c5-47bd-a67a-5b220905e0cc",
   "metadata": {},
   "source": [
    "### 이미지의 내용 설명\n",
    "<img src=\"https://upload.wikimedia.org/wikipedia/commons/thumb/d/dd/Gfp-wisconsin-madison-the-nature-boardwalk.jpg/2560px-Gfp-wisconsin-madison-the-nature-boardwalk.jpg\" width=300px />"
   ]
  },
  {
   "cell_type": "code",
   "execution_count": 3,
   "id": "db721c95-6024-4d85-961c-a5d4c648e9a0",
   "metadata": {},
   "outputs": [
    {
     "data": {
      "text/plain": [
       "{'id': 'chatcmpl-A6CfcFNMHJy49zvOML4oUaKZ5kQhP',\n",
       " 'choices': [{'finish_reason': 'stop',\n",
       "   'index': 0,\n",
       "   'logprobs': None,\n",
       "   'message': {'content': '이 이미지는 넓은 들판을 가로지르는 나무로 된 산책로를 보여줍니다. 들판은 푸른 풀과 다양한 식물들로 가득차 있으며, 산책로는 수평선까지 이어져 있습니다. 하늘은 맑고 푸르며, 몇 개의 작은 구름들이 흩어져 있는 모습을 보입니다. 전체적으로 평화롭고 자연적인 풍경을 담고 있습니다.',\n",
       "    'role': 'assistant',\n",
       "    'refusal': None}}],\n",
       " 'created': 1726042036,\n",
       " 'model': 'gpt-4o-2024-05-13',\n",
       " 'object': 'chat.completion',\n",
       " 'system_fingerprint': 'fp_992d1ea92d',\n",
       " 'usage': {'completion_tokens': 98,\n",
       "  'prompt_tokens': 1127,\n",
       "  'total_tokens': 1225}}"
      ]
     },
     "execution_count": 3,
     "metadata": {},
     "output_type": "execute_result"
    }
   ],
   "source": [
    "url = \"https://upload.wikimedia.org/wikipedia/commons/thumb/d/dd/Gfp-wisconsin-madison-the-nature-boardwalk.jpg/2560px-Gfp-wisconsin-madison-the-nature-boardwalk.jpg\"\n",
    "\n",
    "response = client.chat.completions.create(\n",
    "  model=\"gpt-4o\",\n",
    "  messages=[\n",
    "    {\n",
    "      \"role\": \"user\",\n",
    "      \"content\": [\n",
    "        {\"type\": \"text\", \"text\": \"이 이미지의 내용을 설명해줘. 한국어로 설명해줘.\"},\n",
    "        {\n",
    "          \"type\": \"image_url\",\n",
    "          \"image_url\": {\n",
    "            \"url\": url,\n",
    "          },\n",
    "        },\n",
    "      ],\n",
    "    }\n",
    "  ],\n",
    "  max_tokens=300,\n",
    ")\n",
    "\n",
    "response.to_dict()"
   ]
  },
  {
   "cell_type": "code",
   "execution_count": 4,
   "id": "1bb38be4-cac2-4e73-a784-4c0732006b17",
   "metadata": {},
   "outputs": [
    {
     "name": "stdout",
     "output_type": "stream",
     "text": [
      "이 이미지는 넓은 들판을 가로지르는 나무로 된 산책로를 보여줍니다. 들판은 푸른 풀과 다양한 식물들로 가득차 있으며, 산책로는 수평선까지 이어져 있습니다. 하늘은 맑고 푸르며, 몇 개의 작은 구름들이 흩어져 있는 모습을 보입니다. 전체적으로 평화롭고 자연적인 풍경을 담고 있습니다.\n"
     ]
    }
   ],
   "source": [
    "print(response.choices[0].message.content)"
   ]
  },
  {
   "cell_type": "markdown",
   "id": "7806b76d-628c-4946-9a57-92f0d5a0d0f7",
   "metadata": {},
   "source": [
    "### Base 64로 인코딩된 이미지 업로드\r\n",
    "로컬에 이미지 또는 이미지 세트가 있는 경우 이를 Base 64 인코딩 형식으로 모델에 전달할 수 있습니다. 다음은 이에 대한 실제 예입니다."
   ]
  },
  {
   "cell_type": "code",
   "execution_count": 13,
   "id": "69159b03-d829-469c-97e3-a3e44b1e0dc3",
   "metadata": {},
   "outputs": [
    {
     "name": "stdout",
     "output_type": "stream",
     "text": [
      "{'id': 'chatcmpl-A6CiRXoKSRG5ArH1rjNvf8LlF76UM', 'object': 'chat.completion', 'created': 1726042211, 'model': 'gpt-4o-2024-05-13', 'choices': [{'index': 0, 'message': {'role': 'assistant', 'content': '이 이미지는 냉장고 내부를 보여주고 있습니다. 냉장고에는 다양한 신선한 과일과 채소, 음료수, 그리고 기타 식품들이 깔끔하게 정리되어 있습니다. 윗쪽 선반에는 딸기나 오렌지 같은 과일과 함께 물병들이 보입니다. 중간 선반에는 양배추, 파프리카, 가지, 상추 등 다양한 채소들이 놓여 있습니다. 아래쪽 서랍에는 당근, 파슬리 등의 채소가 보입니다. 냉장고 문쪽에는 우유, 주스 등 다양한 음료수와 허브가 정리되어 있습니다. 전체적으로 신선하고 건강한 식재료들로 가득 차 있는 모습입니다.', 'refusal': None}, 'logprobs': None, 'finish_reason': 'stop'}], 'usage': {'prompt_tokens': 443, 'completion_tokens': 161, 'total_tokens': 604}, 'system_fingerprint': 'fp_992d1ea92d'}\n"
     ]
    }
   ],
   "source": [
    "import base64\n",
    "import requests\n",
    "\n",
    "# Function to encode the image\n",
    "def encode_image(image_path):\n",
    "  with open(image_path, \"rb\") as image_file:\n",
    "    return base64.b64encode(image_file.read()).decode('utf-8')\n",
    "\n",
    "# Path to your image\n",
    "image_path = \"data/냉장고내용물.jpg\"\n",
    "\n",
    "# Getting the base64 string\n",
    "base64_image = encode_image(image_path)\n",
    "\n",
    "headers = {\n",
    "  \"Content-Type\": \"application/json\",\n",
    "  \"Authorization\": f\"Bearer {os.environ['OPENAI_API_KEY']}\"\n",
    "}\n",
    "\n",
    "payload = {\n",
    "  \"model\": \"gpt-4o\",\n",
    "  \"messages\": [\n",
    "    {\n",
    "      \"role\": \"user\",\n",
    "      \"content\": [\n",
    "        {\n",
    "          \"type\": \"text\",\n",
    "          \"text\": \"이 이미지의 내용을 한국어로 설명해줘.\"\n",
    "        },\n",
    "        {\n",
    "          \"type\": \"image_url\",\n",
    "          \"image_url\": {\n",
    "            \"url\": f\"data:image/jpeg;base64,{base64_image}\"\n",
    "          }\n",
    "        }\n",
    "      ]\n",
    "    }\n",
    "  ],\n",
    "  \"max_tokens\": 300\n",
    "}\n",
    "\n",
    "response = requests.post(\"https://api.openai.com/v1/chat/completions\", headers=headers, json=payload)\n",
    "\n",
    "print(response.json())"
   ]
  },
  {
   "cell_type": "code",
   "execution_count": 14,
   "id": "38b8d4dd-fe6c-490e-8d5a-34d7e020ad63",
   "metadata": {},
   "outputs": [
    {
     "data": {
      "text/plain": [
       "'이 이미지는 냉장고 내부를 보여주고 있습니다. 냉장고에는 다양한 신선한 과일과 채소, 음료수, 그리고 기타 식품들이 깔끔하게 정리되어 있습니다. 윗쪽 선반에는 딸기나 오렌지 같은 과일과 함께 물병들이 보입니다. 중간 선반에는 양배추, 파프리카, 가지, 상추 등 다양한 채소들이 놓여 있습니다. 아래쪽 서랍에는 당근, 파슬리 등의 채소가 보입니다. 냉장고 문쪽에는 우유, 주스 등 다양한 음료수와 허브가 정리되어 있습니다. 전체적으로 신선하고 건강한 식재료들로 가득 차 있는 모습입니다.'"
      ]
     },
     "execution_count": 14,
     "metadata": {},
     "output_type": "execute_result"
    }
   ],
   "source": [
    "res = response.json()\n",
    "res['choices'][0]['message']['content']"
   ]
  },
  {
   "cell_type": "markdown",
   "id": "8be985d2-2e5d-4f3a-9596-81e80fd43e00",
   "metadata": {},
   "source": [
    "### 다중 이미지 입력\n",
    "Chat Completions API는 base64로 인코딩된 형식이나 이미지 URL로 여러 이미지 입력을 가져와 처리할 수 있습니다. 모델은 각 이미지를 처리하고 모든 이미지의 정보를 사용하여 질문에 답합니다.\n",
    "\n",
    "<img src=\"https://upload.wikimedia.org/wikipedia/commons/thumb/d/dd/Gfp-wisconsin-madison-the-nature-boardwalk.jpg/2560px-Gfp-wisconsin-madison-the-nature-boardwalk.jpg\" width=300px />\n",
    "\n",
    "<img src=\"https://img.freepik.com/premium-photo/a-wooden-walkway-leads-to-a-green-field-with-a-mountain-in-the-background_800563-10576.jpg\" width=300px />"
   ]
  },
  {
   "cell_type": "code",
   "execution_count": 15,
   "id": "b825769b-e41f-474c-9257-129aa20f3c07",
   "metadata": {},
   "outputs": [],
   "source": [
    "from openai import OpenAI\n",
    "\n",
    "client = OpenAI()\n",
    "response = client.chat.completions.create(\n",
    "  model=\"gpt-4o\",\n",
    "  messages=[\n",
    "    {\n",
    "      \"role\": \"user\",\n",
    "      \"content\": [\n",
    "        {\n",
    "          \"type\": \"text\",\n",
    "          \"text\": \"이 이미지에는 무엇이 들어있나요? 그들 사이에 어떤 차이가 있나요?\",\n",
    "        },\n",
    "        {\n",
    "          \"type\": \"image_url\",\n",
    "          \"image_url\": {\n",
    "            \"url\": \"https://upload.wikimedia.org/wikipedia/commons/thumb/d/dd/Gfp-wisconsin-madison-the-nature-boardwalk.jpg/2560px-Gfp-wisconsin-madison-the-nature-boardwalk.jpg\",\n",
    "          },\n",
    "        },\n",
    "        {\n",
    "          \"type\": \"image_url\",\n",
    "          \"image_url\": {\n",
    "            \"url\": \"https://img.freepik.com/premium-photo/a-wooden-walkway-leads-to-a-green-field-with-a-mountain-in-the-background_800563-10576.jpg\",\n",
    "          },\n",
    "        },\n",
    "      ],\n",
    "    }\n",
    "  ],\n",
    "  max_tokens=300,\n",
    ")"
   ]
  },
  {
   "cell_type": "code",
   "execution_count": 16,
   "id": "9457ff50-d563-49e2-a152-2d6ee4b1d2f8",
   "metadata": {},
   "outputs": [
    {
     "data": {
      "text/plain": [
       "ChatCompletion(id='chatcmpl-A6Cidhuqi39lc7RDeMDV1hiBS0MYf', choices=[Choice(finish_reason='stop', index=0, logprobs=None, message=ChatCompletionMessage(content='첫 번째 이미지와 두 번째 이미지 모두 나무로 만든 길이 있는 평야를 보여줍니다. 하지만 두 이미지 사이에는 다음과 같은 차이가 있습니다:\\n\\n1. **첫 번째 이미지**:\\n   - 배경에 푸른 하늘과 흰 구름이 보이며, 매우 맑고 밝은 날의 분위기를 담고 있습니다.\\n   - 경로 양 옆에 푸른 풀이 자라고 있어 자연의 푸르름이 돋보입니다.\\n   - 넓은 초원이나 습지 같은 느낌을 주며, 주변에 나무와 숲도 일부 포함되어 있습니다.\\n\\n2. **두 번째 이미지**:\\n   - 해질 무렵의 황혼을 배경으로 하고 있습니다. 하늘은 어두운 색조를 띠며 태양이 지고 있는 모습입니다.\\n   - 경로 양 옆에 논이나 농작물 같은 형태의 식물이 자라고 있습니다.\\n   - 멀리 보이는 산들은 자연 경관을 더욱 풍부하게 만듭니다.\\n\\n두 이미지 모두 자연 속의 길을 담고 있지만, 첫 번째 이미지는 밝고 푸르른 날씨가 강조되는 반면, 두 번째 이미지는 해질 무렵의 따뜻한 색감을 강조하고 있습니다.', role='assistant', function_call=None, tool_calls=None, refusal=None))], created=1726042223, model='gpt-4o-2024-05-13', object='chat.completion', service_tier=None, system_fingerprint='fp_992d1ea92d', usage=CompletionUsage(completion_tokens=271, prompt_tokens=1556, total_tokens=1827))"
      ]
     },
     "execution_count": 16,
     "metadata": {},
     "output_type": "execute_result"
    }
   ],
   "source": [
    "response"
   ]
  },
  {
   "cell_type": "code",
   "execution_count": 17,
   "id": "1f140a53-7758-40ee-aa7d-da3369da2df7",
   "metadata": {},
   "outputs": [
    {
     "name": "stdout",
     "output_type": "stream",
     "text": [
      "첫 번째 이미지와 두 번째 이미지 모두 나무로 만든 길이 있는 평야를 보여줍니다. 하지만 두 이미지 사이에는 다음과 같은 차이가 있습니다:\n",
      "\n",
      "1. **첫 번째 이미지**:\n",
      "   - 배경에 푸른 하늘과 흰 구름이 보이며, 매우 맑고 밝은 날의 분위기를 담고 있습니다.\n",
      "   - 경로 양 옆에 푸른 풀이 자라고 있어 자연의 푸르름이 돋보입니다.\n",
      "   - 넓은 초원이나 습지 같은 느낌을 주며, 주변에 나무와 숲도 일부 포함되어 있습니다.\n",
      "\n",
      "2. **두 번째 이미지**:\n",
      "   - 해질 무렵의 황혼을 배경으로 하고 있습니다. 하늘은 어두운 색조를 띠며 태양이 지고 있는 모습입니다.\n",
      "   - 경로 양 옆에 논이나 농작물 같은 형태의 식물이 자라고 있습니다.\n",
      "   - 멀리 보이는 산들은 자연 경관을 더욱 풍부하게 만듭니다.\n",
      "\n",
      "두 이미지 모두 자연 속의 길을 담고 있지만, 첫 번째 이미지는 밝고 푸르른 날씨가 강조되는 반면, 두 번째 이미지는 해질 무렵의 따뜻한 색감을 강조하고 있습니다.\n"
     ]
    }
   ],
   "source": [
    "print(response.choices[0].message.content)"
   ]
  },
  {
   "cell_type": "code",
   "execution_count": null,
   "id": "9e304b90-0d30-4dca-89f4-4d7c46ae346c",
   "metadata": {},
   "outputs": [],
   "source": []
  }
 ],
 "metadata": {
  "kernelspec": {
   "display_name": "Python 3 (ipykernel)",
   "language": "python",
   "name": "python3"
  },
  "language_info": {
   "codemirror_mode": {
    "name": "ipython",
    "version": 3
   },
   "file_extension": ".py",
   "mimetype": "text/x-python",
   "name": "python",
   "nbconvert_exporter": "python",
   "pygments_lexer": "ipython3",
   "version": "3.9.16"
  }
 },
 "nbformat": 4,
 "nbformat_minor": 5
}
