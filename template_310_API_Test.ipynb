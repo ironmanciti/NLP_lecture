{
 "cells": [
  {
   "cell_type": "markdown",
   "id": "afd65f74-cd7f-4c41-ad36-4242b8b82aef",
   "metadata": {},
   "source": [
    "# API Test"
   ]
  },
  {
   "cell_type": "code",
   "execution_count": null,
   "id": "b2746fe0",
   "metadata": {},
   "outputs": [],
   "source": []
  },
  {
   "cell_type": "markdown",
   "id": "98977994-33bc-4762-ac29-08d2420ec5a0",
   "metadata": {},
   "source": [
    "### 채팅 API"
   ]
  },
  {
   "cell_type": "code",
   "execution_count": null,
   "id": "6139f962",
   "metadata": {},
   "outputs": [],
   "source": []
  },
  {
   "cell_type": "code",
   "execution_count": null,
   "id": "636c43cb",
   "metadata": {},
   "outputs": [],
   "source": []
  },
  {
   "cell_type": "markdown",
   "id": "8372ebbf-b3e0-4b9e-bcf3-a9bd7d789456",
   "metadata": {},
   "source": [
    "### Embedding API"
   ]
  },
  {
   "cell_type": "code",
   "execution_count": null,
   "id": "79aff735",
   "metadata": {},
   "outputs": [],
   "source": []
  },
  {
   "cell_type": "code",
   "execution_count": null,
   "id": "75cea79a",
   "metadata": {},
   "outputs": [],
   "source": []
  },
  {
   "cell_type": "markdown",
   "id": "0d142a9b-34ac-4b55-894d-be0b49229cef",
   "metadata": {},
   "source": [
    "- 여러개의 문장의 유사도 비교"
   ]
  },
  {
   "cell_type": "code",
   "execution_count": null,
   "id": "853a930b",
   "metadata": {},
   "outputs": [],
   "source": [
    "# 텍스트 리스트\n",
    "# 임베딩 생성 함수\n",
    "def get_embedding(text):\n",
    "# 임베딩 생성\n",
    "# 코사인 유사도 계산 함수\n",
    "def cosine_similarity(vec1, vec2):\n",
    "# 코사인 유사도 계산 및 출력"
   ]
  },
  {
   "cell_type": "code",
   "execution_count": null,
   "id": "a857d084",
   "metadata": {},
   "outputs": [],
   "source": [
    "# 각 유사도를 리스트로 정리\n",
    "# 유사도를 내림차순으로 정렬하고 가장 유사한 쌍을 출력"
   ]
  },
  {
   "cell_type": "markdown",
   "id": "7ba7ad56-632b-4bc3-a0de-f7c4c05a8526",
   "metadata": {},
   "source": [
    "### Image 생성 API"
   ]
  },
  {
   "cell_type": "code",
   "execution_count": null,
   "id": "09f6609f",
   "metadata": {},
   "outputs": [],
   "source": []
  },
  {
   "cell_type": "code",
   "execution_count": null,
   "id": "02c65014",
   "metadata": {},
   "outputs": [],
   "source": []
  }
 ],
 "metadata": {
  "kernelspec": {
   "display_name": "Python 3 (ipykernel)",
   "language": "python",
   "name": "python3"
  },
  "language_info": {
   "codemirror_mode": {
    "name": "ipython",
    "version": 3
   },
   "file_extension": ".py",
   "mimetype": "text/x-python",
   "name": "python",
   "nbconvert_exporter": "python",
   "pygments_lexer": "ipython3",
   "version": "3.9.16"
  }
 },
 "nbformat": 4,
 "nbformat_minor": 5
}
