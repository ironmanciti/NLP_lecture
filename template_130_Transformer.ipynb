{
 "cells": [
  {
   "cell_type": "markdown",
   "id": "54651dc9",
   "metadata": {
    "id": "a934948f7030"
   },
   "source": [
    "# 130. Neural machine translation with a Transformer and Keras"
   ]
  },
  {
   "cell_type": "markdown",
   "id": "c29f6dfe",
   "metadata": {
    "id": "TCg3ElKBUSBb"
   },
   "source": [
    "이 튜토리얼은 Transformer 모델 을 학습시켜 포르투갈어를 영어 데이터 세트 로 번역합니다. 이것은 텍스트 생성 및 Attention 에 대한 지식을 가정한 고급 예제입니다.\n",
    "\n",
    "Transformer 모델의 핵심 아이디어는 self-attention (입력 시퀀스의 표현을 계산하기 위해 입력 시퀀스의 다른 위치에 주의를 기울이는 기능)입니다. Transformer는 self-attention 레이어의 스택을 생성하고 아래의 Scaled dot product Attention 및 Multi-head Attention 섹션에서 설명됩니다."
   ]
  },
  {
   "cell_type": "markdown",
   "id": "7f803771",
   "metadata": {
    "id": "Fo1P7AN4lzdi"
   },
   "source": [
    "<img src=\"https://www.tensorflow.org/images/tutorials/transformer/apply_the_transformer_to_machine_translation.gif\" alt=\"Applying the Transformer to machine translation\">\n",
    "\n",
    "Figure 1:Transformer를 기계 번역에 적용합니다.\n"
   ]
  },
  {
   "cell_type": "markdown",
   "id": "b4bd883c",
   "metadata": {
    "id": "RAxfGTJJYbQi"
   },
   "source": [
    "이 튜토리얼에서는 다음을 수행합니다.\n",
    "\n",
    "- 데이터 준비  \n",
    "- 필요한 구성요소 구현:  \n",
    "   - 위치 임베딩.  \n",
    "   - Attention layer.  \n",
    "   - 인코더와 디코더.  \n",
    "- Transformer를 제작 및 훈련  .\n",
    "- 번역 생성  "
   ]
  },
  {
   "cell_type": "markdown",
   "id": "2a562d15",
   "metadata": {
    "id": "ddvOmAXhaDXt"
   },
   "source": [
    "이 튜토리얼에서는  4층 Transformer를 구축합니다."
   ]
  },
  {
   "cell_type": "markdown",
   "id": "e8f2a904",
   "metadata": {
    "id": "huJ97Eh-Ue4V"
   },
   "source": [
    "이 노트북에서 모델을 훈련한 후에는 포르투갈어 문장을 입력하고 영어 번역을 반환할 수 있습니다.\n",
    "\n",
    "<img src=\"https://www.tensorflow.org/images/tutorials/transformer/attention_map_portuguese.png\" alt=\"Attention heatmap\">\n",
    "\n",
    "Figure 2: 이 튜토리얼이 끝나면 생성할 수 있는 시각화된 Attention 가중치."
   ]
  },
  {
   "cell_type": "markdown",
   "id": "23ed93da",
   "metadata": {
    "id": "swymtxpl7W7w"
   },
   "source": [
    "## Setup"
   ]
  },
  {
   "cell_type": "code",
   "execution_count": null,
   "id": "7cc436eb",
   "metadata": {},
   "outputs": [],
   "source": [
    "# 개선된 기능을 사용하려면 TensorFlow의 최신 버전을 설치하세요.\n",
    "# `tf.keras.layers.MultiHeadAttention`에 대한 마스킹 지원."
   ]
  },
  {
   "cell_type": "code",
   "execution_count": null,
   "id": "a25ad913",
   "metadata": {},
   "outputs": [],
   "source": []
  },
  {
   "cell_type": "markdown",
   "id": "eb9d4df2",
   "metadata": {
    "id": "Xf_WUi2HLhzf"
   },
   "source": [
    "## 데이터 처리\n",
    "\n",
    "이 섹션에서는 데이터 세트와 하위 단어 토크나이저를 다운로드하고 훈련을 위해 `tf.data.Dataset`에 래핑합니다."
   ]
  },
  {
   "cell_type": "markdown",
   "id": "e40d5e31",
   "metadata": {
    "id": "-cCvXbPkccV1"
   },
   "source": [
    "### Download the dataset"
   ]
  },
  {
   "cell_type": "markdown",
   "id": "6ed7f5a4",
   "metadata": {
    "id": "LTEVgBxklzdq"
   },
   "source": [
    "TensorFlow 데이터세트를 사용하여 포르투갈어-영어 번역 데이터세트를 로드합니다. 이 데이터 세트에는 약 52,000개의 훈련, 1,200개의 검증 및 1,800개의 테스트 예제가 포함되어 있습니다."
   ]
  },
  {
   "cell_type": "code",
   "execution_count": null,
   "id": "f9732d6e",
   "metadata": {},
   "outputs": [],
   "source": [
    "# 'ted_hrlr_translate/pt_to_en' 데이터셋 로드\n",
    "# 훈련 및 검증 예제 분리"
   ]
  },
  {
   "cell_type": "markdown",
   "id": "94cdf6f0",
   "metadata": {
    "id": "ZA4cw7F_DmSt"
   },
   "source": [
    "TensorFlow Datasets에서 반환된 `tf.data.Dataset` 객체는 텍스트 예제 쌍을 생성합니다."
   ]
  },
  {
   "cell_type": "code",
   "execution_count": null,
   "id": "82f64add",
   "metadata": {},
   "outputs": [],
   "source": [
    "# 훈련 데이터셋에서 포르투갈어 및 영어 예제 출력"
   ]
  },
  {
   "cell_type": "markdown",
   "id": "a1206cc9",
   "metadata": {
    "id": "eJxTd6aVnZyh"
   },
   "source": [
    "### Tokenizer Set up"
   ]
  },
  {
   "cell_type": "markdown",
   "id": "3ca2b35a",
   "metadata": {
    "id": "Mopr6oKUlzds"
   },
   "source": [
    "이제 데이터세트를 로드했으므로 각 요소가 토큰 ID(a)로 표시되도록 텍스트를 토큰화해야 합니다."
   ]
  },
  {
   "cell_type": "markdown",
   "id": "0de3c5b1",
   "metadata": {
    "id": "GJr_8Jz9FKgu"
   },
   "source": [
    "이 튜토리얼에서는 [서브워드 토크나이저](https://www.tensorflow.org/text/guide/subwords_tokenizer) 튜토리얼에 내장된 토크나이저를 사용합니다."
   ]
  },
  {
   "cell_type": "code",
   "execution_count": null,
   "id": "b5b48b0f",
   "metadata": {},
   "outputs": [],
   "source": [
    "# 'ted_hrlr_translate_pt_en_converter' 모델 다운로드 및 압축 해제"
   ]
  },
  {
   "cell_type": "code",
   "execution_count": null,
   "id": "e3edad61",
   "metadata": {},
   "outputs": [],
   "source": [
    "# 저장된 모델 로드"
   ]
  },
  {
   "cell_type": "markdown",
   "id": "5b6b9319",
   "metadata": {
    "id": "CexgkIS1lzdt"
   },
   "source": [
    "`tf.saved_model`에는 두 개의 텍스트 토크나이저가 포함되어 있습니다. 하나는 영어용이고 다른 하나는 포르투갈어용입니다. 둘 다 동일한 방법을 사용합니다."
   ]
  },
  {
   "cell_type": "code",
   "execution_count": null,
   "id": "c620761f",
   "metadata": {},
   "outputs": [],
   "source": [
    "# tokenizers.en 객체의 사용 가능한 메소드와 속성 리스트 출력"
   ]
  },
  {
   "cell_type": "markdown",
   "id": "f665ed1c",
   "metadata": {
    "id": "fUBljDDEFWUC"
   },
   "source": [
    "`tokenize` 메서드는 문자열 배치를 패딩된 토큰 ID 배치로 변환합니다. 이 방법은 토큰화하기 전에 입력을 구두점, 소문자로 나누고 유니코드 정규화합니다."
   ]
  },
  {
   "cell_type": "code",
   "execution_count": null,
   "id": "0f2cdf7e",
   "metadata": {},
   "outputs": [],
   "source": [
    "# TensorFlow 데이터셋에서 로드한 배치의 영어 문장 출력"
   ]
  },
  {
   "cell_type": "code",
   "execution_count": null,
   "id": "45bb595b",
   "metadata": {},
   "outputs": [],
   "source": [
    "# 로드된 토크나이저를 사용하여 영어 문장을 토큰 ID로 변환\n",
    "# 패딩된 토큰 ID의 배치 출력"
   ]
  },
  {
   "cell_type": "markdown",
   "id": "2b29aee6",
   "metadata": {
    "id": "nBkv7XeBFa8_"
   },
   "source": [
    "`detokenize` 메소드는 이러한 토큰 ID를 사람이 읽을 수 있는 텍스트로 다시 변환 합니다."
   ]
  },
  {
   "cell_type": "code",
   "execution_count": null,
   "id": "9c1320c7",
   "metadata": {},
   "outputs": [],
   "source": [
    "# 토큰 ID를 다시 사람이 읽을 수 있는 텍스트로 변환\n",
    "# 변환된 텍스트 출력"
   ]
  },
  {
   "cell_type": "markdown",
   "id": "2f43f205",
   "metadata": {
    "id": "G-2gMSBBU-AE"
   },
   "source": [
    "하위 수준 `lookup` 메서드는 토큰 ID를 토큰 텍스트로 변환합니다."
   ]
  },
  {
   "cell_type": "code",
   "execution_count": null,
   "id": "5dc93923",
   "metadata": {},
   "outputs": [],
   "source": [
    "# 토큰 ID를 다시 개별 토큰으로 변환"
   ]
  },
  {
   "cell_type": "markdown",
   "id": "5d84aaf9",
   "metadata": {
    "id": "pR3vZJf1Yhg_"
   },
   "source": [
    "출력은 하위 단어 토큰화의 \"subword\" 측면을 보여줍니다.\n",
    "\n",
    "예를 들어 'searchability''라는 단어는 'search''와 ''##ability''로 분해되고, 'serendipity''라는 단어는 ''s'', ''##ere'', ``##nd'`, ``##ip'` 및 ``##ity'`로 분해됩니다.\n",
    "\n",
    "토큰화된 텍스트에는 `'[START]'` 및 `'[END]'` 토큰이 포함되어 있습니다."
   ]
  },
  {
   "cell_type": "markdown",
   "id": "121ab16e",
   "metadata": {
    "id": "nWLYbGcpS0Ji"
   },
   "source": [
    "\"Transformer is awesome.\"을 tokenize 하면 다음과 같습니다."
   ]
  },
  {
   "cell_type": "code",
   "execution_count": null,
   "id": "6af8d778",
   "metadata": {},
   "outputs": [],
   "source": []
  },
  {
   "cell_type": "markdown",
   "id": "d61b87c4",
   "metadata": {
    "id": "g_4vdnhSaATh"
   },
   "source": [
    "데이터 세트의 example당 토큰 분포는 다음과 같습니다."
   ]
  },
  {
   "cell_type": "code",
   "execution_count": null,
   "id": "286a81a8",
   "metadata": {},
   "outputs": [],
   "source": [
    "# 포르투갈어와 영어 문장들의 토큰 개수를 저장할 리스트\n",
    "# 훈련 데이터셋의 배치를 순회하며 토큰 개수 계산\n",
    "  # 포르투갈어 문장 토큰화 및 토큰 개수 저장\n",
    "  # 영어 문장 토큰화 및 토큰 개수 저장"
   ]
  },
  {
   "cell_type": "code",
   "execution_count": null,
   "id": "28b7c2da",
   "metadata": {},
   "outputs": [],
   "source": [
    "# 모든 토큰 개수를 하나의 배열로 결합\n",
    "# 히스토그램으로 토큰 개수 분포 시각화\n",
    "# 가장 긴 문장의 토큰 개수 표시\n",
    "# 그래프 제목 설정"
   ]
  },
  {
   "cell_type": "markdown",
   "id": "e6c0d53d",
   "metadata": {
    "id": "-Yb35sTJcZq9"
   },
   "source": [
    "### `tf.data`를 사용하여 데이터 파이프라인 설정"
   ]
  },
  {
   "cell_type": "markdown",
   "id": "3cccf396",
   "metadata": {
    "id": "JZHsns5obJhN"
   },
   "source": [
    "다음 함수는 텍스트 배치를 입력으로 사용하여 훈련에 적합한 형식으로 변환합니다.\n",
    "\n",
    "1. 텍스트 배치를  ragged batch로 토큰화합니다.\n",
    "2. `MAX_TOKENS`보다 길지 않도록 자릅니다.  \n",
    "3. 대상(영어) 토큰을 입력과 레이블로 분할합니다. 이는 각 입력 위치에서 '레이블'이 다음 토큰의 ID가 되도록 한 단계씩 이동됩니다.  \n",
    "4. `RaggedTensor`를 패딩된 dense `Tensor`로 변환합니다.  \n",
    "5. `(inputs, labels)` 쌍을 반환합니다.  \n",
    "\n",
    "\"Ragged batch\"는 TensorFlow에서 사용되는 용어로, 각 요소의 길이가 서로 다른 배치를 의미합니다. 이는 특히 자연어 처리에서 문장 또는 문서의 길이가 서로 다를 때 이를 표현하기 위해 사용됩니다.\n",
    " RaggedTensor는 이러한 가변 길이 시퀀스를 효율적으로 저장하고 처리할 수 있도록 설계되었습니다."
   ]
  },
  {
   "cell_type": "code",
   "execution_count": null,
   "id": "1e243564",
   "metadata": {},
   "outputs": [],
   "source": []
  },
  {
   "cell_type": "code",
   "execution_count": null,
   "id": "1255968d",
   "metadata": {},
   "outputs": [],
   "source": [
    "def prepare_batch(pt, en):\n",
    "    # 포르투갈어 문장 토큰화 및 최대 토큰 수에 맞게 잘라내기\n",
    "    # 영어 문장 토큰화 및 최대 토큰 수에 맞게 잘라내기"
   ]
  },
  {
   "cell_type": "markdown",
   "id": "a532dfa7",
   "metadata": {
    "id": "dAroQ6xelzdx"
   },
   "source": [
    "아래 함수는 텍스트 예제 데이터 세트를 학습용 배치 데이터로 변환합니다.\n",
    "\n",
    "1. 텍스트를 토큰화하고 너무 긴 시퀀스를 필터링합니다.  \n",
    "2. `cache` 메소드는 해당 작업이 한 번만 실행되도록 보장합니다.  \n",
    "3. 그런 다음 `shuffle` 및 `dense_to_ragged_batch`를 통해 순서를 무작위로 지정하고 예제 배치를 어셈블합니다.  \n",
    "4. 마지막으로 'prefetch'는 모델과 병렬로 데이터세트를 실행하여 필요할 때 데이터를 사용할 수 있도록 합니다."
   ]
  },
  {
   "cell_type": "code",
   "execution_count": null,
   "id": "8a07bb0d",
   "metadata": {},
   "outputs": [],
   "source": []
  },
  {
   "cell_type": "code",
   "execution_count": null,
   "id": "5d080091",
   "metadata": {},
   "outputs": [],
   "source": [
    "def make_batches(ds):"
   ]
  },
  {
   "cell_type": "markdown",
   "id": "6110000b",
   "metadata": {
    "id": "FX_h3tCnwgR4"
   },
   "source": [
    " </section>"
   ]
  },
  {
   "cell_type": "markdown",
   "id": "91d3f0b5",
   "metadata": {
    "id": "itSWqk-ivrRg"
   },
   "source": [
    "## Dataset 테스트"
   ]
  },
  {
   "cell_type": "code",
   "execution_count": null,
   "id": "3604a21e",
   "metadata": {},
   "outputs": [],
   "source": [
    "# 훈련 및 검증 데이터셋을 배치로 변환"
   ]
  },
  {
   "cell_type": "markdown",
   "id": "6ee53d33",
   "metadata": {
    "id": "PSufllC7wooA"
   },
   "source": [
    "Keras `Model.fit` train 에서는 `(입력, 레이블)` 쌍을 예상합니다.\n",
    "`입력`은 토큰화된 포르투갈어 및 영어 시퀀스 쌍 `(pt, en)`입니다.\n",
    "'레이블'은 1만큼 이동된 동일한 영어 시퀀스입니다.\n",
    "이러한 변화는 각 위치에서 다음 토큰의 'label'인 'en' 시퀀스를 입력하도록 하기 위한 것입니다."
   ]
  },
  {
   "cell_type": "markdown",
   "id": "ee5ae6e3",
   "metadata": {
    "id": "JJdJttsF751"
   },
   "source": [
    "<table>\n",
    "<tr>\n",
    "  <th>Inputs at the bottom, labels at the top.</th>\n",
    "</tr>\n",
    "<tr>\n",
    "  <td>\n",
    "   <img width=400 src=\"https://www.tensorflow.org/images/tutorials/transformer/Transformer-1layer-words.png\"/>\n",
    "  </td>\n",
    "</tr>\n",
    "</table>"
   ]
  },
  {
   "cell_type": "markdown",
   "id": "f05d6823",
   "metadata": {
    "id": "tsF751JJdJt"
   },
   "source": [
    "이 설정은 각 단계의 모델 출력에 관계없이 다음 단계의 입력으로 실제 값을 얻기 때문에 \"teacher forcing\"이라고 합니다.\n",
    "이는 텍스트 생성 모델을 교육하는 간단하고 효율적인 방법입니다.\n",
    "모델을 순차적으로 실행할 필요가 없고, 서로 다른 시퀀스 위치의 출력을 병렬로 계산할 수 있으므로 효율적입니다.\n",
    "\n",
    "포르투갈어 시퀀스가 주어지면 모델은 영어 시퀀스를 생성하려고 시도합니다.  \n",
    "\n",
    "추론 루프를 작성하고 모델의 출력을 입력으로 다시 전달해야 합니다.  \n",
    "모델은 훈련 중에 자체 오류를 수정하는 방법을 배워야 하기 때문에 보다 안정적인 모델을 제공할 수 있습니다."
   ]
  },
  {
   "cell_type": "code",
   "execution_count": null,
   "id": "32276153",
   "metadata": {},
   "outputs": [],
   "source": [
    "# 훈련 배치의 첫 번째 요소 가져오기\n",
    "# 포르투갈어 입력, 영어 입력, 영어 레이블의 shape 출력"
   ]
  },
  {
   "cell_type": "markdown",
   "id": "0c72f2ff",
   "metadata": {
    "id": "Tzo3JKaqx46g"
   },
   "source": [
    "`en`과 `en_labels`는 동일하며 한자리만 shift 했습니다."
   ]
  },
  {
   "cell_type": "code",
   "execution_count": null,
   "id": "f3b8055d",
   "metadata": {},
   "outputs": [],
   "source": []
  },
  {
   "cell_type": "markdown",
   "id": "39b9864c",
   "metadata": {
    "id": "7e7hKcxn6-zd"
   },
   "source": [
    "## 구성 요소 정의"
   ]
  },
  {
   "cell_type": "markdown",
   "id": "268b0b66",
   "metadata": {
    "id": "O0R4bYJ0DiFR"
   },
   "source": [
    "<table>\n",
    "<tr>\n",
    "  <th colspan=1>The original Transformer diagram</th>\n",
    "  <th colspan=1>A representation of a 4-layer Transformer</th>\n",
    "</tr>\n",
    "<tr>\n",
    "  <td>\n",
    "   <img width=400 src=\"https://www.tensorflow.org/images/tutorials/transformer/transformer.png\"/>\n",
    "  </td>\n",
    "  <td>\n",
    "   <img width=307 src=\"https://www.tensorflow.org/images/tutorials/transformer/Transformer-4layer-compact.png\"/>\n",
    "  </td>\n",
    "</tr>\n",
    "</table>"
   ]
  },
  {
   "cell_type": "markdown",
   "id": "a1660e41",
   "metadata": {
    "id": "YS75Y-9-lkzn"
   },
   "source": [
    "### embedding 및 positional encoding layer"
   ]
  },
  {
   "cell_type": "markdown",
   "id": "b0ec0815",
   "metadata": {
    "id": "26l90xiq3Nis"
   },
   "source": [
    "인코더와 디코더에 대한 입력은 동일한 임베딩 및 위치 인코딩 logic을 사용합니다.\n",
    "\n",
    "<table>\n",
    "<tr>\n",
    "  <th colspan=1>The embedding and positional encoding layer</th>\n",
    "<tr>\n",
    "<tr>\n",
    "  <td>\n",
    "   <img src=\"https://www.tensorflow.org/images/tutorials/transformer/PositionalEmbedding.png\"/>\n",
    "  </td>\n",
    "</tr>\n",
    "</table>"
   ]
  },
  {
   "cell_type": "markdown",
   "id": "199152a0",
   "metadata": {
    "id": "279u2DiDlmdS"
   },
   "source": [
    "일련의 토큰이 주어지면 입력 토큰(포르투갈어)과 대상 토큰(영어) 모두 `tf.keras.layers.Embedding` 레이어를 사용하여 벡터로 변환되어야 합니다.\n",
    "\n",
    "모델 전체에 사용되는 Attention 레이어는 입력을 순서가 없는 벡터 집합으로 간주합니다. 모델에는 순환 또는 컨벌루션 레이어가 포함되어 있지 않기 때문에 단어 순서를 식별할 수 있는 방법이 필요합니다.\n",
    "\n",
    "Transformer는 임베딩 벡터에 \"위치 인코딩\"을 추가합니다. 이는 (시퀀스 전반에 걸쳐) 서로 다른 주파수의 사인과 코사인 세트를 사용합니다."
   ]
  },
  {
   "cell_type": "markdown",
   "id": "7a3d0cda",
   "metadata": {
    "id": "4gcCNZP7lzdy"
   },
   "source": [
    "논문에서는 위치 인코딩을 계산하기 위해 다음 공식을 사용합니다.\n",
    "\n",
    "$$\\Large{PE_{(pos, 2i)} = \\sin(pos / 10000^{2i / d_{model}})} $$\n",
    "$$\\Large{PE_{(pos, 2i+1)} = \\cos(pos / 10000^{2i / d_{model}})} $$"
   ]
  },
  {
   "cell_type": "code",
   "execution_count": null,
   "id": "62fb72f6",
   "metadata": {},
   "outputs": [],
   "source": [
    "def positional_encoding(length, depth):\n",
    "  # 각 위치에 대한 인덱스 생성\n",
    "  # 각 깊이에 대한 각도 비율 계산\n",
    "  # sin과 cos을 사용하여 위치 인코딩 생성\n",
    "  # 결과를 TensorFlow 텐서로 변환"
   ]
  },
  {
   "cell_type": "markdown",
   "id": "374a9e6b",
   "metadata": {
    "id": "Ra1IcbzFhnmF"
   },
   "source": [
    "위치 인코딩 기능은 임베딩 벡터의 깊이를 따라 위치에 대해 서로 다른 주파수에서 진동하는 사인과 코사인의 스택입니다. position 축을 따라 진동합니다."
   ]
  },
  {
   "cell_type": "code",
   "execution_count": null,
   "id": "4d616d19",
   "metadata": {},
   "outputs": [],
   "source": [
    "# 위치 인코딩 생성\n",
    "# 생성된 위치 인코딩의 형상 확인\n",
    "# 위치 인코딩 시각화"
   ]
  },
  {
   "cell_type": "markdown",
   "id": "9bfeb908",
   "metadata": {
    "id": "LUknPLlVm99o"
   },
   "source": [
    "따라서 이를 사용하여 토큰의 임베딩 벡터를 조회하고 위치 벡터를 추가하는 `PositionEmbedding` 레이어를 만듭니다."
   ]
  },
  {
   "cell_type": "code",
   "execution_count": null,
   "id": "e1fe9fa8",
   "metadata": {},
   "outputs": [],
   "source": [
    "#positional_encoding 함수는 길이가 2048, 깊이가 512인 위치 인코딩 행렬을 생성합니다.\n",
    "class PositionalEmbedding(tf.keras.layers.Layer):\n",
    "  def __init__(self, vocab_size, d_model):\n",
    "  def compute_mask(self, *args, **kwargs):\n",
    "    # 마스크 계산 (패딩된 부분을 모델이 무시하도록 함)\n",
    "  def call(self, x):"
   ]
  },
  {
   "cell_type": "code",
   "execution_count": null,
   "id": "83688741",
   "metadata": {},
   "outputs": [],
   "source": [
    "# 포르투갈어와 영어를 위한 위치 인코딩 임베딩 레이어 생성\n",
    "# 포르투갈어 입력에 대한 임베딩 적용\n",
    "# 영어 입력에 대한 임베딩 적용"
   ]
  },
  {
   "cell_type": "code",
   "execution_count": null,
   "id": "4df2bc83",
   "metadata": {},
   "outputs": [],
   "source": [
    "# 영어 임베딩 레이어의 마스크 속성 확인"
   ]
  },
  {
   "cell_type": "markdown",
   "id": "c019d509",
   "metadata": {
    "id": "mE9cEBWCMKOP"
   },
   "source": [
    "### Add and normalize\n",
    "\n",
    "<table>\n",
    "<tr>\n",
    "  <th colspan=2>Add and normalize</th>\n",
    "<tr>\n",
    "<tr>\n",
    "  <td>\n",
    "   <img src=\"https://www.tensorflow.org/images/tutorials/transformer/Add+Norm.png\"/>\n",
    "  </td>\n",
    "</tr>\n",
    "</table>"
   ]
  },
  {
   "cell_type": "markdown",
   "id": "6d777eea",
   "metadata": {
    "id": "lfz3WjFLTEk_"
   },
   "source": [
    "\"Add & Norm\" 블록은 모델 전체에 분산되어 있습니다. 각각은 잔차 연결을 결합하고 `LayerNormalization` 레이어를 통해 결합한 결과를 실행합니다.\n",
    "잔차 연결은 그래디언트에 대한 직접적인 경로를 제공하며 정규화는 출력에 대한 합리적인 scale을 유지합니다."
   ]
  },
  {
   "cell_type": "markdown",
   "id": "73ab9f26",
   "metadata": {
    "id": "vJAJ2_VlPXrZ"
   },
   "source": [
    "### 기본 attention layer"
   ]
  },
  {
   "cell_type": "markdown",
   "id": "92333731",
   "metadata": {
    "id": "1tMGOGki35KI"
   },
   "source": [
    "Attention 레이어는 모델 전반에 걸쳐 사용됩니다. Attention이 구성되는 방식을 제외하고는 모두 동일합니다. 각각은 'layers.MultiHeadAttention', 'layers.LayerNormalization' 및 'layers.Add'를 포함합니다.\n",
    "\n",
    "<table>\n",
    "<tr>\n",
    "  <th colspan=2>The base attention layer</th>\n",
    "<tr>\n",
    "<tr>\n",
    "  <td>\n",
    "   <img src=\"https://www.tensorflow.org/images/tutorials/transformer/BaseAttention.png\"/>\n",
    "  </td>\n",
    "</tr>\n",
    "</table>\n",
    "\n",
    "- MultiHeadAttention: 다중 헤드 어텐션 메커니즘을 구현하는 레이어입니다. 이 레이어는 시퀀스 내의 각 위치가 다른 위치의 정보를 어떻게 참조하는지를 학습합니다.  \n",
    "- LayerNormalization: 각 레이어의 출력을 정규화하는 레이어입니다. 이는 모델의 학습 안정성과 성능을 향상시킵니다.  \n",
    "- Add: 두 입력을 더하는 레이어로, 여기서는 잔차 연결(residual connection)을 구현하는 데 사용됩니다."
   ]
  },
  {
   "cell_type": "code",
   "execution_count": null,
   "id": "03c1e887",
   "metadata": {},
   "outputs": [],
   "source": [
    "class BaseAttention(tf.keras.layers.Layer):\n",
    "  def __init__(self, **kwargs):\n",
    "    # 다중 헤드 어텐션(MultiHeadAttention) 레이어 초기화\n",
    "    # 레이어 정규화(LayerNormalization) 레이어 초기화\n",
    "    # 덧셈(Add) 레이어 초기화"
   ]
  },
  {
   "cell_type": "markdown",
   "id": "de8dbb89",
   "metadata": {
    "id": "wBY06TCqV2lv"
   },
   "source": [
    "#### Attention 작동 원리"
   ]
  },
  {
   "cell_type": "markdown",
   "id": "1dc5f4f7",
   "metadata": {
    "id": "5BsRsq4TV5FY"
   },
   "source": [
    "<table>\n",
    "<tr>\n",
    "  <th colspan=1>The base attention layer</th>\n",
    "</tr>\n",
    "<tr>\n",
    "  <td>\n",
    "   <img width=430 src=\"https://www.tensorflow.org/images/tutorials/transformer/BaseAttention-new.png\"/>\n",
    "  </td>\n",
    "</tr>\n",
    "</table>"
   ]
  },
  {
   "cell_type": "markdown",
   "id": "44c61c3f",
   "metadata": {
    "id": "AtGTy7vZ5aaT"
   },
   "source": [
    "두 가지 입력이 있습니다.\n",
    "\n",
    "1. query sequence; 처리 중인 시퀀스; attention을 하는 sequence(아래).\n",
    "2. context sequence; attention 당하는 sequence(왼쪽).\n",
    "\n",
    "출력은 쿼리 시퀀스와 동일한 모양을 갖습니다.\n",
    "\n",
    "일반적인 비교는 이 작업이 dictionary 조회와 같다는 것입니다.\n",
    "이 dictionary 조회는 '퍼지(fuzzy)'하고 '미분 가능(differentiable)'하며 '벡터화(vectorized)'된 형태의 사전 조회라고 할 수 있습니다.  \n",
    " '퍼지'는 모호하거나 불확실한 정보를 처리할 수 있다는 의미이며, '미분 가능'은 연산이 최적화 과정에서 그래디언트를 통해 학습될 수 있음을 의미합니다. '벡터화'는 연산이 전체 시퀀스에 대해 동시에 수행되며, 각 요소가 벡터 형태의 데이터로 처리된다는 것을 나타냅니다.\n",
    "\n",
    "다음은 단일 쿼리에 3개의 키와 3개의 값이 전달되는 일반 Python 사전입니다.\n",
    "\n",
    "```\n",
    "d = {'color': 'blue', 'age': 22, 'type': 'pickup'}\n",
    "result = d['color']\n",
    "```\n",
    "\n",
    "- 'query'는 당신이 찾으려는 것입니다.\n",
    "- 'key'는 사전이 어떤 정보를 가지고 있는지를 나타냅니다.\n",
    "- 'value'는 바로 그 정보입니다.\n",
    "\n",
    "일반 dictionary에서 '쿼리'를 조회하면 dictionary는 일치하는 '키'를 찾아 관련 '값'을 반환합니다.  \n",
    "키가 완벽하게 일치할 필요가 없는 **모호한(fuzzy)**한 dictionary를 상상할 수 있습니다.\n",
    "위 사전에서 `d[\"species\"]`를 검색했다면 검색어에 가장 잘 일치하는 `\"pickup\"`을 반환하기를 원할 수 있습니다.\n",
    "\n",
    "Attention 레이어는 이와 같은 퍼지 조회를 수행하지만 단지 최상의 키를 찾는 것이 아닙니다.\n",
    "'쿼리'가 각 '키'와 얼마나 잘 일치하는지에 따라 '값'을 결합합니다.\n",
    "\n",
    " Attention 레이어에서 '쿼리', '키', '값'은 각각 벡터입니다.\n",
    "해시 조회를 수행하는 대신 어텐션 레이어는 '쿼리'와 '키' 벡터를 결합하여 이들이 얼마나 잘 일치하는지, 즉 \"어텐션 점수\"를 결정합니다.\n",
    "레이어는 'attention score'에 따라 가중치를 적용하여 모든 '값'에 대한 평균을 반환합니다.\n",
    "\n",
    "쿼리 시퀀스의 각 위치는 '쿼리' 벡터를 제공합니다.\n",
    "컨텍스트 시퀀스는 사전 역할을 합니다. 컨텍스트 시퀀스의 각 위치에는 '키' 및 '값' 벡터가 제공됩니다.\n",
    "입력 벡터는 직접 사용되지 않습니다. 'layers.MultiHeadAttention' 레이어에는 입력 벡터를 사용하기 전에 투영(projection)하기 위한 'layers.Dense' 레이어가 포함되어 있습니다.\n"
   ]
  },
  {
   "cell_type": "markdown",
   "id": "93a0d050",
   "metadata": {
    "id": "B7QcPJvmv6ix"
   },
   "source": [
    "### cross attention layer"
   ]
  },
  {
   "cell_type": "markdown",
   "id": "06627077",
   "metadata": {
    "id": "o8VJZqds37QC"
   },
   "source": [
    "Transformer의 문자 그대로 중심에는 Cross-Attention 레이어가 있습니다. 이 레이어는 인코더와 디코더를 연결합니다.\n",
    "\n",
    "<table>\n",
    "<tr>\n",
    "  <th colspan=1>The cross attention layer</th>\n",
    "<tr>\n",
    "<tr>\n",
    "  <td>\n",
    "   <img src=\"https://www.tensorflow.org/images/tutorials/transformer/CrossAttention.png\"/>\n",
    "  </td>\n",
    "</tr>\n",
    "</table>"
   ]
  },
  {
   "cell_type": "markdown",
   "id": "4e027b14",
   "metadata": {
    "id": "jhscgMUNUFWP"
   },
   "source": [
    "이를 구현하려면 `mha` 레이어를 호출할 때 대상 시퀀스 `x`를 `쿼리`로 전달하고 `컨텍스트` 시퀀스를 `key/value`로 전달합니다."
   ]
  },
  {
   "cell_type": "code",
   "execution_count": null,
   "id": "a4a62a14",
   "metadata": {},
   "outputs": [],
   "source": [
    "class CrossAttention(BaseAttention):\n",
    "  def call(self, x, context):\n",
    "    # 다중 헤드 어텐션을 쿼리, 키, 값에 적용\n",
    "    # 어텐션 점수를 나중에 시각화하기 위해 저장\n",
    "    # 어텐션 출력과 입력을 더하고, 레이어 정규화 적용"
   ]
  },
  {
   "cell_type": "markdown",
   "id": "5a0c0890",
   "metadata": {
    "id": "j3tJU6aTYY1X"
   },
   "source": [
    "아래 그림은 정보가 이 계층을 통해 어떻게 흐르는지 보여줍니다. 열은 컨텍스트 시퀀스에 대한 가중치 합계를 나타냅니다.\n",
    "\n",
    "단순화를 위해 잔차 연결은 표시되지 않습니다."
   ]
  },
  {
   "cell_type": "markdown",
   "id": "7501a8d1",
   "metadata": {
    "id": "VBE5JNB26OjJ"
   },
   "source": [
    "<table>\n",
    "<tr>\n",
    "  <th>The cross attention layer</th>\n",
    "</tr>\n",
    "<tr>\n",
    "  <td>\n",
    "   <img width=430 src=\"https://www.tensorflow.org/images/tutorials/transformer/CrossAttention-new-full.png\"/>\n",
    "  </td>\n",
    "</tr>\n",
    "</table>"
   ]
  },
  {
   "cell_type": "markdown",
   "id": "5d3ce345",
   "metadata": {
    "id": "sU9MeSvzZSA-"
   },
   "source": [
    "출력 길이는 'query' 시퀀스의 길이이며, 컨텍스트 'key/value' 시퀀스의 길이는 아닙니다.\n",
    "\n",
    "아래 다이어그램은 더욱 단순화되었습니다. 전체 \"attention score\" 행렬을 그릴 필요는 없습니다.\n",
    "요점은 각 'query' 위치가 컨텍스트의 모든 'key/value' 쌍을 볼 수 있지만 query 간에 정보가 교환되지는 않는다는 것입니다."
   ]
  },
  {
   "cell_type": "markdown",
   "id": "c0a3695b",
   "metadata": {
    "id": "GRrB_GcyKv-4"
   },
   "source": [
    "<table>\n",
    "<tr>\n",
    "  <th>Each query sees the whole context.</th>\n",
    "</tr>\n",
    "<tr>\n",
    "  <td>\n",
    "   <img width=430 src=\"https://www.tensorflow.org/images/tutorials/transformer/CrossAttention-new.png\"/>\n",
    "  </td>\n",
    "</tr>\n",
    "</table>"
   ]
  },
  {
   "cell_type": "markdown",
   "id": "8c8387d4",
   "metadata": {
    "id": "BCQsj7ljKv-4"
   },
   "source": [
    "sample input을 시험삼아 수행해 봅니다."
   ]
  },
  {
   "cell_type": "code",
   "execution_count": null,
   "id": "8aea2674",
   "metadata": {},
   "outputs": [],
   "source": [
    "# CrossAttention 레이어 예시 생성\n",
    "# 포르투갈어와 영어 임베딩의 형상 출력\n",
    "# CrossAttention 레이어를 영어 및 포르투갈어 임베딩에 적용하고 결과 형상 출력"
   ]
  },
  {
   "cell_type": "markdown",
   "id": "6c6ee960",
   "metadata": {
    "id": "J6qrQxSpv34R"
   },
   "source": [
    "### global self attention layer"
   ]
  },
  {
   "cell_type": "markdown",
   "id": "48dc306f",
   "metadata": {
    "id": "z-LbLRTkaTh5"
   },
   "source": [
    "이 계층은 컨텍스트 시퀀스를 처리하고 해당 길이에 따라 정보를 전파하는 역할을 담당합니다."
   ]
  },
  {
   "cell_type": "markdown",
   "id": "7e18ee72",
   "metadata": {
    "id": "YlYBQX3E388Y"
   },
   "source": [
    "<table>\n",
    "<tr>\n",
    "  <th colspan=1>The global self attention layer</th>\n",
    "<tr>\n",
    "<tr>\n",
    "  <td>\n",
    "   <img src=\"https://www.tensorflow.org/images/tutorials/transformer/SelfAttention.png\"/>\n",
    "  </td>\n",
    "</tr>\n",
    "</table>"
   ]
  },
  {
   "cell_type": "markdown",
   "id": "b485be5a",
   "metadata": {
    "id": "XXQphxCkxKdW"
   },
   "source": [
    "GlobalSelfAttention 클래스는 BaseAttention을 상속받아 구현됩니다.  \n",
    "call 메소드는 레이어의 입력(x)을 받아 처리합니다. 여기서 self.mha는 다중 헤드 어텐션 레이어로, 쿼리(query), 키(key), 값(value) 모두 동일한 입력 x를 사용합니다. 이는 셀프 어텐션 메커니즘을 구현하는 것으로, 입력 시퀀스 내의 각 위치가 서로의 정보를 참조합니다."
   ]
  },
  {
   "cell_type": "code",
   "execution_count": null,
   "id": "b1eb8e67",
   "metadata": {},
   "outputs": [],
   "source": [
    "class GlobalSelfAttention(BaseAttention):\n",
    "  def call(self, x):\n",
    "    # 셀프 어텐션: 쿼리, 키, 값 모두 동일한 입력 x를 사용\n",
    "    # 어텐션 결과와 원래 입력을 더함 (잔차 연결)\n",
    "    # 레이어 정규화 적용"
   ]
  },
  {
   "cell_type": "code",
   "execution_count": null,
   "id": "178dcce5",
   "metadata": {},
   "outputs": [],
   "source": [
    "# GlobalSelfAttention 레이어 예시 생성\n",
    "# num_heads=2, key_dim=512인 샘플 글로벌 셀프 어텐션 레이어(sample_gsa) 생성\n",
    "# 포르투갈어 임베딩의 형상 출력\n",
    "# GlobalSelfAttention 레이어를 포르투갈어 임베딩에 적용하고 결과 형상 출력"
   ]
  },
  {
   "cell_type": "markdown",
   "id": "df020955",
   "metadata": {
    "id": "nd-ga2tQfzhE"
   },
   "source": [
    "다음과 같이 그릴 수 있습니다."
   ]
  },
  {
   "cell_type": "markdown",
   "id": "58b373ff",
   "metadata": {
    "id": "F1bcv9Zc6--k"
   },
   "source": [
    "<table>\n",
    "<tr>\n",
    "  <th colspan=1>The global self attention layer</th>\n",
    "<tr>\n",
    "<tr>\n",
    "  <td>\n",
    "   <img width=330 src=\"https://www.tensorflow.org/images/tutorials/transformer/SelfAttention-new-full.png\"/>\n",
    "  </td>\n",
    "</tr>\n",
    "</table>"
   ]
  },
  {
   "cell_type": "markdown",
   "id": "7bd100af",
   "metadata": {
    "id": "ze7D0WHOe-d8"
   },
   "source": [
    "잔여 연결은 생략되었습니다.\n",
    "다음과 같이 그리는 것이 더 간결하고 정확합니다."
   ]
  },
  {
   "cell_type": "markdown",
   "id": "73da1dc5",
   "metadata": {
    "id": "imlyNt2K7RnA"
   },
   "source": [
    "<table>\n",
    "<tr>\n",
    "  <th colspan=1>The global self attention layer</th>\n",
    "<tr>\n",
    "<tr>\n",
    "  <td>\n",
    "   <img width=500 src=\"https://www.tensorflow.org/images/tutorials/transformer/SelfAttention-new.png\"/>\n",
    "  </td>\n",
    "</tr>\n",
    "</table>"
   ]
  },
  {
   "cell_type": "markdown",
   "id": "96c21cee",
   "metadata": {
    "id": "Yq4NtLymD99-"
   },
   "source": [
    "### causal self attention layer"
   ]
  },
  {
   "cell_type": "markdown",
   "id": "0ad7a12c",
   "metadata": {
    "id": "VufkgF7caLze"
   },
   "source": [
    "이 레이어는 출력 시퀀스에 대해 global self attention 레이어와 유사한 작업을 수행합니다."
   ]
  },
  {
   "cell_type": "markdown",
   "id": "6445875b",
   "metadata": {
    "id": "3KMEDiP63-hQ"
   },
   "source": [
    "<table>\n",
    "<tr>\n",
    "  <th colspan=1>The causal self attention layer</th>\n",
    "<tr>\n",
    "<tr>\n",
    "  <td>\n",
    "   <img src=\"https://www.tensorflow.org/images/tutorials/transformer/CausalSelfAttention.png\"/>\n",
    "  </td>\n",
    "</tr>\n",
    "</table>"
   ]
  },
  {
   "cell_type": "markdown",
   "id": "d9101113",
   "metadata": {
    "id": "0AtF1HYFEOYf"
   },
   "source": [
    "이는 인코더의 전역 self attention 레이어와 다르게 처리되어야 합니다."
   ]
  },
  {
   "cell_type": "markdown",
   "id": "ec3a73be",
   "metadata": {
    "id": "WLYfIa8eiYgk"
   },
   "source": [
    "CausalSelfAttention 클래스는 BaseAttention을 상속받아 구현됩니다. call 메소드는 레이어의 입력(x)을 받아 처리합니다. 여기서 self.mha는 다중 헤드 어텐션 레이어로, 쿼리(query), 키(key), 값(value) 모두 동일한 입력 x를 사용합니다. use_causal_mask=True는 인과적 마스크를 적용하여, 시퀀스의 각 위치가 그 이전 위치들의 정보만 참조하도록 합니다."
   ]
  },
  {
   "cell_type": "code",
   "execution_count": null,
   "id": "6a7934e1",
   "metadata": {},
   "outputs": [],
   "source": [
    "class CausalSelfAttention(BaseAttention):\n",
    "  def call(self, x):\n",
    "    # 인과적 셀프 어텐션: 쿼리, 키, 값 모두 동일한 입력 x를 사용하며 인과적 마스크 적용\n",
    "    # 어텐션 결과와 원래 입력을 더함 (잔차 연결)\n",
    "    # 레이어 정규화 적용"
   ]
  },
  {
   "cell_type": "markdown",
   "id": "caed853f",
   "metadata": {
    "id": "C5oumNdAjI-D"
   },
   "source": [
    "인과 마스크는 각 위치가 이전 위치만 액세스할 수 있도록 보장합니다."
   ]
  },
  {
   "cell_type": "markdown",
   "id": "5c815817",
   "metadata": {
    "id": "aFJy5L1U8TBt"
   },
   "source": [
    "<table>\n",
    "<tr>\n",
    "  <th colspan=1>The causal self attention layer</th>\n",
    "<tr>\n",
    "<tr>\n",
    "  <td>\n",
    "   <img width=330 src=\"https://www.tensorflow.org/images/tutorials/transformer/CausalSelfAttention-new-full.png\"/>\n",
    "  </td>\n",
    "</tr>\n",
    "</table>"
   ]
  },
  {
   "cell_type": "markdown",
   "id": "d4ac2aa3",
   "metadata": {
    "id": "JWX0RNnFjaCj"
   },
   "source": [
    "이 레이어를 보다 간결하게 표현하면 다음과 같습니다."
   ]
  },
  {
   "cell_type": "markdown",
   "id": "bfc77f4c",
   "metadata": {
    "id": "3C9qVfvh8-jp"
   },
   "source": [
    "<table>\n",
    "</tr>\n",
    "  <th colspan=1>The causal self attention layer</th>\n",
    "<tr>\n",
    "<tr>\n",
    "  <td>\n",
    "   <img width=430 src=\"https://www.tensorflow.org/images/tutorials/transformer/CausalSelfAttention-new.png\"/>\n",
    "  </td>\n",
    "</tr>\n",
    "</table>"
   ]
  },
  {
   "cell_type": "markdown",
   "id": "a454eca9",
   "metadata": {
    "id": "uQBhYEZ2jfrX"
   },
   "source": [
    "layer 테스트:\n",
    "\n",
    "CausalSelfAttention 클래스를 사용하여 num_heads=2, key_dim=512인 샘플 인과적 셀프 어텐션 레이어(sample_csa)를 생성합니다. en_emb는 영어 임베딩을 나타내며, 이의 형상을 출력하여 확인합니다. 그 후, sample_csa(en_emb)는 영어 임베딩에 인과적 셀프 어텐션 레이어를 적용합니다."
   ]
  },
  {
   "cell_type": "code",
   "execution_count": null,
   "id": "e62ab715",
   "metadata": {},
   "outputs": [],
   "source": [
    "# CausalSelfAttention 레이어 예시 생성\n",
    "# 영어 임베딩의 형상 출력\n",
    "# CausalSelfAttention 레이어를 영어 임베딩에 적용하고 결과 형상 출력"
   ]
  },
  {
   "cell_type": "markdown",
   "id": "7380c649",
   "metadata": {
    "id": "n-IPCEkajleb"
   },
   "source": [
    "초기 시퀀스 요소의 출력은 이후 요소에 의존하지 않으므로 레이어 적용 전 또는 후에 요소를 자르는지는 중요하지 않습니다."
   ]
  },
  {
   "cell_type": "code",
   "execution_count": null,
   "id": "d57bc3ec",
   "metadata": {},
   "outputs": [],
   "source": [
    "# 첫 번째 방법: 입력 시퀀스의 첫 3개 토큰에 대해서만 인과적 셀프 어텐션 적용\n",
    "# 두 번째 방법: 전체 입력 시퀀스에 인과적 셀프 어텐션을 적용하고 첫 3개 토큰의 결과만 추출\n",
    "# 두 결과 간의 최대 차이 계산"
   ]
  },
  {
   "cell_type": "markdown",
   "id": "69d320a9",
   "metadata": {
    "id": "nLjScSWQv9M5"
   },
   "source": [
    "### feed forward network"
   ]
  },
  {
   "cell_type": "markdown",
   "id": "3c7b532e",
   "metadata": {
    "id": "pz0HBopX_VdU"
   },
   "source": [
    "또한 transformer에는 인코더와 디코더 모두에 이 point-wise feed-forward network가 포함되어 있습니다."
   ]
  },
  {
   "cell_type": "markdown",
   "id": "c2768d26",
   "metadata": {
    "id": "bDHMWoZ94AUU"
   },
   "source": [
    "<table>\n",
    "<tr>\n",
    "  <th colspan=1>The feed forward network</th>\n",
    "<tr>\n",
    "<tr>\n",
    "  <td>\n",
    "   <img src=\"https://www.tensorflow.org/images/tutorials/transformer/FeedForward.png\"/>\n",
    "  </td>\n",
    "</tr>\n",
    "</table>"
   ]
  },
  {
   "cell_type": "markdown",
   "id": "f125b828",
   "metadata": {
    "id": "0Yb-IV0Nlzd0"
   },
   "source": [
    "네트워크는 중간에 ReLU 활성화가 있는 두 개의 선형 레이어(`tf.keras.layers.Dense`)와 드롭아웃 레이어로 구성됩니다. Attention 레이어와 마찬가지로 여기 코드에도 잔차 연결 및 정규화도 포함됩니다.\n",
    "\n",
    "FeedForward 클래스는 Keras의 Layer 클래스를 상속받아 정의됩니다. 생성자(__init__)에서는 모델의 차원(d_model), 피드포워드 네트워크의 내부 차원(dff), 그리고 드롭아웃 비율(dropout_rate)을 받아 내부 레이어를 초기화합니다. 내부에는 두 개의 Dense 레이어와 드롭아웃 레이어가 순차적으로 구성됩니다.\n",
    "\n",
    "call 메소드는 실제로 이 레이어가 입력 데이터 x에 적용되는 방식을 정의합니다. 여기서는 순차적 레이어 self.seq를 입력에 적용하고, 그 결과를 원래의 입력 x와 더하는 잔차 연결(residual connection)을 수행합니다. 그 후 레이어 정규화(self.layer_norm)를 적용하여 출력합니다."
   ]
  },
  {
   "cell_type": "code",
   "execution_count": null,
   "id": "40d2f28c",
   "metadata": {},
   "outputs": [],
   "source": [
    "class FeedForward(tf.keras.layers.Layer):\n",
    "  def __init__(self, d_model, dff, dropout_rate=0.1):\n",
    "    # 순차적 레이어 정의: Dense -> Dense -> Dropout\n",
    "  def call(self, x):\n",
    "    # 입력에 순차적 레이어 적용 후 원래 입력과 덧셈 (잔차 연결)"
   ]
  },
  {
   "cell_type": "markdown",
   "id": "9b09e6fa",
   "metadata": {
    "id": "eQBlOVQU_hUt"
   },
   "source": [
    "레이어를 테스트하면 출력은 입력과 모양이 동일합니다."
   ]
  },
  {
   "cell_type": "code",
   "execution_count": null,
   "id": "b6c01a6e",
   "metadata": {},
   "outputs": [],
   "source": [
    "# FeedForward 레이어 예시 생성\n",
    "# 영어 임베딩의 형상 출력\n",
    "# FeedForward 레이어를 영어 임베딩에 적용하고 결과 형상 출력"
   ]
  },
  {
   "cell_type": "markdown",
   "id": "0ae12775",
   "metadata": {
    "id": "QFv-FNYUmvpn"
   },
   "source": [
    "### encoder layer"
   ]
  },
  {
   "cell_type": "markdown",
   "id": "5d13c957",
   "metadata": {
    "id": "zk-DAL2xv4PZ"
   },
   "source": [
    "인코더에는 'N' 인코더 레이어 스택이 포함되어 있습니다. 각 `EncoderLayer`에는 `GlobalSelfAttention` 및 `FeedForward` 레이어가 포함되어 있습니다."
   ]
  },
  {
   "cell_type": "markdown",
   "id": "91c1664a",
   "metadata": {
    "id": "RgPaE3f44Cgh"
   },
   "source": [
    "<table>\n",
    "<tr>\n",
    "  <th colspan=1>The encoder layer</th>\n",
    "<tr>\n",
    "<tr>\n",
    "  <td>\n",
    "   <img src=\"https://www.tensorflow.org/images/tutorials/transformer/EncoderLayer.png\"/>\n",
    "  </td>\n",
    "</tr>\n",
    "</table>"
   ]
  },
  {
   "cell_type": "markdown",
   "id": "f07c6141",
   "metadata": {
    "id": "8kRUT__Ly9HH"
   },
   "source": [
    "'EncoderLayer'의 정의는 다음과 같습니다."
   ]
  },
  {
   "cell_type": "code",
   "execution_count": null,
   "id": "2ca7ae92",
   "metadata": {},
   "outputs": [],
   "source": [
    "class EncoderLayer(tf.keras.layers.Layer):\n",
    "  def __init__(self, *, d_model, num_heads, dff, dropout_rate=0.1):\n",
    "    # 글로벌 셀프 어텐션 레이어 초기화\n",
    "    # 피드포워드 네트워크 레이어 초기화\n",
    "  def call(self, x):\n",
    "    # 글로벌 셀프 어텐션 적용\n",
    "    # 피드포워드 네트워크 적용"
   ]
  },
  {
   "cell_type": "markdown",
   "id": "c269b3e3",
   "metadata": {
    "id": "QeXHMUlb6q6F"
   },
   "source": [
    "출력은 입력과 동일한 모양을 갖게 됩니다."
   ]
  },
  {
   "cell_type": "code",
   "execution_count": null,
   "id": "949ca798",
   "metadata": {},
   "outputs": [],
   "source": [
    "# EncoderLayer 레이어 예시 생성\n",
    "# 포르투갈어 임베딩의 형상 출력\n",
    "# EncoderLayer 레이어를 포르투갈어 임베딩에 적용하고 결과 형상 출력"
   ]
  },
  {
   "cell_type": "markdown",
   "id": "1510158b",
   "metadata": {
    "id": "SE1H51Ajm0q1"
   },
   "source": [
    "### encoder"
   ]
  },
  {
   "cell_type": "markdown",
   "id": "46bdabf2",
   "metadata": {
    "id": "Fym9ah11ykMd"
   },
   "source": [
    "다음으로 인코더를 빌드합니다."
   ]
  },
  {
   "cell_type": "markdown",
   "id": "1b844dcf",
   "metadata": {
    "id": "dXI2B-Ad4ETO"
   },
   "source": [
    "<table>\n",
    "<tr>\n",
    "  <th colspan=1>The encoder</th>\n",
    "<tr>\n",
    "<tr>\n",
    "  <td>\n",
    "   <img src=\"https://www.tensorflow.org/images/tutorials/transformer/Encoder.png\"/>\n",
    "  </td>\n",
    "</tr>\n",
    "</table>"
   ]
  },
  {
   "cell_type": "markdown",
   "id": "e7f2306a",
   "metadata": {
    "id": "DA6sVo5rlzd3"
   },
   "source": [
    "인코더는 다음으로 구성됩니다.\n",
    "\n",
    "- 입력의 'PositionalEmbedding' 레이어.\n",
    "- 'EncoderLayer' 레이어 스택.\n",
    "\n",
    "Encoder 클래스는 Keras의 Layer 클래스를 상속받아 정의됩니다. 생성자(__init__)에서는 모델의 차원(d_model), 인코더 레이어 수(num_layers), 어텐션 헤드의 수(num_heads), 피드포워드 네트워크 차원(dff), 어휘 사전 크기(vocab_size), 드롭아웃 비율(dropout_rate)을 받아 내부 레이어를 초기화합니다.  \n",
    "\n",
    "call 메소드는 실제로 이 레이어가 입력 데이터 x에 적용되는 방식을 정의합니다. 먼저, 위치 임베딩 레이어를 적용한 후, 드롭아웃을 적용합니다. 그 후 각 인코더 레이어를 순차적으로 적용합니다."
   ]
  },
  {
   "cell_type": "code",
   "execution_count": null,
   "id": "4eb38ef3",
   "metadata": {},
   "outputs": [],
   "source": [
    "class Encoder(tf.keras.layers.Layer):\n",
    "  def __init__(self, *, num_layers, d_model, num_heads,\n",
    "    # 위치 임베딩 레이어 초기화\n",
    "    # 인코더 레이어들을 리스트로 초기화\n",
    "  def call(self, x):\n",
    "    # 입력 x는 토큰 ID (배치 크기, 시퀀스 길이)\n",
    "    # 드롭아웃 적용\n",
    "    # 각 인코더 레이어를 순차적으로 적용"
   ]
  },
  {
   "cell_type": "markdown",
   "id": "c03c06e0",
   "metadata": {
    "id": "texobMBHLBEU"
   },
   "source": [
    "encoder 테스트:\n",
    "\n",
    "4개의 레이어, 512차원의 모델, 8개의 어텐션 헤드, 2048차원의 피드포워드 네트워크, 그리고 8500 크기의 어휘 사전을 가진 샘플 인코더(sample_encoder)를 생성"
   ]
  },
  {
   "cell_type": "code",
   "execution_count": null,
   "id": "e7bf8d23",
   "metadata": {},
   "outputs": [],
   "source": [
    "# 인코더 인스턴스 생성\n",
    "# 인코더에 포르투갈어 입력 적용\n",
    "# 입력 및 출력 형상 출력"
   ]
  },
  {
   "cell_type": "markdown",
   "id": "1be96a06",
   "metadata": {
    "id": "6LO_48Owmx_o"
   },
   "source": [
    "### decoder layer"
   ]
  },
  {
   "cell_type": "markdown",
   "id": "8d0f8430",
   "metadata": {
    "id": "GGxm57u6E4g2"
   },
   "source": [
    "디코더의 스택은 약간 더 복잡하며 각 `DecoderLayer`에는 `CausalSelfAttention`, `CrossAttention` 및 `FeedForward` 레이어가 포함되어 있습니다."
   ]
  },
  {
   "cell_type": "markdown",
   "id": "6d64c713",
   "metadata": {
    "id": "1ZYER7rC4FmI"
   },
   "source": [
    "<table>\n",
    "<tr>\n",
    "  <th colspan=1>The decoder layer</th>\n",
    "<tr>\n",
    "<tr>\n",
    "  <td>\n",
    "   <img src=\"https://www.tensorflow.org/images/tutorials/transformer/DecoderLayer.png\"/>\n",
    "  </td>\n",
    "</tr>\n",
    "</table>"
   ]
  },
  {
   "cell_type": "code",
   "execution_count": null,
   "id": "90b83b02",
   "metadata": {},
   "outputs": [],
   "source": [
    "class DecoderLayer(tf.keras.layers.Layer):\n",
    "  def __init__(self,\n",
    "    # 인과적 셀프 어텐션 레이어 초기화\n",
    "    # 교차 어텐션 레이어 초기화\n",
    "    # 피드포워드 네트워크 레이어 초기화\n",
    "  def call(self, x, context):\n",
    "    # 인과적 셀프 어텐션 적용\n",
    "    # 교차 어텐션 적용\n",
    "    # 마지막 어텐션 점수를 시각화를 위해 저장\n",
    "    # 피드포워드 네트워크 적용"
   ]
  },
  {
   "cell_type": "markdown",
   "id": "c8dc9cb7",
   "metadata": {
    "id": "a6T3RSR_6nJX"
   },
   "source": [
    "decoder layer 테스트:"
   ]
  },
  {
   "cell_type": "code",
   "execution_count": null,
   "id": "64dd354c",
   "metadata": {},
   "outputs": [],
   "source": [
    "# DecoderLayer 레이어 예시 생성\n",
    "# 디코더 레이어에 영어 임베딩과 포르투갈어 임베딩 적용\n",
    "# 입력 및 출력 형상 출력"
   ]
  },
  {
   "cell_type": "markdown",
   "id": "20a9633b",
   "metadata": {
    "id": "p-uO6ls8m2O5"
   },
   "source": [
    "### decoder"
   ]
  },
  {
   "cell_type": "markdown",
   "id": "20347b76",
   "metadata": {
    "id": "fgj3c0TVF3Pb"
   },
   "source": [
    "`Encoder`와 유사하게 `Decoder`는 `PositionalEmbedding`과 `DecoderLayer` 스택으로 구성됩니다."
   ]
  },
  {
   "cell_type": "markdown",
   "id": "5332b88f",
   "metadata": {
    "id": "ADGss2nT4Gt-"
   },
   "source": [
    "<table>\n",
    "<tr>\n",
    "  <th colspan=1>The embedding and positional encoding layer</th>\n",
    "<tr>\n",
    "<tr>\n",
    "  <td>\n",
    "   <img src=\"https://www.tensorflow.org/images/tutorials/transformer/Decoder.png\"/>\n",
    "  </td>\n",
    "</tr>\n",
    "</table>"
   ]
  },
  {
   "cell_type": "markdown",
   "id": "3c25c61d",
   "metadata": {
    "id": "2q49vtv5lzd3"
   },
   "source": [
    "`tf.keras.layers.Layer`를 확장하여 디코더를 정의합니다."
   ]
  },
  {
   "cell_type": "code",
   "execution_count": null,
   "id": "2924a589",
   "metadata": {},
   "outputs": [],
   "source": [
    "class Decoder(tf.keras.layers.Layer):\n",
    "  def __init__(self, *, num_layers, d_model, num_heads, dff, vocab_size,\n",
    "    # 위치 임베딩 레이어 초기화\n",
    "  def call(self, x, context):\n",
    "    # 입력 x는 토큰 ID (배치 크기, 타겟 시퀀스 길이)\n",
    "    # 각 디코더 레이어 순차적 적용\n",
    "    # 마지막 레이어의 어텐션 점수 저장\n",
    "    # 최종 출력 형상: (배치 크기, 타겟 시퀀스 길이, d_model)"
   ]
  },
  {
   "cell_type": "markdown",
   "id": "f00382be",
   "metadata": {
    "id": "eALcB--YMmLf"
   },
   "source": [
    "decoder 테스트:"
   ]
  },
  {
   "cell_type": "code",
   "execution_count": null,
   "id": "fa2a3390",
   "metadata": {},
   "outputs": [],
   "source": [
    "# 디코더 인스턴스 생성\n",
    "# 디코더에 영어 입력 데이터와 포르투갈어 임베딩 적용\n",
    "# 입력 및 출력 형상 출력"
   ]
  },
  {
   "cell_type": "code",
   "execution_count": null,
   "id": "5afb710f",
   "metadata": {},
   "outputs": [],
   "source": [
    "# 디코더의 마지막 어텐션 점수의 형상 확인"
   ]
  },
  {
   "cell_type": "markdown",
   "id": "37dd0bce",
   "metadata": {
    "id": "D3uvMP5vNuOV"
   },
   "source": [
    "Transformer 인코더와 디코더를 만들었으면 이제 Transformer 모델을 구축하고 훈련할 차례입니다."
   ]
  },
  {
   "cell_type": "markdown",
   "id": "3e5a9b26",
   "metadata": {
    "id": "y54xnJnuYgJ7"
   },
   "source": [
    "## Transformer"
   ]
  },
  {
   "cell_type": "markdown",
   "id": "f2aa6dc9",
   "metadata": {
    "id": "PSi8vBN1lzd4"
   },
   "source": [
    "이제 'Encoder'와 'Decoder'가 생겼습니다. 'Transformer' 모델을 완성하려면 이들을 함께 모으고 각 위치의 결과 벡터를 출력 토큰 확률로 변환하는 최종 선형('Dense') 레이어를 추가해야 합니다.\n",
    "\n",
    "디코더의 출력은 이 최종 선형 레이어의 입력입니다."
   ]
  },
  {
   "cell_type": "markdown",
   "id": "55324fc0",
   "metadata": {
    "id": "46nL2X_84Iud"
   },
   "source": [
    "<table>\n",
    "<tr>\n",
    "  <th colspan=1>The transformer</th>\n",
    "<tr>\n",
    "<tr>\n",
    "  <td>\n",
    "   <img src=\"https://www.tensorflow.org/images/tutorials/transformer/transformer.png\"/>\n",
    "  </td>\n",
    "</tr>\n",
    "</table>"
   ]
  },
  {
   "cell_type": "markdown",
   "id": "b6b802a0",
   "metadata": {
    "id": "gUIUDsg94htm"
   },
   "source": [
    "인코더와 디코더는 각각 입력 어휘 사전 크기(input_vocab_size), 타겟 어휘 사전 크기(target_vocab_size), 레이어 수(num_layers), 모델 차원(d_model), 어텐션 헤드 수(num_heads), 피드포워드 네트워크 차원(dff), 드롭아웃 비율(dropout_rate)을 기반으로 설정됩니다.  \n",
    "\n",
    "call 메소드는 모델의 입력 데이터 inputs를 받아 처리합니다. 입력은 컨텍스트(context)와 타겟 시퀀스(x)로 구성됩니다. 먼저 인코더를 통해 컨텍스트를 처리하고, 그 결과를 디코더에 전달하여 타겟 시퀀스를 처리합니다. 최종적으로, Dense 레이어(self.final_layer)를 통해 최종 출력(logits)을 계산합니다."
   ]
  },
  {
   "cell_type": "code",
   "execution_count": null,
   "id": "43565284",
   "metadata": {},
   "outputs": [],
   "source": [
    "class Transformer(tf.keras.Model):\n",
    "  def __init__(self, *, num_layers, d_model, num_heads, dff,\n",
    "    # 인코더 초기화\n",
    "    # 디코더 초기화\n",
    "    # 최종 출력을 위한 Dense 레이어\n",
    "  def call(self, inputs):\n",
    "    # 입력: 컨텍스트와 타겟 시퀀스\n",
    "    # 인코더를 통한 컨텍스트 처리\n",
    "    # 디코더를 통한 타겟 시퀀스 처리\n",
    "    # 최종 출력 계산\n",
    "    # 필요 시 케라스 마스크 제거\n",
    "    # 최종 출력 반환"
   ]
  },
  {
   "cell_type": "markdown",
   "id": "b0f9fce2",
   "metadata": {
    "id": "wsINyf1VEQLC"
   },
   "source": [
    "### Hyperparameters"
   ]
  },
  {
   "cell_type": "markdown",
   "id": "c9bef9a2",
   "metadata": {
    "id": "IjwMq_ixlzd5"
   },
   "source": [
    "이 예제를 작고 상대적으로 빠르게 유지하기 위해 레이어 수(`num_layers`), 임베딩의 차원(`d_model`), `FeedForward` 레이어의 내부 차원(`dff`)을 줄입니다. 원본 Transformer 문서에 설명된 기본 모델은 `num_layers=6`, `d_model=512` 및 `dff=2048`을 사용했습니다.\n",
    "\n",
    "self-attention 헤드의 수는 동일하게 유지됩니다(`num_heads=8`)."
   ]
  },
  {
   "cell_type": "code",
   "execution_count": null,
   "id": "6e36d41a",
   "metadata": {},
   "outputs": [],
   "source": []
  },
  {
   "cell_type": "markdown",
   "id": "900cbb08",
   "metadata": {
    "id": "yYbXDEhhlzd6"
   },
   "source": [
    "'Transformer' 모델을 인스턴스화합니다.\n",
    "\n"
   ]
  },
  {
   "cell_type": "code",
   "execution_count": null,
   "id": "b961d5b8",
   "metadata": {},
   "outputs": [],
   "source": [
    "# 트랜스포머 모델 인스턴스 생성"
   ]
  },
  {
   "cell_type": "markdown",
   "id": "ee8c3829",
   "metadata": {
    "id": "Qbw3CYn2tQQx"
   },
   "source": [
    "Test"
   ]
  },
  {
   "cell_type": "code",
   "execution_count": null,
   "id": "2f2c1eaa",
   "metadata": {},
   "outputs": [],
   "source": [
    "# 트랜스포머 모델에 포르투갈어와 영어 입력 적용\n",
    "# 입력 및 출력 형상 출력"
   ]
  },
  {
   "cell_type": "code",
   "execution_count": null,
   "id": "6727a9a9",
   "metadata": {},
   "outputs": [],
   "source": [
    "# 트랜스포머 모델의 디코더에서 마지막 디코더 레이어의 어텐션 점수 확인"
   ]
  },
  {
   "cell_type": "code",
   "execution_count": null,
   "id": "c1e2e4ea",
   "metadata": {},
   "outputs": [],
   "source": []
  },
  {
   "cell_type": "markdown",
   "id": "6709be65",
   "metadata": {
    "id": "EfoBfC2oQtEy"
   },
   "source": [
    "## Training"
   ]
  },
  {
   "cell_type": "markdown",
   "id": "4bcfcd05",
   "metadata": {
    "id": "xYEGhEOtzn5W"
   },
   "source": [
    "### optimizer 설정"
   ]
  },
  {
   "cell_type": "markdown",
   "id": "d815ff43",
   "metadata": {
    "id": "SL4G5bS6lzd5"
   },
   "source": [
    "원래 Transformer [논문](https://arxiv.org/abs/1706.03762)의 공식에 따라 사용자 정의 학습률 스케줄러와 함께 Adam 최적화 프로그램을 사용합니다.\n",
    "\n",
    "$$\\Large{lrate = d_{model}^{-0.5} * \\min(step{\\_}num^{-0.5}, step{\\_}num \\cdot warmup{\\_}steps^{-1.5})}$$\n",
    "\n",
    "초기에는 학습률을 서서히 증가시키는 \"웜업(warmup)\" 기간을 거치며, 이후 학습률을 점차 감소시킵니다."
   ]
  },
  {
   "cell_type": "code",
   "execution_count": null,
   "id": "8f75c509",
   "metadata": {},
   "outputs": [],
   "source": [
    "class CustomSchedule(tf.keras.optimizers.schedules.LearningRateSchedule):\n",
    "  def __init__(self, d_model, warmup_steps=4000):\n",
    "  def __call__(self, step):"
   ]
  },
  {
   "cell_type": "markdown",
   "id": "66a97901",
   "metadata": {
    "id": "fzXq5LWgRN63"
   },
   "source": [
    "최적화 프로그램을 인스턴스화합니다(이 예에서는 `tf.keras.optimizers.Adam`입니다)."
   ]
  },
  {
   "cell_type": "code",
   "execution_count": null,
   "id": "b59cb8a0",
   "metadata": {},
   "outputs": [],
   "source": [
    "# 맞춤형 학습률 스케줄 생성\n",
    "# Adam 옵티마이저 초기화"
   ]
  },
  {
   "cell_type": "markdown",
   "id": "c92fa9c5",
   "metadata": {
    "id": "fTb2S4RnQ8DU"
   },
   "source": [
    "사용자 정의 learning rate scheduler Test"
   ]
  },
  {
   "cell_type": "code",
   "execution_count": null,
   "id": "87f44ed9",
   "metadata": {},
   "outputs": [],
   "source": [
    "# 40000 스텝까지의 학습률 스케줄 시각화"
   ]
  },
  {
   "cell_type": "markdown",
   "id": "727396c1",
   "metadata": {
    "id": "YgkDE7hzo8r5"
   },
   "source": [
    "### loss and metric 설정"
   ]
  },
  {
   "cell_type": "markdown",
   "id": "ccedd23d",
   "metadata": {
    "id": "B6y7rNP5lzd6"
   },
   "source": [
    "대상 시퀀스는 패딩되어 있으므로 손실을 계산할 때 패딩 마스크를 적용하는 것이 중요합니다. 교차 엔트로피 손실 함수(`tf.keras.losses.SparseCategoricalCrossentropy`)를 사용합니다.\n",
    "\n",
    "masked_loss 함수는 레이블이 0인 부분(일반적으로 패딩 부분)을 마스크 처리하여 이 부분의 손실을 계산에서 제외합니다."
   ]
  },
  {
   "cell_type": "code",
   "execution_count": null,
   "id": "b8817fbb",
   "metadata": {},
   "outputs": [],
   "source": [
    "def masked_loss(label, pred):\n",
    "  # SparseCategoricalCrossentropy 손실 함수 초기화\n",
    "  # 손실 계산\n",
    "  # 마스크를 손실의 데이터 타입으로 캐스팅\n",
    "  # 마스크를 적용한 손실의 합을 마스크의 합으로 나누어 평균 손실 계산\n",
    "def masked_accuracy(label, pred):\n",
    "  # 예측값에서 가장 큰 값의 인덱스를 선택\n",
    "  # 레이블을 예측값의 데이터 타입으로 캐스팅\n",
    "  # 예측값과 레이블이 일치하는지 여부\n",
    "  # 마스크 적용하여 정확한 예측만 선택\n",
    "  # 일치 여부와 마스크를 float 타입으로 캐스팅\n",
    "  # 마스크를 적용한 정확도의 합을 마스크의 합으로 나누어 평균 정확도 계산"
   ]
  },
  {
   "cell_type": "markdown",
   "id": "1e524bb8",
   "metadata": {
    "id": "xYEasEOsdn5W"
   },
   "source": [
    "### model Train"
   ]
  },
  {
   "cell_type": "markdown",
   "id": "77638da0",
   "metadata": {
    "id": "Mk8vwuN24hafK"
   },
   "source": [
    "모든 구성 요소가 준비되면 `model.compile`을 사용하여 학습 절차를 구성한 다음 `model.fit`을 사용하여 실행합니다.\n",
    "\n",
    "참고: Colab에서 학습하는 데 약 1시간이 걸립니다."
   ]
  },
  {
   "cell_type": "code",
   "execution_count": null,
   "id": "c33d9064",
   "metadata": {},
   "outputs": [],
   "source": [
    "# 트랜스포머 모델 컴파일"
   ]
  },
  {
   "cell_type": "code",
   "execution_count": null,
   "id": "97bc6eda",
   "metadata": {},
   "outputs": [],
   "source": []
  },
  {
   "cell_type": "markdown",
   "id": "119bfa4c",
   "metadata": {
    "id": "cxKpqCbzSW6z"
   },
   "source": [
    "## 추론 실행"
   ]
  },
  {
   "cell_type": "markdown",
   "id": "de1522fb",
   "metadata": {
    "id": "Mk8vwuN1SafK"
   },
   "source": [
    "이제 변환을 수행하여 모델을 테스트할 수 있습니다. 추론에는 다음 단계가 사용됩니다.\n",
    "\n",
    "* 포르투갈어 토크나이저(`tokenizers.pt`)를 사용하여 입력 문장을 인코딩합니다. 이것은 인코더 입력입니다.\n",
    "* 디코더 입력은 `[START]` 토큰으로 초기화됩니다.\n",
    "* 패딩 마스크와 미리 보기 마스크를 계산합니다.\n",
    "* 그런 다음 `디코더`는 `인코더 출력`과 자체 출력(self-attention)을 보고 예측을 출력합니다.\n",
    "* 예측된 토큰을 디코더 입력에 연결하고 디코더에 전달합니다.\n",
    "* 이 접근 방식에서 디코더는 예측한 이전 토큰을 기반으로 다음 토큰을 예측합니다."
   ]
  },
  {
   "cell_type": "code",
   "execution_count": null,
   "id": "7a88872f",
   "metadata": {},
   "outputs": [],
   "source": [
    "class Translator(tf.Module):\n",
    "  def __init__(self, tokenizers, transformer):\n",
    "  def __call__(self, sentence, max_length=MAX_TOKENS):\n",
    "    # 입력 문장이 포르투갈어이므로 `[START]`와 `[END]` 토큰을 추가\n",
    "    # 출력 언어가 영어이므로 영어 `[START]` 토큰으로 초기화\n",
    "    # 동적 루프 추적을 위해 `tf.TensorArray` 사용\n",
    "      # `seq_len` 차원에서 마지막 토큰 선택\n",
    "      # `predicted_id`를 출력에 연결\n",
    "    # 루프의 마지막 반복에서 계산된 어텐션 가중치를 사용할 수 없으므로,\n",
    "    # 루프 밖에서 다시 계산"
   ]
  },
  {
   "cell_type": "markdown",
   "id": "7a8cda87",
   "metadata": {
    "id": "TeUJafisS435"
   },
   "source": [
    "'Translator' 클래스의 인스턴스를 만들고 몇 번 시도해 봅니다."
   ]
  },
  {
   "cell_type": "code",
   "execution_count": null,
   "id": "9edb73a5",
   "metadata": {},
   "outputs": [],
   "source": []
  },
  {
   "cell_type": "code",
   "execution_count": null,
   "id": "693fa6bb",
   "metadata": {},
   "outputs": [],
   "source": [
    "#함수는 세 가지 인자를 받습니다:\n",
    "# sentence: 번역할 원문 문장\n",
    "# tokens: 토큰화된 번역 결과입니다. 이 값은 numpy 배열로 변환되고 UTF-8로 디코딩됩니다.\n",
    "# ground_truth: 실제 번역 결과\n",
    "def print_translation(sentence, tokens, ground_truth):\n",
    "  # 입력 문장 출력\n",
    "  # 모델의 예측 번역 출력\n",
    "  # 실제 번역 (ground truth) 출력"
   ]
  },
  {
   "cell_type": "markdown",
   "id": "a09bdce2",
   "metadata": {
    "id": "buUeDo58TIoD"
   },
   "source": [
    "Example 1:"
   ]
  },
  {
   "cell_type": "code",
   "execution_count": null,
   "id": "81daf2ed",
   "metadata": {},
   "outputs": [],
   "source": [
    "# 포르투갈어 문장\n",
    "# 실제 번역 (ground truth)\n",
    "# Translator를 사용하여 포르투갈어 문장 번역\n",
    "# 번역 결과 출력"
   ]
  },
  {
   "cell_type": "markdown",
   "id": "8e565b72",
   "metadata": {
    "id": "sfJrFBZ6TJxc"
   },
   "source": [
    "Example 2:"
   ]
  },
  {
   "cell_type": "code",
   "execution_count": null,
   "id": "8d4bc653",
   "metadata": {},
   "outputs": [],
   "source": []
  },
  {
   "cell_type": "markdown",
   "id": "62da608c",
   "metadata": {
    "id": "EY7NfEjrTOCr"
   },
   "source": [
    "Example 3:"
   ]
  },
  {
   "cell_type": "code",
   "execution_count": null,
   "id": "311056a9",
   "metadata": {},
   "outputs": [],
   "source": []
  },
  {
   "cell_type": "markdown",
   "id": "d7cc951d",
   "metadata": {
    "id": "aB_03k0kTQLb"
   },
   "source": [
    "## attention plot 생성"
   ]
  },
  {
   "cell_type": "markdown",
   "id": "3ce0df29",
   "metadata": {
    "id": "miZXl9i-TSs6"
   },
   "source": [
    "이전 섹션에서 생성한 'Translator' 클래스는 모델의 내부 작업을 시각화하는 데 사용할 수 있는 attention 히트맵 dictionary를 반환합니다.\n",
    "\n",
    "예를 들어:"
   ]
  },
  {
   "cell_type": "code",
   "execution_count": null,
   "id": "e0396eb7",
   "metadata": {},
   "outputs": [],
   "source": []
  },
  {
   "cell_type": "markdown",
   "id": "d95a1f1b",
   "metadata": {
    "id": "-rhE_LW7TZ40"
   },
   "source": [
    "토큰이 생성될 때 attention을 plot하는 함수를 만듭니다."
   ]
  },
  {
   "cell_type": "code",
   "execution_count": null,
   "id": "32bac8fb",
   "metadata": {},
   "outputs": [],
   "source": [
    "def plot_attention_head(in_tokens, translated_tokens, attention):\n",
    "  # 모델이 출력에서 `<START>`를 생성하지 않았으므로 이를 생략합니다.\n",
    "  # 입력 토큰 레이블\n",
    "  # 번역된 토큰 레이블"
   ]
  },
  {
   "cell_type": "code",
   "execution_count": null,
   "id": "29e11686",
   "metadata": {},
   "outputs": [],
   "source": [
    "# 어텐션 가중치의 형상: `(batch=1, num_heads, seq_len_q, seq_len_k)`"
   ]
  },
  {
   "cell_type": "markdown",
   "id": "dce7630c",
   "metadata": {
    "id": "facNouzOXMSu"
   },
   "source": [
    "입력(포르투갈어) 토큰은 다음과 같습니다."
   ]
  },
  {
   "cell_type": "code",
   "execution_count": null,
   "id": "1b9d1ad9",
   "metadata": {},
   "outputs": [],
   "source": [
    "# 입력 문장을 텐서로 변환\n",
    "# 포르투갈어 토크나이저를 사용하여 토큰화\n",
    "# 토큰 인덱스를 실제 단어로 변환"
   ]
  },
  {
   "cell_type": "markdown",
   "id": "a18555aa",
   "metadata": {
    "id": "JLg9HTKCXPKz"
   },
   "source": [
    "다음은 출력(영어 번역) 토큰입니다."
   ]
  },
  {
   "cell_type": "code",
   "execution_count": null,
   "id": "532c0f72",
   "metadata": {},
   "outputs": [],
   "source": []
  },
  {
   "cell_type": "code",
   "execution_count": null,
   "id": "aa0e3aa9",
   "metadata": {},
   "outputs": [],
   "source": [
    "# 어텐션 맵 시각화"
   ]
  },
  {
   "cell_type": "code",
   "execution_count": null,
   "id": "cb4b121f",
   "metadata": {},
   "outputs": [],
   "source": [
    "#번역할 문장(sentence), 번역된 토큰(translated_tokens), 어텐션 헤드들의 가중치(attention_heads)를 입력으로 받습니다.\n",
    "def plot_attention_weights(sentence, translated_tokens, attention_heads):\n",
    "  # 입력 문장을 텐서로 변환하고 토큰화\n",
    "  # 시각화를 위한 그래프 설정\n",
    "  # 각 어텐션 헤드에 대한 어텐션 맵을 그래프로 표시"
   ]
  },
  {
   "cell_type": "code",
   "execution_count": null,
   "id": "f47777c7",
   "metadata": {},
   "outputs": [],
   "source": [
    "# 주어진 문장, 번역된 토큰, 첫 번째 어텐션 헤드의 가중치를 사용하여 어텐션 맵 시각화"
   ]
  },
  {
   "cell_type": "markdown",
   "id": "4e4fdb1d",
   "metadata": {
    "id": "9zz4uIDbT1OU"
   },
   "source": [
    "## model export"
   ]
  },
  {
   "cell_type": "markdown",
   "id": "2cc28cef",
   "metadata": {
    "id": "zunHPJJzT4Cz"
   },
   "source": [
    "모델을 테스트했으며 추론이 작동하고 있습니다. 다음으로 `tf.saved_model`로 내보낼 수 있습니다."
   ]
  },
  {
   "cell_type": "code",
   "execution_count": null,
   "id": "7af3b2d6",
   "metadata": {},
   "outputs": [],
   "source": [
    "class ExportTranslator(tf.Module):\n",
    "  def __init__(self, translator):\n",
    "  def __call__(self, sentence):\n",
    "    # translator 객체를 사용하여 주어진 문장을 번역"
   ]
  },
  {
   "cell_type": "code",
   "execution_count": null,
   "id": "287625bb",
   "metadata": {},
   "outputs": [],
   "source": []
  },
  {
   "cell_type": "markdown",
   "id": "bf2ff948",
   "metadata": {
    "id": "7VPH4T5XUDnc"
   },
   "source": [
    "모델이 `tf.argmax`를 사용하여 예측을 디코딩하므로 예측은 deterministic입니다. 원본 모델과 'SavedModel'에서 다시 로드된 모델은 동일한 예측을 제공해야 합니다."
   ]
  },
  {
   "cell_type": "code",
   "execution_count": null,
   "id": "d4d1b3ec",
   "metadata": {},
   "outputs": [],
   "source": []
  },
  {
   "cell_type": "code",
   "execution_count": null,
   "id": "220267c0",
   "metadata": {},
   "outputs": [],
   "source": []
  },
  {
   "cell_type": "code",
   "execution_count": null,
   "id": "6a6e2f63",
   "metadata": {},
   "outputs": [],
   "source": []
  },
  {
   "cell_type": "code",
   "execution_count": null,
   "id": "30463b12",
   "metadata": {},
   "outputs": [],
   "source": []
  },
  {
   "cell_type": "code",
   "execution_count": null,
   "id": "6164cc3e",
   "metadata": {},
   "outputs": [],
   "source": []
  }
 ],
 "metadata": {
  "accelerator": "GPU",
  "colab": {
   "gpuType": "T4",
   "provenance": []
  },
  "kernelspec": {
   "display_name": "Python 3 (ipykernel)",
   "language": "python",
   "name": "python3"
  },
  "language_info": {
   "codemirror_mode": {
    "name": "ipython",
    "version": 3
   },
   "file_extension": ".py",
   "mimetype": "text/x-python",
   "name": "python",
   "nbconvert_exporter": "python",
   "pygments_lexer": "ipython3",
   "version": "3.9.7"
  },
  "widgets": {
   "application/vnd.jupyter.widget-state+json": {
    "012fd16db6604d0a98bd9cdf5f781c75": {
     "model_module": "@jupyter-widgets/controls",
     "model_module_version": "1.5.0",
     "model_name": "HTMLModel",
     "state": {
      "_dom_classes": [],
      "_model_module": "@jupyter-widgets/controls",
      "_model_module_version": "1.5.0",
      "_model_name": "HTMLModel",
      "_view_count": null,
      "_view_module": "@jupyter-widgets/controls",
      "_view_module_version": "1.5.0",
      "_view_name": "HTMLView",
      "description": "",
      "description_tooltip": null,
      "layout": "IPY_MODEL_bd6e73daa1b54d13844a9040e84ded0c",
      "placeholder": "​",
      "style": "IPY_MODEL_390763c454274554ae414da6b639b0cf",
      "value": "Extraction completed...: 100%"
     }
    },
    "041bafbf76f648f0851bbedc252600e0": {
     "model_module": "@jupyter-widgets/controls",
     "model_module_version": "1.5.0",
     "model_name": "FloatProgressModel",
     "state": {
      "_dom_classes": [],
      "_model_module": "@jupyter-widgets/controls",
      "_model_module_version": "1.5.0",
      "_model_name": "FloatProgressModel",
      "_view_count": null,
      "_view_module": "@jupyter-widgets/controls",
      "_view_module_version": "1.5.0",
      "_view_name": "ProgressView",
      "bar_style": "",
      "description": "",
      "description_tooltip": null,
      "layout": "IPY_MODEL_3a8c1ba40d1149ce9b88575489f21552",
      "max": 1803,
      "min": 0,
      "orientation": "horizontal",
      "style": "IPY_MODEL_7bb356ca6b75415d950cdcdff33b5d24",
      "value": 1803
     }
    },
    "048656dc3eaf4b1fbf820554acef6317": {
     "model_module": "@jupyter-widgets/controls",
     "model_module_version": "1.5.0",
     "model_name": "DescriptionStyleModel",
     "state": {
      "_model_module": "@jupyter-widgets/controls",
      "_model_module_version": "1.5.0",
      "_model_name": "DescriptionStyleModel",
      "_view_count": null,
      "_view_module": "@jupyter-widgets/base",
      "_view_module_version": "1.2.0",
      "_view_name": "StyleView",
      "description_width": ""
     }
    },
    "0851681fc8254a3fbd45af3db53be13a": {
     "model_module": "@jupyter-widgets/controls",
     "model_module_version": "1.5.0",
     "model_name": "DescriptionStyleModel",
     "state": {
      "_model_module": "@jupyter-widgets/controls",
      "_model_module_version": "1.5.0",
      "_model_name": "DescriptionStyleModel",
      "_view_count": null,
      "_view_module": "@jupyter-widgets/base",
      "_view_module_version": "1.2.0",
      "_view_name": "StyleView",
      "description_width": ""
     }
    },
    "0b6bb607552c4b4ba090963b8972746a": {
     "model_module": "@jupyter-widgets/controls",
     "model_module_version": "1.5.0",
     "model_name": "HTMLModel",
     "state": {
      "_dom_classes": [],
      "_model_module": "@jupyter-widgets/controls",
      "_model_module_version": "1.5.0",
      "_model_name": "HTMLModel",
      "_view_count": null,
      "_view_module": "@jupyter-widgets/controls",
      "_view_module_version": "1.5.0",
      "_view_name": "HTMLView",
      "description": "",
      "description_tooltip": null,
      "layout": "IPY_MODEL_998cd165124c45e6914027419eec82bf",
      "placeholder": "​",
      "style": "IPY_MODEL_7221c8399429483592714b3315d4cbe0",
      "value": " 46944/51785 [00:04&lt;00:00, 12939.32 examples/s]"
     }
    },
    "10ad17622c274c36a6693bff7e0c7fe8": {
     "model_module": "@jupyter-widgets/controls",
     "model_module_version": "1.5.0",
     "model_name": "DescriptionStyleModel",
     "state": {
      "_model_module": "@jupyter-widgets/controls",
      "_model_module_version": "1.5.0",
      "_model_name": "DescriptionStyleModel",
      "_view_count": null,
      "_view_module": "@jupyter-widgets/base",
      "_view_module_version": "1.2.0",
      "_view_name": "StyleView",
      "description_width": ""
     }
    },
    "155f95d9a0014a8f81d229c480e59d48": {
     "model_module": "@jupyter-widgets/controls",
     "model_module_version": "1.5.0",
     "model_name": "ProgressStyleModel",
     "state": {
      "_model_module": "@jupyter-widgets/controls",
      "_model_module_version": "1.5.0",
      "_model_name": "ProgressStyleModel",
      "_view_count": null,
      "_view_module": "@jupyter-widgets/base",
      "_view_module_version": "1.2.0",
      "_view_name": "StyleView",
      "bar_color": null,
      "description_width": ""
     }
    },
    "15a4a60276254a8c96f74d41c6afc07f": {
     "model_module": "@jupyter-widgets/controls",
     "model_module_version": "1.5.0",
     "model_name": "HTMLModel",
     "state": {
      "_dom_classes": [],
      "_model_module": "@jupyter-widgets/controls",
      "_model_module_version": "1.5.0",
      "_model_name": "HTMLModel",
      "_view_count": null,
      "_view_module": "@jupyter-widgets/controls",
      "_view_module_version": "1.5.0",
      "_view_name": "HTMLView",
      "description": "",
      "description_tooltip": null,
      "layout": "IPY_MODEL_c50bb1723e6d480ca4ce4eebf891a857",
      "placeholder": "​",
      "style": "IPY_MODEL_a95b3886c5a24de5a7590ec343c3e317",
      "value": " 0/1803 [00:00&lt;?, ? examples/s]"
     }
    },
    "165e032076e14273a1a21bfb47edc934": {
     "model_module": "@jupyter-widgets/controls",
     "model_module_version": "1.5.0",
     "model_name": "HTMLModel",
     "state": {
      "_dom_classes": [],
      "_model_module": "@jupyter-widgets/controls",
      "_model_module_version": "1.5.0",
      "_model_name": "HTMLModel",
      "_view_count": null,
      "_view_module": "@jupyter-widgets/controls",
      "_view_module_version": "1.5.0",
      "_view_name": "HTMLView",
      "description": "",
      "description_tooltip": null,
      "layout": "IPY_MODEL_71aae01d397a4886bb5361f0e9b38ffb",
      "placeholder": "​",
      "style": "IPY_MODEL_45f1aae83db74f3ea24255d86dddf2fa",
      "value": " 3/3 [00:05&lt;00:00,  1.20s/ splits]"
     }
    },
    "16be87dde75e449f84ed714d87ed6b9a": {
     "model_module": "@jupyter-widgets/base",
     "model_module_version": "1.2.0",
     "model_name": "LayoutModel",
     "state": {
      "_model_module": "@jupyter-widgets/base",
      "_model_module_version": "1.2.0",
      "_model_name": "LayoutModel",
      "_view_count": null,
      "_view_module": "@jupyter-widgets/base",
      "_view_module_version": "1.2.0",
      "_view_name": "LayoutView",
      "align_content": null,
      "align_items": null,
      "align_self": null,
      "border": null,
      "bottom": null,
      "display": null,
      "flex": null,
      "flex_flow": null,
      "grid_area": null,
      "grid_auto_columns": null,
      "grid_auto_flow": null,
      "grid_auto_rows": null,
      "grid_column": null,
      "grid_gap": null,
      "grid_row": null,
      "grid_template_areas": null,
      "grid_template_columns": null,
      "grid_template_rows": null,
      "height": null,
      "justify_content": null,
      "justify_items": null,
      "left": null,
      "margin": null,
      "max_height": null,
      "max_width": null,
      "min_height": null,
      "min_width": null,
      "object_fit": null,
      "object_position": null,
      "order": null,
      "overflow": null,
      "overflow_x": null,
      "overflow_y": null,
      "padding": null,
      "right": null,
      "top": null,
      "visibility": null,
      "width": null
     }
    },
    "192411a6853f4414a956ee8d9b4b3d9f": {
     "model_module": "@jupyter-widgets/base",
     "model_module_version": "1.2.0",
     "model_name": "LayoutModel",
     "state": {
      "_model_module": "@jupyter-widgets/base",
      "_model_module_version": "1.2.0",
      "_model_name": "LayoutModel",
      "_view_count": null,
      "_view_module": "@jupyter-widgets/base",
      "_view_module_version": "1.2.0",
      "_view_name": "LayoutView",
      "align_content": null,
      "align_items": null,
      "align_self": null,
      "border": null,
      "bottom": null,
      "display": null,
      "flex": null,
      "flex_flow": null,
      "grid_area": null,
      "grid_auto_columns": null,
      "grid_auto_flow": null,
      "grid_auto_rows": null,
      "grid_column": null,
      "grid_gap": null,
      "grid_row": null,
      "grid_template_areas": null,
      "grid_template_columns": null,
      "grid_template_rows": null,
      "height": null,
      "justify_content": null,
      "justify_items": null,
      "left": null,
      "margin": null,
      "max_height": null,
      "max_width": null,
      "min_height": null,
      "min_width": null,
      "object_fit": null,
      "object_position": null,
      "order": null,
      "overflow": null,
      "overflow_x": null,
      "overflow_y": null,
      "padding": null,
      "right": null,
      "top": null,
      "visibility": null,
      "width": null
     }
    },
    "1f1e116e77314b65b92950a9ef630e2d": {
     "model_module": "@jupyter-widgets/base",
     "model_module_version": "1.2.0",
     "model_name": "LayoutModel",
     "state": {
      "_model_module": "@jupyter-widgets/base",
      "_model_module_version": "1.2.0",
      "_model_name": "LayoutModel",
      "_view_count": null,
      "_view_module": "@jupyter-widgets/base",
      "_view_module_version": "1.2.0",
      "_view_name": "LayoutView",
      "align_content": null,
      "align_items": null,
      "align_self": null,
      "border": null,
      "bottom": null,
      "display": null,
      "flex": null,
      "flex_flow": null,
      "grid_area": null,
      "grid_auto_columns": null,
      "grid_auto_flow": null,
      "grid_auto_rows": null,
      "grid_column": null,
      "grid_gap": null,
      "grid_row": null,
      "grid_template_areas": null,
      "grid_template_columns": null,
      "grid_template_rows": null,
      "height": null,
      "justify_content": null,
      "justify_items": null,
      "left": null,
      "margin": null,
      "max_height": null,
      "max_width": null,
      "min_height": null,
      "min_width": null,
      "object_fit": null,
      "object_position": null,
      "order": null,
      "overflow": null,
      "overflow_x": null,
      "overflow_y": null,
      "padding": null,
      "right": null,
      "top": null,
      "visibility": "hidden",
      "width": null
     }
    },
    "2c59d2c0063a423ab40d38187f803046": {
     "model_module": "@jupyter-widgets/controls",
     "model_module_version": "1.5.0",
     "model_name": "HTMLModel",
     "state": {
      "_dom_classes": [],
      "_model_module": "@jupyter-widgets/controls",
      "_model_module_version": "1.5.0",
      "_model_name": "HTMLModel",
      "_view_count": null,
      "_view_module": "@jupyter-widgets/controls",
      "_view_module_version": "1.5.0",
      "_view_name": "HTMLView",
      "description": "",
      "description_tooltip": null,
      "layout": "IPY_MODEL_30eb559d058647ecab2cee2597c77f04",
      "placeholder": "​",
      "style": "IPY_MODEL_0851681fc8254a3fbd45af3db53be13a",
      "value": " 0/1803 [00:00&lt;?, ? examples/s]"
     }
    },
    "2ca211e8da2f410c928cef8771e1ad83": {
     "model_module": "@jupyter-widgets/base",
     "model_module_version": "1.2.0",
     "model_name": "LayoutModel",
     "state": {
      "_model_module": "@jupyter-widgets/base",
      "_model_module_version": "1.2.0",
      "_model_name": "LayoutModel",
      "_view_count": null,
      "_view_module": "@jupyter-widgets/base",
      "_view_module_version": "1.2.0",
      "_view_name": "LayoutView",
      "align_content": null,
      "align_items": null,
      "align_self": null,
      "border": null,
      "bottom": null,
      "display": null,
      "flex": null,
      "flex_flow": null,
      "grid_area": null,
      "grid_auto_columns": null,
      "grid_auto_flow": null,
      "grid_auto_rows": null,
      "grid_column": null,
      "grid_gap": null,
      "grid_row": null,
      "grid_template_areas": null,
      "grid_template_columns": null,
      "grid_template_rows": null,
      "height": null,
      "justify_content": null,
      "justify_items": null,
      "left": null,
      "margin": null,
      "max_height": null,
      "max_width": null,
      "min_height": null,
      "min_width": null,
      "object_fit": null,
      "object_position": null,
      "order": null,
      "overflow": null,
      "overflow_x": null,
      "overflow_y": null,
      "padding": null,
      "right": null,
      "top": null,
      "visibility": null,
      "width": null
     }
    },
    "30eb559d058647ecab2cee2597c77f04": {
     "model_module": "@jupyter-widgets/base",
     "model_module_version": "1.2.0",
     "model_name": "LayoutModel",
     "state": {
      "_model_module": "@jupyter-widgets/base",
      "_model_module_version": "1.2.0",
      "_model_name": "LayoutModel",
      "_view_count": null,
      "_view_module": "@jupyter-widgets/base",
      "_view_module_version": "1.2.0",
      "_view_name": "LayoutView",
      "align_content": null,
      "align_items": null,
      "align_self": null,
      "border": null,
      "bottom": null,
      "display": null,
      "flex": null,
      "flex_flow": null,
      "grid_area": null,
      "grid_auto_columns": null,
      "grid_auto_flow": null,
      "grid_auto_rows": null,
      "grid_column": null,
      "grid_gap": null,
      "grid_row": null,
      "grid_template_areas": null,
      "grid_template_columns": null,
      "grid_template_rows": null,
      "height": null,
      "justify_content": null,
      "justify_items": null,
      "left": null,
      "margin": null,
      "max_height": null,
      "max_width": null,
      "min_height": null,
      "min_width": null,
      "object_fit": null,
      "object_position": null,
      "order": null,
      "overflow": null,
      "overflow_x": null,
      "overflow_y": null,
      "padding": null,
      "right": null,
      "top": null,
      "visibility": null,
      "width": null
     }
    },
    "32d1d9e4062f4aa8bafa4a15757d6c70": {
     "model_module": "@jupyter-widgets/base",
     "model_module_version": "1.2.0",
     "model_name": "LayoutModel",
     "state": {
      "_model_module": "@jupyter-widgets/base",
      "_model_module_version": "1.2.0",
      "_model_name": "LayoutModel",
      "_view_count": null,
      "_view_module": "@jupyter-widgets/base",
      "_view_module_version": "1.2.0",
      "_view_name": "LayoutView",
      "align_content": null,
      "align_items": null,
      "align_self": null,
      "border": null,
      "bottom": null,
      "display": null,
      "flex": null,
      "flex_flow": null,
      "grid_area": null,
      "grid_auto_columns": null,
      "grid_auto_flow": null,
      "grid_auto_rows": null,
      "grid_column": null,
      "grid_gap": null,
      "grid_row": null,
      "grid_template_areas": null,
      "grid_template_columns": null,
      "grid_template_rows": null,
      "height": null,
      "justify_content": null,
      "justify_items": null,
      "left": null,
      "margin": null,
      "max_height": null,
      "max_width": null,
      "min_height": null,
      "min_width": null,
      "object_fit": null,
      "object_position": null,
      "order": null,
      "overflow": null,
      "overflow_x": null,
      "overflow_y": null,
      "padding": null,
      "right": null,
      "top": null,
      "visibility": null,
      "width": null
     }
    },
    "350b5ff497bd4963ad9c00ad6f27cbfa": {
     "model_module": "@jupyter-widgets/controls",
     "model_module_version": "1.5.0",
     "model_name": "HTMLModel",
     "state": {
      "_dom_classes": [],
      "_model_module": "@jupyter-widgets/controls",
      "_model_module_version": "1.5.0",
      "_model_name": "HTMLModel",
      "_view_count": null,
      "_view_module": "@jupyter-widgets/controls",
      "_view_module_version": "1.5.0",
      "_view_name": "HTMLView",
      "description": "",
      "description_tooltip": null,
      "layout": "IPY_MODEL_9c54b36c11c9415cb70a2078527ed55e",
      "placeholder": "​",
      "style": "IPY_MODEL_d15fb0899775460da4660a304c988d28",
      "value": "Dl Size...: 100%"
     }
    },
    "36e297cc6d8d446daec5a7f11157de6f": {
     "model_module": "@jupyter-widgets/controls",
     "model_module_version": "1.5.0",
     "model_name": "HBoxModel",
     "state": {
      "_dom_classes": [],
      "_model_module": "@jupyter-widgets/controls",
      "_model_module_version": "1.5.0",
      "_model_name": "HBoxModel",
      "_view_count": null,
      "_view_module": "@jupyter-widgets/controls",
      "_view_module_version": "1.5.0",
      "_view_name": "HBoxView",
      "box_style": "",
      "children": [
       "IPY_MODEL_ee89dd8f1d51448dac46bb9300028567",
       "IPY_MODEL_498e6ec9fd3a487b8cb3a0e03741d1ec",
       "IPY_MODEL_2c59d2c0063a423ab40d38187f803046"
      ],
      "layout": "IPY_MODEL_1f1e116e77314b65b92950a9ef630e2d"
     }
    },
    "375d5499e4534149b5d22aeaed62e63a": {
     "model_module": "@jupyter-widgets/base",
     "model_module_version": "1.2.0",
     "model_name": "LayoutModel",
     "state": {
      "_model_module": "@jupyter-widgets/base",
      "_model_module_version": "1.2.0",
      "_model_name": "LayoutModel",
      "_view_count": null,
      "_view_module": "@jupyter-widgets/base",
      "_view_module_version": "1.2.0",
      "_view_name": "LayoutView",
      "align_content": null,
      "align_items": null,
      "align_self": null,
      "border": null,
      "bottom": null,
      "display": null,
      "flex": null,
      "flex_flow": null,
      "grid_area": null,
      "grid_auto_columns": null,
      "grid_auto_flow": null,
      "grid_auto_rows": null,
      "grid_column": null,
      "grid_gap": null,
      "grid_row": null,
      "grid_template_areas": null,
      "grid_template_columns": null,
      "grid_template_rows": null,
      "height": null,
      "justify_content": null,
      "justify_items": null,
      "left": null,
      "margin": null,
      "max_height": null,
      "max_width": null,
      "min_height": null,
      "min_width": null,
      "object_fit": null,
      "object_position": null,
      "order": null,
      "overflow": null,
      "overflow_x": null,
      "overflow_y": null,
      "padding": null,
      "right": null,
      "top": null,
      "visibility": null,
      "width": null
     }
    },
    "390763c454274554ae414da6b639b0cf": {
     "model_module": "@jupyter-widgets/controls",
     "model_module_version": "1.5.0",
     "model_name": "DescriptionStyleModel",
     "state": {
      "_model_module": "@jupyter-widgets/controls",
      "_model_module_version": "1.5.0",
      "_model_name": "DescriptionStyleModel",
      "_view_count": null,
      "_view_module": "@jupyter-widgets/base",
      "_view_module_version": "1.2.0",
      "_view_name": "StyleView",
      "description_width": ""
     }
    },
    "39b9d58cb7a74495960e4db31cd24c64": {
     "model_module": "@jupyter-widgets/controls",
     "model_module_version": "1.5.0",
     "model_name": "DescriptionStyleModel",
     "state": {
      "_model_module": "@jupyter-widgets/controls",
      "_model_module_version": "1.5.0",
      "_model_name": "DescriptionStyleModel",
      "_view_count": null,
      "_view_module": "@jupyter-widgets/base",
      "_view_module_version": "1.2.0",
      "_view_name": "StyleView",
      "description_width": ""
     }
    },
    "3a389b66cbbd4e028aa5078c4134ef18": {
     "model_module": "@jupyter-widgets/base",
     "model_module_version": "1.2.0",
     "model_name": "LayoutModel",
     "state": {
      "_model_module": "@jupyter-widgets/base",
      "_model_module_version": "1.2.0",
      "_model_name": "LayoutModel",
      "_view_count": null,
      "_view_module": "@jupyter-widgets/base",
      "_view_module_version": "1.2.0",
      "_view_name": "LayoutView",
      "align_content": null,
      "align_items": null,
      "align_self": null,
      "border": null,
      "bottom": null,
      "display": null,
      "flex": null,
      "flex_flow": null,
      "grid_area": null,
      "grid_auto_columns": null,
      "grid_auto_flow": null,
      "grid_auto_rows": null,
      "grid_column": null,
      "grid_gap": null,
      "grid_row": null,
      "grid_template_areas": null,
      "grid_template_columns": null,
      "grid_template_rows": null,
      "height": null,
      "justify_content": null,
      "justify_items": null,
      "left": null,
      "margin": null,
      "max_height": null,
      "max_width": null,
      "min_height": null,
      "min_width": null,
      "object_fit": null,
      "object_position": null,
      "order": null,
      "overflow": null,
      "overflow_x": null,
      "overflow_y": null,
      "padding": null,
      "right": null,
      "top": null,
      "visibility": null,
      "width": null
     }
    },
    "3a57713ff12a428d86f55e8b64166ae1": {
     "model_module": "@jupyter-widgets/controls",
     "model_module_version": "1.5.0",
     "model_name": "FloatProgressModel",
     "state": {
      "_dom_classes": [],
      "_model_module": "@jupyter-widgets/controls",
      "_model_module_version": "1.5.0",
      "_model_name": "FloatProgressModel",
      "_view_count": null,
      "_view_module": "@jupyter-widgets/controls",
      "_view_module_version": "1.5.0",
      "_view_name": "ProgressView",
      "bar_style": "",
      "description": "",
      "description_tooltip": null,
      "layout": "IPY_MODEL_41ca59098cc74e19aad1697ecaeb1ca7",
      "max": 1193,
      "min": 0,
      "orientation": "horizontal",
      "style": "IPY_MODEL_d43191d380584eadbfa5452f24cd1da3",
      "value": 1193
     }
    },
    "3a8c1ba40d1149ce9b88575489f21552": {
     "model_module": "@jupyter-widgets/base",
     "model_module_version": "1.2.0",
     "model_name": "LayoutModel",
     "state": {
      "_model_module": "@jupyter-widgets/base",
      "_model_module_version": "1.2.0",
      "_model_name": "LayoutModel",
      "_view_count": null,
      "_view_module": "@jupyter-widgets/base",
      "_view_module_version": "1.2.0",
      "_view_name": "LayoutView",
      "align_content": null,
      "align_items": null,
      "align_self": null,
      "border": null,
      "bottom": null,
      "display": null,
      "flex": null,
      "flex_flow": null,
      "grid_area": null,
      "grid_auto_columns": null,
      "grid_auto_flow": null,
      "grid_auto_rows": null,
      "grid_column": null,
      "grid_gap": null,
      "grid_row": null,
      "grid_template_areas": null,
      "grid_template_columns": null,
      "grid_template_rows": null,
      "height": null,
      "justify_content": null,
      "justify_items": null,
      "left": null,
      "margin": null,
      "max_height": null,
      "max_width": null,
      "min_height": null,
      "min_width": null,
      "object_fit": null,
      "object_position": null,
      "order": null,
      "overflow": null,
      "overflow_x": null,
      "overflow_y": null,
      "padding": null,
      "right": null,
      "top": null,
      "visibility": null,
      "width": null
     }
    },
    "3b96fdb52f6f46da9fcb265d1e6b07c6": {
     "model_module": "@jupyter-widgets/base",
     "model_module_version": "1.2.0",
     "model_name": "LayoutModel",
     "state": {
      "_model_module": "@jupyter-widgets/base",
      "_model_module_version": "1.2.0",
      "_model_name": "LayoutModel",
      "_view_count": null,
      "_view_module": "@jupyter-widgets/base",
      "_view_module_version": "1.2.0",
      "_view_name": "LayoutView",
      "align_content": null,
      "align_items": null,
      "align_self": null,
      "border": null,
      "bottom": null,
      "display": null,
      "flex": null,
      "flex_flow": null,
      "grid_area": null,
      "grid_auto_columns": null,
      "grid_auto_flow": null,
      "grid_auto_rows": null,
      "grid_column": null,
      "grid_gap": null,
      "grid_row": null,
      "grid_template_areas": null,
      "grid_template_columns": null,
      "grid_template_rows": null,
      "height": null,
      "justify_content": null,
      "justify_items": null,
      "left": null,
      "margin": null,
      "max_height": null,
      "max_width": null,
      "min_height": null,
      "min_width": null,
      "object_fit": null,
      "object_position": null,
      "order": null,
      "overflow": null,
      "overflow_x": null,
      "overflow_y": null,
      "padding": null,
      "right": null,
      "top": null,
      "visibility": null,
      "width": null
     }
    },
    "41a9c6ffa1d5411493282b68c2d39bff": {
     "model_module": "@jupyter-widgets/controls",
     "model_module_version": "1.5.0",
     "model_name": "ProgressStyleModel",
     "state": {
      "_model_module": "@jupyter-widgets/controls",
      "_model_module_version": "1.5.0",
      "_model_name": "ProgressStyleModel",
      "_view_count": null,
      "_view_module": "@jupyter-widgets/base",
      "_view_module_version": "1.2.0",
      "_view_name": "StyleView",
      "bar_color": null,
      "description_width": ""
     }
    },
    "41ca59098cc74e19aad1697ecaeb1ca7": {
     "model_module": "@jupyter-widgets/base",
     "model_module_version": "1.2.0",
     "model_name": "LayoutModel",
     "state": {
      "_model_module": "@jupyter-widgets/base",
      "_model_module_version": "1.2.0",
      "_model_name": "LayoutModel",
      "_view_count": null,
      "_view_module": "@jupyter-widgets/base",
      "_view_module_version": "1.2.0",
      "_view_name": "LayoutView",
      "align_content": null,
      "align_items": null,
      "align_self": null,
      "border": null,
      "bottom": null,
      "display": null,
      "flex": null,
      "flex_flow": null,
      "grid_area": null,
      "grid_auto_columns": null,
      "grid_auto_flow": null,
      "grid_auto_rows": null,
      "grid_column": null,
      "grid_gap": null,
      "grid_row": null,
      "grid_template_areas": null,
      "grid_template_columns": null,
      "grid_template_rows": null,
      "height": null,
      "justify_content": null,
      "justify_items": null,
      "left": null,
      "margin": null,
      "max_height": null,
      "max_width": null,
      "min_height": null,
      "min_width": null,
      "object_fit": null,
      "object_position": null,
      "order": null,
      "overflow": null,
      "overflow_x": null,
      "overflow_y": null,
      "padding": null,
      "right": null,
      "top": null,
      "visibility": null,
      "width": null
     }
    },
    "420a8e413aed4afaa83acd8f2e1886f7": {
     "model_module": "@jupyter-widgets/controls",
     "model_module_version": "1.5.0",
     "model_name": "HTMLModel",
     "state": {
      "_dom_classes": [],
      "_model_module": "@jupyter-widgets/controls",
      "_model_module_version": "1.5.0",
      "_model_name": "HTMLModel",
      "_view_count": null,
      "_view_module": "@jupyter-widgets/controls",
      "_view_module_version": "1.5.0",
      "_view_name": "HTMLView",
      "description": "",
      "description_tooltip": null,
      "layout": "IPY_MODEL_375d5499e4534149b5d22aeaed62e63a",
      "placeholder": "​",
      "style": "IPY_MODEL_39b9d58cb7a74495960e4db31cd24c64",
      "value": "Shuffling /root/tensorflow_datasets/ted_hrlr_translate/pt_to_en/incomplete.T3OPRA_1.0.0/ted_hrlr_translate-test.tfrecord*...:   0%"
     }
    },
    "433c8b684a724d23a37536a9c171afb8": {
     "model_module": "@jupyter-widgets/base",
     "model_module_version": "1.2.0",
     "model_name": "LayoutModel",
     "state": {
      "_model_module": "@jupyter-widgets/base",
      "_model_module_version": "1.2.0",
      "_model_name": "LayoutModel",
      "_view_count": null,
      "_view_module": "@jupyter-widgets/base",
      "_view_module_version": "1.2.0",
      "_view_name": "LayoutView",
      "align_content": null,
      "align_items": null,
      "align_self": null,
      "border": null,
      "bottom": null,
      "display": null,
      "flex": null,
      "flex_flow": null,
      "grid_area": null,
      "grid_auto_columns": null,
      "grid_auto_flow": null,
      "grid_auto_rows": null,
      "grid_column": null,
      "grid_gap": null,
      "grid_row": null,
      "grid_template_areas": null,
      "grid_template_columns": null,
      "grid_template_rows": null,
      "height": null,
      "justify_content": null,
      "justify_items": null,
      "left": null,
      "margin": null,
      "max_height": null,
      "max_width": null,
      "min_height": null,
      "min_width": null,
      "object_fit": null,
      "object_position": null,
      "order": null,
      "overflow": null,
      "overflow_x": null,
      "overflow_y": null,
      "padding": null,
      "right": null,
      "top": null,
      "visibility": null,
      "width": null
     }
    },
    "45f1aae83db74f3ea24255d86dddf2fa": {
     "model_module": "@jupyter-widgets/controls",
     "model_module_version": "1.5.0",
     "model_name": "DescriptionStyleModel",
     "state": {
      "_model_module": "@jupyter-widgets/controls",
      "_model_module_version": "1.5.0",
      "_model_name": "DescriptionStyleModel",
      "_view_count": null,
      "_view_module": "@jupyter-widgets/base",
      "_view_module_version": "1.2.0",
      "_view_name": "StyleView",
      "description_width": ""
     }
    },
    "478e38081fcb4f61b7586142362f1248": {
     "model_module": "@jupyter-widgets/controls",
     "model_module_version": "1.5.0",
     "model_name": "HBoxModel",
     "state": {
      "_dom_classes": [],
      "_model_module": "@jupyter-widgets/controls",
      "_model_module_version": "1.5.0",
      "_model_name": "HBoxModel",
      "_view_count": null,
      "_view_module": "@jupyter-widgets/controls",
      "_view_module_version": "1.5.0",
      "_view_name": "HBoxView",
      "box_style": "",
      "children": [
       "IPY_MODEL_012fd16db6604d0a98bd9cdf5f781c75",
       "IPY_MODEL_673aa096209c40e1931beb26a7c2c9d9",
       "IPY_MODEL_ae6589130c634242833f25c3380a7608"
      ],
      "layout": "IPY_MODEL_d7b006a497084dbbb81dee5e893c0b99"
     }
    },
    "4824aeb70850409391779005ac1378b3": {
     "model_module": "@jupyter-widgets/controls",
     "model_module_version": "1.5.0",
     "model_name": "HBoxModel",
     "state": {
      "_dom_classes": [],
      "_model_module": "@jupyter-widgets/controls",
      "_model_module_version": "1.5.0",
      "_model_name": "HBoxModel",
      "_view_count": null,
      "_view_module": "@jupyter-widgets/controls",
      "_view_module_version": "1.5.0",
      "_view_name": "HBoxView",
      "box_style": "",
      "children": [
       "IPY_MODEL_350b5ff497bd4963ad9c00ad6f27cbfa",
       "IPY_MODEL_ea76341793ee4881bcedc0603cc132a8",
       "IPY_MODEL_5617a86b8d4945dc80393c71a4114250"
      ],
      "layout": "IPY_MODEL_c487ec827b8e47669ba463210fd4fec0"
     }
    },
    "498e6ec9fd3a487b8cb3a0e03741d1ec": {
     "model_module": "@jupyter-widgets/controls",
     "model_module_version": "1.5.0",
     "model_name": "FloatProgressModel",
     "state": {
      "_dom_classes": [],
      "_model_module": "@jupyter-widgets/controls",
      "_model_module_version": "1.5.0",
      "_model_name": "FloatProgressModel",
      "_view_count": null,
      "_view_module": "@jupyter-widgets/controls",
      "_view_module_version": "1.5.0",
      "_view_name": "ProgressView",
      "bar_style": "",
      "description": "",
      "description_tooltip": null,
      "layout": "IPY_MODEL_b8d5a518d7034a7987175eda513600ea",
      "max": 1803,
      "min": 0,
      "orientation": "horizontal",
      "style": "IPY_MODEL_bec1a304ba314aa0b4663935230d5eb7",
      "value": 1803
     }
    },
    "4d44eb81a40e425b8645de826e11337b": {
     "model_module": "@jupyter-widgets/base",
     "model_module_version": "1.2.0",
     "model_name": "LayoutModel",
     "state": {
      "_model_module": "@jupyter-widgets/base",
      "_model_module_version": "1.2.0",
      "_model_name": "LayoutModel",
      "_view_count": null,
      "_view_module": "@jupyter-widgets/base",
      "_view_module_version": "1.2.0",
      "_view_name": "LayoutView",
      "align_content": null,
      "align_items": null,
      "align_self": null,
      "border": null,
      "bottom": null,
      "display": null,
      "flex": null,
      "flex_flow": null,
      "grid_area": null,
      "grid_auto_columns": null,
      "grid_auto_flow": null,
      "grid_auto_rows": null,
      "grid_column": null,
      "grid_gap": null,
      "grid_row": null,
      "grid_template_areas": null,
      "grid_template_columns": null,
      "grid_template_rows": null,
      "height": null,
      "justify_content": null,
      "justify_items": null,
      "left": null,
      "margin": null,
      "max_height": null,
      "max_width": null,
      "min_height": null,
      "min_width": null,
      "object_fit": null,
      "object_position": null,
      "order": null,
      "overflow": null,
      "overflow_x": null,
      "overflow_y": null,
      "padding": null,
      "right": null,
      "top": null,
      "visibility": "hidden",
      "width": null
     }
    },
    "4f5bcfbcc71f418ebdd388e60ade62c1": {
     "model_module": "@jupyter-widgets/controls",
     "model_module_version": "1.5.0",
     "model_name": "FloatProgressModel",
     "state": {
      "_dom_classes": [],
      "_model_module": "@jupyter-widgets/controls",
      "_model_module_version": "1.5.0",
      "_model_name": "FloatProgressModel",
      "_view_count": null,
      "_view_module": "@jupyter-widgets/controls",
      "_view_module_version": "1.5.0",
      "_view_name": "ProgressView",
      "bar_style": "",
      "description": "",
      "description_tooltip": null,
      "layout": "IPY_MODEL_3b96fdb52f6f46da9fcb265d1e6b07c6",
      "max": 51785,
      "min": 0,
      "orientation": "horizontal",
      "style": "IPY_MODEL_41a9c6ffa1d5411493282b68c2d39bff",
      "value": 51785
     }
    },
    "4fdac4c49bc540c2bf05a18d58182ff3": {
     "model_module": "@jupyter-widgets/controls",
     "model_module_version": "1.5.0",
     "model_name": "DescriptionStyleModel",
     "state": {
      "_model_module": "@jupyter-widgets/controls",
      "_model_module_version": "1.5.0",
      "_model_name": "DescriptionStyleModel",
      "_view_count": null,
      "_view_module": "@jupyter-widgets/base",
      "_view_module_version": "1.2.0",
      "_view_name": "StyleView",
      "description_width": ""
     }
    },
    "5111869d71994a369e38c01b388b45a6": {
     "model_module": "@jupyter-widgets/base",
     "model_module_version": "1.2.0",
     "model_name": "LayoutModel",
     "state": {
      "_model_module": "@jupyter-widgets/base",
      "_model_module_version": "1.2.0",
      "_model_name": "LayoutModel",
      "_view_count": null,
      "_view_module": "@jupyter-widgets/base",
      "_view_module_version": "1.2.0",
      "_view_name": "LayoutView",
      "align_content": null,
      "align_items": null,
      "align_self": null,
      "border": null,
      "bottom": null,
      "display": null,
      "flex": null,
      "flex_flow": null,
      "grid_area": null,
      "grid_auto_columns": null,
      "grid_auto_flow": null,
      "grid_auto_rows": null,
      "grid_column": null,
      "grid_gap": null,
      "grid_row": null,
      "grid_template_areas": null,
      "grid_template_columns": null,
      "grid_template_rows": null,
      "height": null,
      "justify_content": null,
      "justify_items": null,
      "left": null,
      "margin": null,
      "max_height": null,
      "max_width": null,
      "min_height": null,
      "min_width": null,
      "object_fit": null,
      "object_position": null,
      "order": null,
      "overflow": null,
      "overflow_x": null,
      "overflow_y": null,
      "padding": null,
      "right": null,
      "top": null,
      "visibility": null,
      "width": null
     }
    },
    "545036c537c645bd8f0a640fdc0e5244": {
     "model_module": "@jupyter-widgets/controls",
     "model_module_version": "1.5.0",
     "model_name": "DescriptionStyleModel",
     "state": {
      "_model_module": "@jupyter-widgets/controls",
      "_model_module_version": "1.5.0",
      "_model_name": "DescriptionStyleModel",
      "_view_count": null,
      "_view_module": "@jupyter-widgets/base",
      "_view_module_version": "1.2.0",
      "_view_name": "StyleView",
      "description_width": ""
     }
    },
    "5617a86b8d4945dc80393c71a4114250": {
     "model_module": "@jupyter-widgets/controls",
     "model_module_version": "1.5.0",
     "model_name": "HTMLModel",
     "state": {
      "_dom_classes": [],
      "_model_module": "@jupyter-widgets/controls",
      "_model_module_version": "1.5.0",
      "_model_name": "HTMLModel",
      "_view_count": null,
      "_view_module": "@jupyter-widgets/controls",
      "_view_module_version": "1.5.0",
      "_view_name": "HTMLView",
      "description": "",
      "description_tooltip": null,
      "layout": "IPY_MODEL_16be87dde75e449f84ed714d87ed6b9a",
      "placeholder": "​",
      "style": "IPY_MODEL_d1410f9e2e0d49748ac7f939a996172c",
      "value": " 124/124 [00:10&lt;00:00, 22.40 MiB/s]"
     }
    },
    "5a2d9b9ba4924f8bbf653ea46a874a15": {
     "model_module": "@jupyter-widgets/controls",
     "model_module_version": "1.5.0",
     "model_name": "HTMLModel",
     "state": {
      "_dom_classes": [],
      "_model_module": "@jupyter-widgets/controls",
      "_model_module_version": "1.5.0",
      "_model_name": "HTMLModel",
      "_view_count": null,
      "_view_module": "@jupyter-widgets/controls",
      "_view_module_version": "1.5.0",
      "_view_name": "HTMLView",
      "description": "",
      "description_tooltip": null,
      "layout": "IPY_MODEL_192411a6853f4414a956ee8d9b4b3d9f",
      "placeholder": "​",
      "style": "IPY_MODEL_d0cd8396458b46b49d7a01ed5c2ba05f",
      "value": "Dl Completed...: 100%"
     }
    },
    "5d4dc63effd44813a059642189ed00a5": {
     "model_module": "@jupyter-widgets/controls",
     "model_module_version": "1.5.0",
     "model_name": "HTMLModel",
     "state": {
      "_dom_classes": [],
      "_model_module": "@jupyter-widgets/controls",
      "_model_module_version": "1.5.0",
      "_model_name": "HTMLModel",
      "_view_count": null,
      "_view_module": "@jupyter-widgets/controls",
      "_view_module_version": "1.5.0",
      "_view_name": "HTMLView",
      "description": "",
      "description_tooltip": null,
      "layout": "IPY_MODEL_925e7f544c4a469e964d9e6973ad51d1",
      "placeholder": "​",
      "style": "IPY_MODEL_6c4fcf2514e3400abdf4ab9abf3bc55a",
      "value": " 1/1 [00:10&lt;00:00,  6.17s/ url]"
     }
    },
    "5fe72b07a19a42468bd836bffed28fc9": {
     "model_module": "@jupyter-widgets/controls",
     "model_module_version": "1.5.0",
     "model_name": "HBoxModel",
     "state": {
      "_dom_classes": [],
      "_model_module": "@jupyter-widgets/controls",
      "_model_module_version": "1.5.0",
      "_model_name": "HBoxModel",
      "_view_count": null,
      "_view_module": "@jupyter-widgets/controls",
      "_view_module_version": "1.5.0",
      "_view_name": "HBoxView",
      "box_style": "",
      "children": [
       "IPY_MODEL_a68ccfbed38c445e8225faeaf5e66b0a",
       "IPY_MODEL_4f5bcfbcc71f418ebdd388e60ade62c1",
       "IPY_MODEL_8950157ac7074c999e971b2784fe69fd"
      ],
      "layout": "IPY_MODEL_4d44eb81a40e425b8645de826e11337b"
     }
    },
    "673aa096209c40e1931beb26a7c2c9d9": {
     "model_module": "@jupyter-widgets/controls",
     "model_module_version": "1.5.0",
     "model_name": "FloatProgressModel",
     "state": {
      "_dom_classes": [],
      "_model_module": "@jupyter-widgets/controls",
      "_model_module_version": "1.5.0",
      "_model_name": "FloatProgressModel",
      "_view_count": null,
      "_view_module": "@jupyter-widgets/controls",
      "_view_module_version": "1.5.0",
      "_view_name": "ProgressView",
      "bar_style": "success",
      "description": "",
      "description_tooltip": null,
      "layout": "IPY_MODEL_ba0fe335a7ce4c92bf094872c75b47a2",
      "max": 1,
      "min": 0,
      "orientation": "horizontal",
      "style": "IPY_MODEL_72d80e9a6c7c4ebdaca86050d2cd2c4c",
      "value": 1
     }
    },
    "694a619bd9b24499a907c2f4dd8f6284": {
     "model_module": "@jupyter-widgets/base",
     "model_module_version": "1.2.0",
     "model_name": "LayoutModel",
     "state": {
      "_model_module": "@jupyter-widgets/base",
      "_model_module_version": "1.2.0",
      "_model_name": "LayoutModel",
      "_view_count": null,
      "_view_module": "@jupyter-widgets/base",
      "_view_module_version": "1.2.0",
      "_view_name": "LayoutView",
      "align_content": null,
      "align_items": null,
      "align_self": null,
      "border": null,
      "bottom": null,
      "display": null,
      "flex": null,
      "flex_flow": null,
      "grid_area": null,
      "grid_auto_columns": null,
      "grid_auto_flow": null,
      "grid_auto_rows": null,
      "grid_column": null,
      "grid_gap": null,
      "grid_row": null,
      "grid_template_areas": null,
      "grid_template_columns": null,
      "grid_template_rows": null,
      "height": null,
      "justify_content": null,
      "justify_items": null,
      "left": null,
      "margin": null,
      "max_height": null,
      "max_width": null,
      "min_height": null,
      "min_width": null,
      "object_fit": null,
      "object_position": null,
      "order": null,
      "overflow": null,
      "overflow_x": null,
      "overflow_y": null,
      "padding": null,
      "right": null,
      "top": null,
      "visibility": null,
      "width": null
     }
    },
    "696b4323efce4fa5812d1c392a1e2688": {
     "model_module": "@jupyter-widgets/controls",
     "model_module_version": "1.5.0",
     "model_name": "DescriptionStyleModel",
     "state": {
      "_model_module": "@jupyter-widgets/controls",
      "_model_module_version": "1.5.0",
      "_model_name": "DescriptionStyleModel",
      "_view_count": null,
      "_view_module": "@jupyter-widgets/base",
      "_view_module_version": "1.2.0",
      "_view_name": "StyleView",
      "description_width": ""
     }
    },
    "6b70d9db79cd4478af33f6b0ef662cbb": {
     "model_module": "@jupyter-widgets/controls",
     "model_module_version": "1.5.0",
     "model_name": "FloatProgressModel",
     "state": {
      "_dom_classes": [],
      "_model_module": "@jupyter-widgets/controls",
      "_model_module_version": "1.5.0",
      "_model_name": "FloatProgressModel",
      "_view_count": null,
      "_view_module": "@jupyter-widgets/controls",
      "_view_module_version": "1.5.0",
      "_view_name": "ProgressView",
      "bar_style": "",
      "description": "",
      "description_tooltip": null,
      "layout": "IPY_MODEL_85ac448171734db595b01dcb72fd757e",
      "max": 3,
      "min": 0,
      "orientation": "horizontal",
      "style": "IPY_MODEL_fd91676b65424509900988b77afddd25",
      "value": 3
     }
    },
    "6bc61c115ae44e98bd7ad762acd58b8b": {
     "model_module": "@jupyter-widgets/base",
     "model_module_version": "1.2.0",
     "model_name": "LayoutModel",
     "state": {
      "_model_module": "@jupyter-widgets/base",
      "_model_module_version": "1.2.0",
      "_model_name": "LayoutModel",
      "_view_count": null,
      "_view_module": "@jupyter-widgets/base",
      "_view_module_version": "1.2.0",
      "_view_name": "LayoutView",
      "align_content": null,
      "align_items": null,
      "align_self": null,
      "border": null,
      "bottom": null,
      "display": null,
      "flex": null,
      "flex_flow": null,
      "grid_area": null,
      "grid_auto_columns": null,
      "grid_auto_flow": null,
      "grid_auto_rows": null,
      "grid_column": null,
      "grid_gap": null,
      "grid_row": null,
      "grid_template_areas": null,
      "grid_template_columns": null,
      "grid_template_rows": null,
      "height": null,
      "justify_content": null,
      "justify_items": null,
      "left": null,
      "margin": null,
      "max_height": null,
      "max_width": null,
      "min_height": null,
      "min_width": null,
      "object_fit": null,
      "object_position": null,
      "order": null,
      "overflow": null,
      "overflow_x": null,
      "overflow_y": null,
      "padding": null,
      "right": null,
      "top": null,
      "visibility": null,
      "width": null
     }
    },
    "6c4fcf2514e3400abdf4ab9abf3bc55a": {
     "model_module": "@jupyter-widgets/controls",
     "model_module_version": "1.5.0",
     "model_name": "DescriptionStyleModel",
     "state": {
      "_model_module": "@jupyter-widgets/controls",
      "_model_module_version": "1.5.0",
      "_model_name": "DescriptionStyleModel",
      "_view_count": null,
      "_view_module": "@jupyter-widgets/base",
      "_view_module_version": "1.2.0",
      "_view_name": "StyleView",
      "description_width": ""
     }
    },
    "6feaad38d9304b889a6acf942ec21a28": {
     "model_module": "@jupyter-widgets/base",
     "model_module_version": "1.2.0",
     "model_name": "LayoutModel",
     "state": {
      "_model_module": "@jupyter-widgets/base",
      "_model_module_version": "1.2.0",
      "_model_name": "LayoutModel",
      "_view_count": null,
      "_view_module": "@jupyter-widgets/base",
      "_view_module_version": "1.2.0",
      "_view_name": "LayoutView",
      "align_content": null,
      "align_items": null,
      "align_self": null,
      "border": null,
      "bottom": null,
      "display": null,
      "flex": null,
      "flex_flow": null,
      "grid_area": null,
      "grid_auto_columns": null,
      "grid_auto_flow": null,
      "grid_auto_rows": null,
      "grid_column": null,
      "grid_gap": null,
      "grid_row": null,
      "grid_template_areas": null,
      "grid_template_columns": null,
      "grid_template_rows": null,
      "height": null,
      "justify_content": null,
      "justify_items": null,
      "left": null,
      "margin": null,
      "max_height": null,
      "max_width": null,
      "min_height": null,
      "min_width": null,
      "object_fit": null,
      "object_position": null,
      "order": null,
      "overflow": null,
      "overflow_x": null,
      "overflow_y": null,
      "padding": null,
      "right": null,
      "top": null,
      "visibility": "hidden",
      "width": null
     }
    },
    "71aae01d397a4886bb5361f0e9b38ffb": {
     "model_module": "@jupyter-widgets/base",
     "model_module_version": "1.2.0",
     "model_name": "LayoutModel",
     "state": {
      "_model_module": "@jupyter-widgets/base",
      "_model_module_version": "1.2.0",
      "_model_name": "LayoutModel",
      "_view_count": null,
      "_view_module": "@jupyter-widgets/base",
      "_view_module_version": "1.2.0",
      "_view_name": "LayoutView",
      "align_content": null,
      "align_items": null,
      "align_self": null,
      "border": null,
      "bottom": null,
      "display": null,
      "flex": null,
      "flex_flow": null,
      "grid_area": null,
      "grid_auto_columns": null,
      "grid_auto_flow": null,
      "grid_auto_rows": null,
      "grid_column": null,
      "grid_gap": null,
      "grid_row": null,
      "grid_template_areas": null,
      "grid_template_columns": null,
      "grid_template_rows": null,
      "height": null,
      "justify_content": null,
      "justify_items": null,
      "left": null,
      "margin": null,
      "max_height": null,
      "max_width": null,
      "min_height": null,
      "min_width": null,
      "object_fit": null,
      "object_position": null,
      "order": null,
      "overflow": null,
      "overflow_x": null,
      "overflow_y": null,
      "padding": null,
      "right": null,
      "top": null,
      "visibility": null,
      "width": null
     }
    },
    "7221c8399429483592714b3315d4cbe0": {
     "model_module": "@jupyter-widgets/controls",
     "model_module_version": "1.5.0",
     "model_name": "DescriptionStyleModel",
     "state": {
      "_model_module": "@jupyter-widgets/controls",
      "_model_module_version": "1.5.0",
      "_model_name": "DescriptionStyleModel",
      "_view_count": null,
      "_view_module": "@jupyter-widgets/base",
      "_view_module_version": "1.2.0",
      "_view_name": "StyleView",
      "description_width": ""
     }
    },
    "72d80e9a6c7c4ebdaca86050d2cd2c4c": {
     "model_module": "@jupyter-widgets/controls",
     "model_module_version": "1.5.0",
     "model_name": "ProgressStyleModel",
     "state": {
      "_model_module": "@jupyter-widgets/controls",
      "_model_module_version": "1.5.0",
      "_model_name": "ProgressStyleModel",
      "_view_count": null,
      "_view_module": "@jupyter-widgets/base",
      "_view_module_version": "1.2.0",
      "_view_name": "StyleView",
      "bar_color": null,
      "description_width": ""
     }
    },
    "754d2eec3e674dc4aabf870733f04a41": {
     "model_module": "@jupyter-widgets/controls",
     "model_module_version": "1.5.0",
     "model_name": "ProgressStyleModel",
     "state": {
      "_model_module": "@jupyter-widgets/controls",
      "_model_module_version": "1.5.0",
      "_model_name": "ProgressStyleModel",
      "_view_count": null,
      "_view_module": "@jupyter-widgets/base",
      "_view_module_version": "1.2.0",
      "_view_name": "StyleView",
      "bar_color": null,
      "description_width": ""
     }
    },
    "7a28a6f2580c494484eef9fb64511d2a": {
     "model_module": "@jupyter-widgets/base",
     "model_module_version": "1.2.0",
     "model_name": "LayoutModel",
     "state": {
      "_model_module": "@jupyter-widgets/base",
      "_model_module_version": "1.2.0",
      "_model_name": "LayoutModel",
      "_view_count": null,
      "_view_module": "@jupyter-widgets/base",
      "_view_module_version": "1.2.0",
      "_view_name": "LayoutView",
      "align_content": null,
      "align_items": null,
      "align_self": null,
      "border": null,
      "bottom": null,
      "display": null,
      "flex": null,
      "flex_flow": null,
      "grid_area": null,
      "grid_auto_columns": null,
      "grid_auto_flow": null,
      "grid_auto_rows": null,
      "grid_column": null,
      "grid_gap": null,
      "grid_row": null,
      "grid_template_areas": null,
      "grid_template_columns": null,
      "grid_template_rows": null,
      "height": null,
      "justify_content": null,
      "justify_items": null,
      "left": null,
      "margin": null,
      "max_height": null,
      "max_width": null,
      "min_height": null,
      "min_width": null,
      "object_fit": null,
      "object_position": null,
      "order": null,
      "overflow": null,
      "overflow_x": null,
      "overflow_y": null,
      "padding": null,
      "right": null,
      "top": null,
      "visibility": null,
      "width": "20px"
     }
    },
    "7acae8961526478eb385cdb6971a6f7a": {
     "model_module": "@jupyter-widgets/controls",
     "model_module_version": "1.5.0",
     "model_name": "DescriptionStyleModel",
     "state": {
      "_model_module": "@jupyter-widgets/controls",
      "_model_module_version": "1.5.0",
      "_model_name": "DescriptionStyleModel",
      "_view_count": null,
      "_view_module": "@jupyter-widgets/base",
      "_view_module_version": "1.2.0",
      "_view_name": "StyleView",
      "description_width": ""
     }
    },
    "7bb356ca6b75415d950cdcdff33b5d24": {
     "model_module": "@jupyter-widgets/controls",
     "model_module_version": "1.5.0",
     "model_name": "ProgressStyleModel",
     "state": {
      "_model_module": "@jupyter-widgets/controls",
      "_model_module_version": "1.5.0",
      "_model_name": "ProgressStyleModel",
      "_view_count": null,
      "_view_module": "@jupyter-widgets/base",
      "_view_module_version": "1.2.0",
      "_view_name": "StyleView",
      "bar_color": null,
      "description_width": ""
     }
    },
    "819b81c7b0d947fc88999455ea3ff8cc": {
     "model_module": "@jupyter-widgets/controls",
     "model_module_version": "1.5.0",
     "model_name": "HTMLModel",
     "state": {
      "_dom_classes": [],
      "_model_module": "@jupyter-widgets/controls",
      "_model_module_version": "1.5.0",
      "_model_name": "HTMLModel",
      "_view_count": null,
      "_view_module": "@jupyter-widgets/controls",
      "_view_module_version": "1.5.0",
      "_view_name": "HTMLView",
      "description": "",
      "description_tooltip": null,
      "layout": "IPY_MODEL_ba5bee03c1594d92a1cb5a3b8e7679b2",
      "placeholder": "​",
      "style": "IPY_MODEL_545036c537c645bd8f0a640fdc0e5244",
      "value": "Generating validation examples...:   0%"
     }
    },
    "81e28bd4ba0c43ba9e9e543398fcd351": {
     "model_module": "@jupyter-widgets/controls",
     "model_module_version": "1.5.0",
     "model_name": "DescriptionStyleModel",
     "state": {
      "_model_module": "@jupyter-widgets/controls",
      "_model_module_version": "1.5.0",
      "_model_name": "DescriptionStyleModel",
      "_view_count": null,
      "_view_module": "@jupyter-widgets/base",
      "_view_module_version": "1.2.0",
      "_view_name": "StyleView",
      "description_width": ""
     }
    },
    "82091bc0f91d41558577faa456eb54b7": {
     "model_module": "@jupyter-widgets/controls",
     "model_module_version": "1.5.0",
     "model_name": "HTMLModel",
     "state": {
      "_dom_classes": [],
      "_model_module": "@jupyter-widgets/controls",
      "_model_module_version": "1.5.0",
      "_model_name": "HTMLModel",
      "_view_count": null,
      "_view_module": "@jupyter-widgets/controls",
      "_view_module_version": "1.5.0",
      "_view_name": "HTMLView",
      "description": "",
      "description_tooltip": null,
      "layout": "IPY_MODEL_433c8b684a724d23a37536a9c171afb8",
      "placeholder": "​",
      "style": "IPY_MODEL_4fdac4c49bc540c2bf05a18d58182ff3",
      "value": "Generating train examples...:  91%"
     }
    },
    "84acd38fe4f34a5a954eac7e9d7f0f05": {
     "model_module": "@jupyter-widgets/base",
     "model_module_version": "1.2.0",
     "model_name": "LayoutModel",
     "state": {
      "_model_module": "@jupyter-widgets/base",
      "_model_module_version": "1.2.0",
      "_model_name": "LayoutModel",
      "_view_count": null,
      "_view_module": "@jupyter-widgets/base",
      "_view_module_version": "1.2.0",
      "_view_name": "LayoutView",
      "align_content": null,
      "align_items": null,
      "align_self": null,
      "border": null,
      "bottom": null,
      "display": null,
      "flex": null,
      "flex_flow": null,
      "grid_area": null,
      "grid_auto_columns": null,
      "grid_auto_flow": null,
      "grid_auto_rows": null,
      "grid_column": null,
      "grid_gap": null,
      "grid_row": null,
      "grid_template_areas": null,
      "grid_template_columns": null,
      "grid_template_rows": null,
      "height": null,
      "justify_content": null,
      "justify_items": null,
      "left": null,
      "margin": null,
      "max_height": null,
      "max_width": null,
      "min_height": null,
      "min_width": null,
      "object_fit": null,
      "object_position": null,
      "order": null,
      "overflow": null,
      "overflow_x": null,
      "overflow_y": null,
      "padding": null,
      "right": null,
      "top": null,
      "visibility": "hidden",
      "width": null
     }
    },
    "85ac448171734db595b01dcb72fd757e": {
     "model_module": "@jupyter-widgets/base",
     "model_module_version": "1.2.0",
     "model_name": "LayoutModel",
     "state": {
      "_model_module": "@jupyter-widgets/base",
      "_model_module_version": "1.2.0",
      "_model_name": "LayoutModel",
      "_view_count": null,
      "_view_module": "@jupyter-widgets/base",
      "_view_module_version": "1.2.0",
      "_view_name": "LayoutView",
      "align_content": null,
      "align_items": null,
      "align_self": null,
      "border": null,
      "bottom": null,
      "display": null,
      "flex": null,
      "flex_flow": null,
      "grid_area": null,
      "grid_auto_columns": null,
      "grid_auto_flow": null,
      "grid_auto_rows": null,
      "grid_column": null,
      "grid_gap": null,
      "grid_row": null,
      "grid_template_areas": null,
      "grid_template_columns": null,
      "grid_template_rows": null,
      "height": null,
      "justify_content": null,
      "justify_items": null,
      "left": null,
      "margin": null,
      "max_height": null,
      "max_width": null,
      "min_height": null,
      "min_width": null,
      "object_fit": null,
      "object_position": null,
      "order": null,
      "overflow": null,
      "overflow_x": null,
      "overflow_y": null,
      "padding": null,
      "right": null,
      "top": null,
      "visibility": null,
      "width": null
     }
    },
    "85f0a08ce33b4d54ab9e446554935c22": {
     "model_module": "@jupyter-widgets/controls",
     "model_module_version": "1.5.0",
     "model_name": "HTMLModel",
     "state": {
      "_dom_classes": [],
      "_model_module": "@jupyter-widgets/controls",
      "_model_module_version": "1.5.0",
      "_model_name": "HTMLModel",
      "_view_count": null,
      "_view_module": "@jupyter-widgets/controls",
      "_view_module_version": "1.5.0",
      "_view_name": "HTMLView",
      "description": "",
      "description_tooltip": null,
      "layout": "IPY_MODEL_8f8d14915ea74bf68d4e086ddf715f2a",
      "placeholder": "​",
      "style": "IPY_MODEL_10ad17622c274c36a6693bff7e0c7fe8",
      "value": "Shuffling /root/tensorflow_datasets/ted_hrlr_translate/pt_to_en/incomplete.T3OPRA_1.0.0/ted_hrlr_translate-validation.tfrecord*...:   0%"
     }
    },
    "8950157ac7074c999e971b2784fe69fd": {
     "model_module": "@jupyter-widgets/controls",
     "model_module_version": "1.5.0",
     "model_name": "HTMLModel",
     "state": {
      "_dom_classes": [],
      "_model_module": "@jupyter-widgets/controls",
      "_model_module_version": "1.5.0",
      "_model_name": "HTMLModel",
      "_view_count": null,
      "_view_module": "@jupyter-widgets/controls",
      "_view_module_version": "1.5.0",
      "_view_name": "HTMLView",
      "description": "",
      "description_tooltip": null,
      "layout": "IPY_MODEL_2ca211e8da2f410c928cef8771e1ad83",
      "placeholder": "​",
      "style": "IPY_MODEL_696b4323efce4fa5812d1c392a1e2688",
      "value": " 0/51785 [00:00&lt;?, ? examples/s]"
     }
    },
    "8bc3f691dd414f1aadad9a601ec3182d": {
     "model_module": "@jupyter-widgets/controls",
     "model_module_version": "1.5.0",
     "model_name": "HBoxModel",
     "state": {
      "_dom_classes": [],
      "_model_module": "@jupyter-widgets/controls",
      "_model_module_version": "1.5.0",
      "_model_name": "HBoxModel",
      "_view_count": null,
      "_view_module": "@jupyter-widgets/controls",
      "_view_module_version": "1.5.0",
      "_view_name": "HBoxView",
      "box_style": "",
      "children": [
       "IPY_MODEL_420a8e413aed4afaa83acd8f2e1886f7",
       "IPY_MODEL_041bafbf76f648f0851bbedc252600e0",
       "IPY_MODEL_15a4a60276254a8c96f74d41c6afc07f"
      ],
      "layout": "IPY_MODEL_84acd38fe4f34a5a954eac7e9d7f0f05"
     }
    },
    "8f8d14915ea74bf68d4e086ddf715f2a": {
     "model_module": "@jupyter-widgets/base",
     "model_module_version": "1.2.0",
     "model_name": "LayoutModel",
     "state": {
      "_model_module": "@jupyter-widgets/base",
      "_model_module_version": "1.2.0",
      "_model_name": "LayoutModel",
      "_view_count": null,
      "_view_module": "@jupyter-widgets/base",
      "_view_module_version": "1.2.0",
      "_view_name": "LayoutView",
      "align_content": null,
      "align_items": null,
      "align_self": null,
      "border": null,
      "bottom": null,
      "display": null,
      "flex": null,
      "flex_flow": null,
      "grid_area": null,
      "grid_auto_columns": null,
      "grid_auto_flow": null,
      "grid_auto_rows": null,
      "grid_column": null,
      "grid_gap": null,
      "grid_row": null,
      "grid_template_areas": null,
      "grid_template_columns": null,
      "grid_template_rows": null,
      "height": null,
      "justify_content": null,
      "justify_items": null,
      "left": null,
      "margin": null,
      "max_height": null,
      "max_width": null,
      "min_height": null,
      "min_width": null,
      "object_fit": null,
      "object_position": null,
      "order": null,
      "overflow": null,
      "overflow_x": null,
      "overflow_y": null,
      "padding": null,
      "right": null,
      "top": null,
      "visibility": null,
      "width": null
     }
    },
    "91146b157fad4e4f8cb06c91ffb09272": {
     "model_module": "@jupyter-widgets/controls",
     "model_module_version": "1.5.0",
     "model_name": "HBoxModel",
     "state": {
      "_dom_classes": [],
      "_model_module": "@jupyter-widgets/controls",
      "_model_module_version": "1.5.0",
      "_model_name": "HBoxModel",
      "_view_count": null,
      "_view_module": "@jupyter-widgets/controls",
      "_view_module_version": "1.5.0",
      "_view_name": "HBoxView",
      "box_style": "",
      "children": [
       "IPY_MODEL_82091bc0f91d41558577faa456eb54b7",
       "IPY_MODEL_a16c606ce43d465a8e1aa8010f8fe7f0",
       "IPY_MODEL_0b6bb607552c4b4ba090963b8972746a"
      ],
      "layout": "IPY_MODEL_f62b439360cb48d98eca27abb471cfe8"
     }
    },
    "925e7f544c4a469e964d9e6973ad51d1": {
     "model_module": "@jupyter-widgets/base",
     "model_module_version": "1.2.0",
     "model_name": "LayoutModel",
     "state": {
      "_model_module": "@jupyter-widgets/base",
      "_model_module_version": "1.2.0",
      "_model_name": "LayoutModel",
      "_view_count": null,
      "_view_module": "@jupyter-widgets/base",
      "_view_module_version": "1.2.0",
      "_view_name": "LayoutView",
      "align_content": null,
      "align_items": null,
      "align_self": null,
      "border": null,
      "bottom": null,
      "display": null,
      "flex": null,
      "flex_flow": null,
      "grid_area": null,
      "grid_auto_columns": null,
      "grid_auto_flow": null,
      "grid_auto_rows": null,
      "grid_column": null,
      "grid_gap": null,
      "grid_row": null,
      "grid_template_areas": null,
      "grid_template_columns": null,
      "grid_template_rows": null,
      "height": null,
      "justify_content": null,
      "justify_items": null,
      "left": null,
      "margin": null,
      "max_height": null,
      "max_width": null,
      "min_height": null,
      "min_width": null,
      "object_fit": null,
      "object_position": null,
      "order": null,
      "overflow": null,
      "overflow_x": null,
      "overflow_y": null,
      "padding": null,
      "right": null,
      "top": null,
      "visibility": null,
      "width": null
     }
    },
    "97f9ebab85f943f2bbbdc346f227095c": {
     "model_module": "@jupyter-widgets/controls",
     "model_module_version": "1.5.0",
     "model_name": "HTMLModel",
     "state": {
      "_dom_classes": [],
      "_model_module": "@jupyter-widgets/controls",
      "_model_module_version": "1.5.0",
      "_model_name": "HTMLModel",
      "_view_count": null,
      "_view_module": "@jupyter-widgets/controls",
      "_view_module_version": "1.5.0",
      "_view_name": "HTMLView",
      "description": "",
      "description_tooltip": null,
      "layout": "IPY_MODEL_f92194760e91439b83efefb7a2e62ec8",
      "placeholder": "​",
      "style": "IPY_MODEL_7acae8961526478eb385cdb6971a6f7a",
      "value": " 0/1193 [00:00&lt;?, ? examples/s]"
     }
    },
    "998cd165124c45e6914027419eec82bf": {
     "model_module": "@jupyter-widgets/base",
     "model_module_version": "1.2.0",
     "model_name": "LayoutModel",
     "state": {
      "_model_module": "@jupyter-widgets/base",
      "_model_module_version": "1.2.0",
      "_model_name": "LayoutModel",
      "_view_count": null,
      "_view_module": "@jupyter-widgets/base",
      "_view_module_version": "1.2.0",
      "_view_name": "LayoutView",
      "align_content": null,
      "align_items": null,
      "align_self": null,
      "border": null,
      "bottom": null,
      "display": null,
      "flex": null,
      "flex_flow": null,
      "grid_area": null,
      "grid_auto_columns": null,
      "grid_auto_flow": null,
      "grid_auto_rows": null,
      "grid_column": null,
      "grid_gap": null,
      "grid_row": null,
      "grid_template_areas": null,
      "grid_template_columns": null,
      "grid_template_rows": null,
      "height": null,
      "justify_content": null,
      "justify_items": null,
      "left": null,
      "margin": null,
      "max_height": null,
      "max_width": null,
      "min_height": null,
      "min_width": null,
      "object_fit": null,
      "object_position": null,
      "order": null,
      "overflow": null,
      "overflow_x": null,
      "overflow_y": null,
      "padding": null,
      "right": null,
      "top": null,
      "visibility": null,
      "width": null
     }
    },
    "9bcc48a968bf448ea88b7ef1ccfbb9de": {
     "model_module": "@jupyter-widgets/base",
     "model_module_version": "1.2.0",
     "model_name": "LayoutModel",
     "state": {
      "_model_module": "@jupyter-widgets/base",
      "_model_module_version": "1.2.0",
      "_model_name": "LayoutModel",
      "_view_count": null,
      "_view_module": "@jupyter-widgets/base",
      "_view_module_version": "1.2.0",
      "_view_name": "LayoutView",
      "align_content": null,
      "align_items": null,
      "align_self": null,
      "border": null,
      "bottom": null,
      "display": null,
      "flex": null,
      "flex_flow": null,
      "grid_area": null,
      "grid_auto_columns": null,
      "grid_auto_flow": null,
      "grid_auto_rows": null,
      "grid_column": null,
      "grid_gap": null,
      "grid_row": null,
      "grid_template_areas": null,
      "grid_template_columns": null,
      "grid_template_rows": null,
      "height": null,
      "justify_content": null,
      "justify_items": null,
      "left": null,
      "margin": null,
      "max_height": null,
      "max_width": null,
      "min_height": null,
      "min_width": null,
      "object_fit": null,
      "object_position": null,
      "order": null,
      "overflow": null,
      "overflow_x": null,
      "overflow_y": null,
      "padding": null,
      "right": null,
      "top": null,
      "visibility": null,
      "width": null
     }
    },
    "9c54b36c11c9415cb70a2078527ed55e": {
     "model_module": "@jupyter-widgets/base",
     "model_module_version": "1.2.0",
     "model_name": "LayoutModel",
     "state": {
      "_model_module": "@jupyter-widgets/base",
      "_model_module_version": "1.2.0",
      "_model_name": "LayoutModel",
      "_view_count": null,
      "_view_module": "@jupyter-widgets/base",
      "_view_module_version": "1.2.0",
      "_view_name": "LayoutView",
      "align_content": null,
      "align_items": null,
      "align_self": null,
      "border": null,
      "bottom": null,
      "display": null,
      "flex": null,
      "flex_flow": null,
      "grid_area": null,
      "grid_auto_columns": null,
      "grid_auto_flow": null,
      "grid_auto_rows": null,
      "grid_column": null,
      "grid_gap": null,
      "grid_row": null,
      "grid_template_areas": null,
      "grid_template_columns": null,
      "grid_template_rows": null,
      "height": null,
      "justify_content": null,
      "justify_items": null,
      "left": null,
      "margin": null,
      "max_height": null,
      "max_width": null,
      "min_height": null,
      "min_width": null,
      "object_fit": null,
      "object_position": null,
      "order": null,
      "overflow": null,
      "overflow_x": null,
      "overflow_y": null,
      "padding": null,
      "right": null,
      "top": null,
      "visibility": null,
      "width": null
     }
    },
    "a16c606ce43d465a8e1aa8010f8fe7f0": {
     "model_module": "@jupyter-widgets/controls",
     "model_module_version": "1.5.0",
     "model_name": "FloatProgressModel",
     "state": {
      "_dom_classes": [],
      "_model_module": "@jupyter-widgets/controls",
      "_model_module_version": "1.5.0",
      "_model_name": "FloatProgressModel",
      "_view_count": null,
      "_view_module": "@jupyter-widgets/controls",
      "_view_module_version": "1.5.0",
      "_view_name": "ProgressView",
      "bar_style": "",
      "description": "",
      "description_tooltip": null,
      "layout": "IPY_MODEL_694a619bd9b24499a907c2f4dd8f6284",
      "max": 51785,
      "min": 0,
      "orientation": "horizontal",
      "style": "IPY_MODEL_754d2eec3e674dc4aabf870733f04a41",
      "value": 51785
     }
    },
    "a23b7eef1b8b47c18adabe984d8d0a9d": {
     "model_module": "@jupyter-widgets/controls",
     "model_module_version": "1.5.0",
     "model_name": "HTMLModel",
     "state": {
      "_dom_classes": [],
      "_model_module": "@jupyter-widgets/controls",
      "_model_module_version": "1.5.0",
      "_model_name": "HTMLModel",
      "_view_count": null,
      "_view_module": "@jupyter-widgets/controls",
      "_view_module_version": "1.5.0",
      "_view_name": "HTMLView",
      "description": "",
      "description_tooltip": null,
      "layout": "IPY_MODEL_d7d63c01e8b34d92b29e48c2117f1b7d",
      "placeholder": "​",
      "style": "IPY_MODEL_e4bbe0f5b47a4f6d9b0c14e8c83929db",
      "value": "Generating splits...: 100%"
     }
    },
    "a68ccfbed38c445e8225faeaf5e66b0a": {
     "model_module": "@jupyter-widgets/controls",
     "model_module_version": "1.5.0",
     "model_name": "HTMLModel",
     "state": {
      "_dom_classes": [],
      "_model_module": "@jupyter-widgets/controls",
      "_model_module_version": "1.5.0",
      "_model_name": "HTMLModel",
      "_view_count": null,
      "_view_module": "@jupyter-widgets/controls",
      "_view_module_version": "1.5.0",
      "_view_name": "HTMLView",
      "description": "",
      "description_tooltip": null,
      "layout": "IPY_MODEL_32d1d9e4062f4aa8bafa4a15757d6c70",
      "placeholder": "​",
      "style": "IPY_MODEL_81e28bd4ba0c43ba9e9e543398fcd351",
      "value": "Shuffling /root/tensorflow_datasets/ted_hrlr_translate/pt_to_en/incomplete.T3OPRA_1.0.0/ted_hrlr_translate-train.tfrecord*...:   0%"
     }
    },
    "a95b3886c5a24de5a7590ec343c3e317": {
     "model_module": "@jupyter-widgets/controls",
     "model_module_version": "1.5.0",
     "model_name": "DescriptionStyleModel",
     "state": {
      "_model_module": "@jupyter-widgets/controls",
      "_model_module_version": "1.5.0",
      "_model_name": "DescriptionStyleModel",
      "_view_count": null,
      "_view_module": "@jupyter-widgets/base",
      "_view_module_version": "1.2.0",
      "_view_name": "StyleView",
      "description_width": ""
     }
    },
    "ae6589130c634242833f25c3380a7608": {
     "model_module": "@jupyter-widgets/controls",
     "model_module_version": "1.5.0",
     "model_name": "HTMLModel",
     "state": {
      "_dom_classes": [],
      "_model_module": "@jupyter-widgets/controls",
      "_model_module_version": "1.5.0",
      "_model_name": "HTMLModel",
      "_view_count": null,
      "_view_module": "@jupyter-widgets/controls",
      "_view_module_version": "1.5.0",
      "_view_name": "HTMLView",
      "description": "",
      "description_tooltip": null,
      "layout": "IPY_MODEL_d98d41912aec4014a8da1da4d81833db",
      "placeholder": "​",
      "style": "IPY_MODEL_048656dc3eaf4b1fbf820554acef6317",
      "value": " 112/112 [00:10&lt;00:00, 10.43s/ file]"
     }
    },
    "b8d5a518d7034a7987175eda513600ea": {
     "model_module": "@jupyter-widgets/base",
     "model_module_version": "1.2.0",
     "model_name": "LayoutModel",
     "state": {
      "_model_module": "@jupyter-widgets/base",
      "_model_module_version": "1.2.0",
      "_model_name": "LayoutModel",
      "_view_count": null,
      "_view_module": "@jupyter-widgets/base",
      "_view_module_version": "1.2.0",
      "_view_name": "LayoutView",
      "align_content": null,
      "align_items": null,
      "align_self": null,
      "border": null,
      "bottom": null,
      "display": null,
      "flex": null,
      "flex_flow": null,
      "grid_area": null,
      "grid_auto_columns": null,
      "grid_auto_flow": null,
      "grid_auto_rows": null,
      "grid_column": null,
      "grid_gap": null,
      "grid_row": null,
      "grid_template_areas": null,
      "grid_template_columns": null,
      "grid_template_rows": null,
      "height": null,
      "justify_content": null,
      "justify_items": null,
      "left": null,
      "margin": null,
      "max_height": null,
      "max_width": null,
      "min_height": null,
      "min_width": null,
      "object_fit": null,
      "object_position": null,
      "order": null,
      "overflow": null,
      "overflow_x": null,
      "overflow_y": null,
      "padding": null,
      "right": null,
      "top": null,
      "visibility": null,
      "width": null
     }
    },
    "ba0fe335a7ce4c92bf094872c75b47a2": {
     "model_module": "@jupyter-widgets/base",
     "model_module_version": "1.2.0",
     "model_name": "LayoutModel",
     "state": {
      "_model_module": "@jupyter-widgets/base",
      "_model_module_version": "1.2.0",
      "_model_name": "LayoutModel",
      "_view_count": null,
      "_view_module": "@jupyter-widgets/base",
      "_view_module_version": "1.2.0",
      "_view_name": "LayoutView",
      "align_content": null,
      "align_items": null,
      "align_self": null,
      "border": null,
      "bottom": null,
      "display": null,
      "flex": null,
      "flex_flow": null,
      "grid_area": null,
      "grid_auto_columns": null,
      "grid_auto_flow": null,
      "grid_auto_rows": null,
      "grid_column": null,
      "grid_gap": null,
      "grid_row": null,
      "grid_template_areas": null,
      "grid_template_columns": null,
      "grid_template_rows": null,
      "height": null,
      "justify_content": null,
      "justify_items": null,
      "left": null,
      "margin": null,
      "max_height": null,
      "max_width": null,
      "min_height": null,
      "min_width": null,
      "object_fit": null,
      "object_position": null,
      "order": null,
      "overflow": null,
      "overflow_x": null,
      "overflow_y": null,
      "padding": null,
      "right": null,
      "top": null,
      "visibility": null,
      "width": "20px"
     }
    },
    "ba5bee03c1594d92a1cb5a3b8e7679b2": {
     "model_module": "@jupyter-widgets/base",
     "model_module_version": "1.2.0",
     "model_name": "LayoutModel",
     "state": {
      "_model_module": "@jupyter-widgets/base",
      "_model_module_version": "1.2.0",
      "_model_name": "LayoutModel",
      "_view_count": null,
      "_view_module": "@jupyter-widgets/base",
      "_view_module_version": "1.2.0",
      "_view_name": "LayoutView",
      "align_content": null,
      "align_items": null,
      "align_self": null,
      "border": null,
      "bottom": null,
      "display": null,
      "flex": null,
      "flex_flow": null,
      "grid_area": null,
      "grid_auto_columns": null,
      "grid_auto_flow": null,
      "grid_auto_rows": null,
      "grid_column": null,
      "grid_gap": null,
      "grid_row": null,
      "grid_template_areas": null,
      "grid_template_columns": null,
      "grid_template_rows": null,
      "height": null,
      "justify_content": null,
      "justify_items": null,
      "left": null,
      "margin": null,
      "max_height": null,
      "max_width": null,
      "min_height": null,
      "min_width": null,
      "object_fit": null,
      "object_position": null,
      "order": null,
      "overflow": null,
      "overflow_x": null,
      "overflow_y": null,
      "padding": null,
      "right": null,
      "top": null,
      "visibility": null,
      "width": null
     }
    },
    "bbabe3e1674c418cb8c0b27d2537d549": {
     "model_module": "@jupyter-widgets/controls",
     "model_module_version": "1.5.0",
     "model_name": "ProgressStyleModel",
     "state": {
      "_model_module": "@jupyter-widgets/controls",
      "_model_module_version": "1.5.0",
      "_model_name": "ProgressStyleModel",
      "_view_count": null,
      "_view_module": "@jupyter-widgets/base",
      "_view_module_version": "1.2.0",
      "_view_name": "StyleView",
      "bar_color": null,
      "description_width": ""
     }
    },
    "bd6e73daa1b54d13844a9040e84ded0c": {
     "model_module": "@jupyter-widgets/base",
     "model_module_version": "1.2.0",
     "model_name": "LayoutModel",
     "state": {
      "_model_module": "@jupyter-widgets/base",
      "_model_module_version": "1.2.0",
      "_model_name": "LayoutModel",
      "_view_count": null,
      "_view_module": "@jupyter-widgets/base",
      "_view_module_version": "1.2.0",
      "_view_name": "LayoutView",
      "align_content": null,
      "align_items": null,
      "align_self": null,
      "border": null,
      "bottom": null,
      "display": null,
      "flex": null,
      "flex_flow": null,
      "grid_area": null,
      "grid_auto_columns": null,
      "grid_auto_flow": null,
      "grid_auto_rows": null,
      "grid_column": null,
      "grid_gap": null,
      "grid_row": null,
      "grid_template_areas": null,
      "grid_template_columns": null,
      "grid_template_rows": null,
      "height": null,
      "justify_content": null,
      "justify_items": null,
      "left": null,
      "margin": null,
      "max_height": null,
      "max_width": null,
      "min_height": null,
      "min_width": null,
      "object_fit": null,
      "object_position": null,
      "order": null,
      "overflow": null,
      "overflow_x": null,
      "overflow_y": null,
      "padding": null,
      "right": null,
      "top": null,
      "visibility": null,
      "width": null
     }
    },
    "bec1a304ba314aa0b4663935230d5eb7": {
     "model_module": "@jupyter-widgets/controls",
     "model_module_version": "1.5.0",
     "model_name": "ProgressStyleModel",
     "state": {
      "_model_module": "@jupyter-widgets/controls",
      "_model_module_version": "1.5.0",
      "_model_name": "ProgressStyleModel",
      "_view_count": null,
      "_view_module": "@jupyter-widgets/base",
      "_view_module_version": "1.2.0",
      "_view_name": "StyleView",
      "bar_color": null,
      "description_width": ""
     }
    },
    "c487ec827b8e47669ba463210fd4fec0": {
     "model_module": "@jupyter-widgets/base",
     "model_module_version": "1.2.0",
     "model_name": "LayoutModel",
     "state": {
      "_model_module": "@jupyter-widgets/base",
      "_model_module_version": "1.2.0",
      "_model_name": "LayoutModel",
      "_view_count": null,
      "_view_module": "@jupyter-widgets/base",
      "_view_module_version": "1.2.0",
      "_view_name": "LayoutView",
      "align_content": null,
      "align_items": null,
      "align_self": null,
      "border": null,
      "bottom": null,
      "display": null,
      "flex": null,
      "flex_flow": null,
      "grid_area": null,
      "grid_auto_columns": null,
      "grid_auto_flow": null,
      "grid_auto_rows": null,
      "grid_column": null,
      "grid_gap": null,
      "grid_row": null,
      "grid_template_areas": null,
      "grid_template_columns": null,
      "grid_template_rows": null,
      "height": null,
      "justify_content": null,
      "justify_items": null,
      "left": null,
      "margin": null,
      "max_height": null,
      "max_width": null,
      "min_height": null,
      "min_width": null,
      "object_fit": null,
      "object_position": null,
      "order": null,
      "overflow": null,
      "overflow_x": null,
      "overflow_y": null,
      "padding": null,
      "right": null,
      "top": null,
      "visibility": null,
      "width": null
     }
    },
    "c50bb1723e6d480ca4ce4eebf891a857": {
     "model_module": "@jupyter-widgets/base",
     "model_module_version": "1.2.0",
     "model_name": "LayoutModel",
     "state": {
      "_model_module": "@jupyter-widgets/base",
      "_model_module_version": "1.2.0",
      "_model_name": "LayoutModel",
      "_view_count": null,
      "_view_module": "@jupyter-widgets/base",
      "_view_module_version": "1.2.0",
      "_view_name": "LayoutView",
      "align_content": null,
      "align_items": null,
      "align_self": null,
      "border": null,
      "bottom": null,
      "display": null,
      "flex": null,
      "flex_flow": null,
      "grid_area": null,
      "grid_auto_columns": null,
      "grid_auto_flow": null,
      "grid_auto_rows": null,
      "grid_column": null,
      "grid_gap": null,
      "grid_row": null,
      "grid_template_areas": null,
      "grid_template_columns": null,
      "grid_template_rows": null,
      "height": null,
      "justify_content": null,
      "justify_items": null,
      "left": null,
      "margin": null,
      "max_height": null,
      "max_width": null,
      "min_height": null,
      "min_width": null,
      "object_fit": null,
      "object_position": null,
      "order": null,
      "overflow": null,
      "overflow_x": null,
      "overflow_y": null,
      "padding": null,
      "right": null,
      "top": null,
      "visibility": null,
      "width": null
     }
    },
    "c54ae6992c6d447baa7fe4b7338e91c1": {
     "model_module": "@jupyter-widgets/base",
     "model_module_version": "1.2.0",
     "model_name": "LayoutModel",
     "state": {
      "_model_module": "@jupyter-widgets/base",
      "_model_module_version": "1.2.0",
      "_model_name": "LayoutModel",
      "_view_count": null,
      "_view_module": "@jupyter-widgets/base",
      "_view_module_version": "1.2.0",
      "_view_name": "LayoutView",
      "align_content": null,
      "align_items": null,
      "align_self": null,
      "border": null,
      "bottom": null,
      "display": null,
      "flex": null,
      "flex_flow": null,
      "grid_area": null,
      "grid_auto_columns": null,
      "grid_auto_flow": null,
      "grid_auto_rows": null,
      "grid_column": null,
      "grid_gap": null,
      "grid_row": null,
      "grid_template_areas": null,
      "grid_template_columns": null,
      "grid_template_rows": null,
      "height": null,
      "justify_content": null,
      "justify_items": null,
      "left": null,
      "margin": null,
      "max_height": null,
      "max_width": null,
      "min_height": null,
      "min_width": null,
      "object_fit": null,
      "object_position": null,
      "order": null,
      "overflow": null,
      "overflow_x": null,
      "overflow_y": null,
      "padding": null,
      "right": null,
      "top": null,
      "visibility": "hidden",
      "width": null
     }
    },
    "c64b62051dd14132a251dac055cf163d": {
     "model_module": "@jupyter-widgets/controls",
     "model_module_version": "1.5.0",
     "model_name": "HBoxModel",
     "state": {
      "_dom_classes": [],
      "_model_module": "@jupyter-widgets/controls",
      "_model_module_version": "1.5.0",
      "_model_name": "HBoxModel",
      "_view_count": null,
      "_view_module": "@jupyter-widgets/controls",
      "_view_module_version": "1.5.0",
      "_view_name": "HBoxView",
      "box_style": "",
      "children": [
       "IPY_MODEL_85f0a08ce33b4d54ab9e446554935c22",
       "IPY_MODEL_3a57713ff12a428d86f55e8b64166ae1",
       "IPY_MODEL_d3bec9aa8c8f43baaab710005ec7855c"
      ],
      "layout": "IPY_MODEL_6feaad38d9304b889a6acf942ec21a28"
     }
    },
    "c7a881f525a54c2cb1b9c75339c5a397": {
     "model_module": "@jupyter-widgets/controls",
     "model_module_version": "1.5.0",
     "model_name": "HBoxModel",
     "state": {
      "_dom_classes": [],
      "_model_module": "@jupyter-widgets/controls",
      "_model_module_version": "1.5.0",
      "_model_name": "HBoxModel",
      "_view_count": null,
      "_view_module": "@jupyter-widgets/controls",
      "_view_module_version": "1.5.0",
      "_view_name": "HBoxView",
      "box_style": "",
      "children": [
       "IPY_MODEL_5a2d9b9ba4924f8bbf653ea46a874a15",
       "IPY_MODEL_e2a42d50c644468492b7113409445174",
       "IPY_MODEL_5d4dc63effd44813a059642189ed00a5"
      ],
      "layout": "IPY_MODEL_9bcc48a968bf448ea88b7ef1ccfbb9de"
     }
    },
    "d0cd8396458b46b49d7a01ed5c2ba05f": {
     "model_module": "@jupyter-widgets/controls",
     "model_module_version": "1.5.0",
     "model_name": "DescriptionStyleModel",
     "state": {
      "_model_module": "@jupyter-widgets/controls",
      "_model_module_version": "1.5.0",
      "_model_name": "DescriptionStyleModel",
      "_view_count": null,
      "_view_module": "@jupyter-widgets/base",
      "_view_module_version": "1.2.0",
      "_view_name": "StyleView",
      "description_width": ""
     }
    },
    "d1410f9e2e0d49748ac7f939a996172c": {
     "model_module": "@jupyter-widgets/controls",
     "model_module_version": "1.5.0",
     "model_name": "DescriptionStyleModel",
     "state": {
      "_model_module": "@jupyter-widgets/controls",
      "_model_module_version": "1.5.0",
      "_model_name": "DescriptionStyleModel",
      "_view_count": null,
      "_view_module": "@jupyter-widgets/base",
      "_view_module_version": "1.2.0",
      "_view_name": "StyleView",
      "description_width": ""
     }
    },
    "d15fb0899775460da4660a304c988d28": {
     "model_module": "@jupyter-widgets/controls",
     "model_module_version": "1.5.0",
     "model_name": "DescriptionStyleModel",
     "state": {
      "_model_module": "@jupyter-widgets/controls",
      "_model_module_version": "1.5.0",
      "_model_name": "DescriptionStyleModel",
      "_view_count": null,
      "_view_module": "@jupyter-widgets/base",
      "_view_module_version": "1.2.0",
      "_view_name": "StyleView",
      "description_width": ""
     }
    },
    "d3bec9aa8c8f43baaab710005ec7855c": {
     "model_module": "@jupyter-widgets/controls",
     "model_module_version": "1.5.0",
     "model_name": "HTMLModel",
     "state": {
      "_dom_classes": [],
      "_model_module": "@jupyter-widgets/controls",
      "_model_module_version": "1.5.0",
      "_model_name": "HTMLModel",
      "_view_count": null,
      "_view_module": "@jupyter-widgets/controls",
      "_view_module_version": "1.5.0",
      "_view_name": "HTMLView",
      "description": "",
      "description_tooltip": null,
      "layout": "IPY_MODEL_3a389b66cbbd4e028aa5078c4134ef18",
      "placeholder": "​",
      "style": "IPY_MODEL_d4f3bed4536b4f0a9246aaee6e7819cf",
      "value": " 0/1193 [00:00&lt;?, ? examples/s]"
     }
    },
    "d43191d380584eadbfa5452f24cd1da3": {
     "model_module": "@jupyter-widgets/controls",
     "model_module_version": "1.5.0",
     "model_name": "ProgressStyleModel",
     "state": {
      "_model_module": "@jupyter-widgets/controls",
      "_model_module_version": "1.5.0",
      "_model_name": "ProgressStyleModel",
      "_view_count": null,
      "_view_module": "@jupyter-widgets/base",
      "_view_module_version": "1.2.0",
      "_view_name": "StyleView",
      "bar_color": null,
      "description_width": ""
     }
    },
    "d4f3bed4536b4f0a9246aaee6e7819cf": {
     "model_module": "@jupyter-widgets/controls",
     "model_module_version": "1.5.0",
     "model_name": "DescriptionStyleModel",
     "state": {
      "_model_module": "@jupyter-widgets/controls",
      "_model_module_version": "1.5.0",
      "_model_name": "DescriptionStyleModel",
      "_view_count": null,
      "_view_module": "@jupyter-widgets/base",
      "_view_module_version": "1.2.0",
      "_view_name": "StyleView",
      "description_width": ""
     }
    },
    "d7b006a497084dbbb81dee5e893c0b99": {
     "model_module": "@jupyter-widgets/base",
     "model_module_version": "1.2.0",
     "model_name": "LayoutModel",
     "state": {
      "_model_module": "@jupyter-widgets/base",
      "_model_module_version": "1.2.0",
      "_model_name": "LayoutModel",
      "_view_count": null,
      "_view_module": "@jupyter-widgets/base",
      "_view_module_version": "1.2.0",
      "_view_name": "LayoutView",
      "align_content": null,
      "align_items": null,
      "align_self": null,
      "border": null,
      "bottom": null,
      "display": null,
      "flex": null,
      "flex_flow": null,
      "grid_area": null,
      "grid_auto_columns": null,
      "grid_auto_flow": null,
      "grid_auto_rows": null,
      "grid_column": null,
      "grid_gap": null,
      "grid_row": null,
      "grid_template_areas": null,
      "grid_template_columns": null,
      "grid_template_rows": null,
      "height": null,
      "justify_content": null,
      "justify_items": null,
      "left": null,
      "margin": null,
      "max_height": null,
      "max_width": null,
      "min_height": null,
      "min_width": null,
      "object_fit": null,
      "object_position": null,
      "order": null,
      "overflow": null,
      "overflow_x": null,
      "overflow_y": null,
      "padding": null,
      "right": null,
      "top": null,
      "visibility": null,
      "width": null
     }
    },
    "d7d63c01e8b34d92b29e48c2117f1b7d": {
     "model_module": "@jupyter-widgets/base",
     "model_module_version": "1.2.0",
     "model_name": "LayoutModel",
     "state": {
      "_model_module": "@jupyter-widgets/base",
      "_model_module_version": "1.2.0",
      "_model_name": "LayoutModel",
      "_view_count": null,
      "_view_module": "@jupyter-widgets/base",
      "_view_module_version": "1.2.0",
      "_view_name": "LayoutView",
      "align_content": null,
      "align_items": null,
      "align_self": null,
      "border": null,
      "bottom": null,
      "display": null,
      "flex": null,
      "flex_flow": null,
      "grid_area": null,
      "grid_auto_columns": null,
      "grid_auto_flow": null,
      "grid_auto_rows": null,
      "grid_column": null,
      "grid_gap": null,
      "grid_row": null,
      "grid_template_areas": null,
      "grid_template_columns": null,
      "grid_template_rows": null,
      "height": null,
      "justify_content": null,
      "justify_items": null,
      "left": null,
      "margin": null,
      "max_height": null,
      "max_width": null,
      "min_height": null,
      "min_width": null,
      "object_fit": null,
      "object_position": null,
      "order": null,
      "overflow": null,
      "overflow_x": null,
      "overflow_y": null,
      "padding": null,
      "right": null,
      "top": null,
      "visibility": null,
      "width": null
     }
    },
    "d98d41912aec4014a8da1da4d81833db": {
     "model_module": "@jupyter-widgets/base",
     "model_module_version": "1.2.0",
     "model_name": "LayoutModel",
     "state": {
      "_model_module": "@jupyter-widgets/base",
      "_model_module_version": "1.2.0",
      "_model_name": "LayoutModel",
      "_view_count": null,
      "_view_module": "@jupyter-widgets/base",
      "_view_module_version": "1.2.0",
      "_view_name": "LayoutView",
      "align_content": null,
      "align_items": null,
      "align_self": null,
      "border": null,
      "bottom": null,
      "display": null,
      "flex": null,
      "flex_flow": null,
      "grid_area": null,
      "grid_auto_columns": null,
      "grid_auto_flow": null,
      "grid_auto_rows": null,
      "grid_column": null,
      "grid_gap": null,
      "grid_row": null,
      "grid_template_areas": null,
      "grid_template_columns": null,
      "grid_template_rows": null,
      "height": null,
      "justify_content": null,
      "justify_items": null,
      "left": null,
      "margin": null,
      "max_height": null,
      "max_width": null,
      "min_height": null,
      "min_width": null,
      "object_fit": null,
      "object_position": null,
      "order": null,
      "overflow": null,
      "overflow_x": null,
      "overflow_y": null,
      "padding": null,
      "right": null,
      "top": null,
      "visibility": null,
      "width": null
     }
    },
    "de778fb856db47f1a3f2f673e4e5c81f": {
     "model_module": "@jupyter-widgets/controls",
     "model_module_version": "1.5.0",
     "model_name": "HBoxModel",
     "state": {
      "_dom_classes": [],
      "_model_module": "@jupyter-widgets/controls",
      "_model_module_version": "1.5.0",
      "_model_name": "HBoxModel",
      "_view_count": null,
      "_view_module": "@jupyter-widgets/controls",
      "_view_module_version": "1.5.0",
      "_view_name": "HBoxView",
      "box_style": "",
      "children": [
       "IPY_MODEL_a23b7eef1b8b47c18adabe984d8d0a9d",
       "IPY_MODEL_6b70d9db79cd4478af33f6b0ef662cbb",
       "IPY_MODEL_165e032076e14273a1a21bfb47edc934"
      ],
      "layout": "IPY_MODEL_c54ae6992c6d447baa7fe4b7338e91c1"
     }
    },
    "ded8fc8e77284caf9c7b352ebdb2ff83": {
     "model_module": "@jupyter-widgets/controls",
     "model_module_version": "1.5.0",
     "model_name": "DescriptionStyleModel",
     "state": {
      "_model_module": "@jupyter-widgets/controls",
      "_model_module_version": "1.5.0",
      "_model_name": "DescriptionStyleModel",
      "_view_count": null,
      "_view_module": "@jupyter-widgets/base",
      "_view_module_version": "1.2.0",
      "_view_name": "StyleView",
      "description_width": ""
     }
    },
    "e0f1bf57803543449b072725d69c23e8": {
     "model_module": "@jupyter-widgets/base",
     "model_module_version": "1.2.0",
     "model_name": "LayoutModel",
     "state": {
      "_model_module": "@jupyter-widgets/base",
      "_model_module_version": "1.2.0",
      "_model_name": "LayoutModel",
      "_view_count": null,
      "_view_module": "@jupyter-widgets/base",
      "_view_module_version": "1.2.0",
      "_view_name": "LayoutView",
      "align_content": null,
      "align_items": null,
      "align_self": null,
      "border": null,
      "bottom": null,
      "display": null,
      "flex": null,
      "flex_flow": null,
      "grid_area": null,
      "grid_auto_columns": null,
      "grid_auto_flow": null,
      "grid_auto_rows": null,
      "grid_column": null,
      "grid_gap": null,
      "grid_row": null,
      "grid_template_areas": null,
      "grid_template_columns": null,
      "grid_template_rows": null,
      "height": null,
      "justify_content": null,
      "justify_items": null,
      "left": null,
      "margin": null,
      "max_height": null,
      "max_width": null,
      "min_height": null,
      "min_width": null,
      "object_fit": null,
      "object_position": null,
      "order": null,
      "overflow": null,
      "overflow_x": null,
      "overflow_y": null,
      "padding": null,
      "right": null,
      "top": null,
      "visibility": null,
      "width": "20px"
     }
    },
    "e2a42d50c644468492b7113409445174": {
     "model_module": "@jupyter-widgets/controls",
     "model_module_version": "1.5.0",
     "model_name": "FloatProgressModel",
     "state": {
      "_dom_classes": [],
      "_model_module": "@jupyter-widgets/controls",
      "_model_module_version": "1.5.0",
      "_model_name": "FloatProgressModel",
      "_view_count": null,
      "_view_module": "@jupyter-widgets/controls",
      "_view_module_version": "1.5.0",
      "_view_name": "ProgressView",
      "bar_style": "success",
      "description": "",
      "description_tooltip": null,
      "layout": "IPY_MODEL_e0f1bf57803543449b072725d69c23e8",
      "max": 1,
      "min": 0,
      "orientation": "horizontal",
      "style": "IPY_MODEL_bbabe3e1674c418cb8c0b27d2537d549",
      "value": 1
     }
    },
    "e4bbe0f5b47a4f6d9b0c14e8c83929db": {
     "model_module": "@jupyter-widgets/controls",
     "model_module_version": "1.5.0",
     "model_name": "DescriptionStyleModel",
     "state": {
      "_model_module": "@jupyter-widgets/controls",
      "_model_module_version": "1.5.0",
      "_model_name": "DescriptionStyleModel",
      "_view_count": null,
      "_view_module": "@jupyter-widgets/base",
      "_view_module_version": "1.2.0",
      "_view_name": "StyleView",
      "description_width": ""
     }
    },
    "ea0877aa34d141ea991a286b23c5a8b8": {
     "model_module": "@jupyter-widgets/controls",
     "model_module_version": "1.5.0",
     "model_name": "FloatProgressModel",
     "state": {
      "_dom_classes": [],
      "_model_module": "@jupyter-widgets/controls",
      "_model_module_version": "1.5.0",
      "_model_name": "FloatProgressModel",
      "_view_count": null,
      "_view_module": "@jupyter-widgets/controls",
      "_view_module_version": "1.5.0",
      "_view_name": "ProgressView",
      "bar_style": "",
      "description": "",
      "description_tooltip": null,
      "layout": "IPY_MODEL_5111869d71994a369e38c01b388b45a6",
      "max": 1193,
      "min": 0,
      "orientation": "horizontal",
      "style": "IPY_MODEL_ee2b322a3cba4ccd904a915362cf10c8",
      "value": 1193
     }
    },
    "ea76341793ee4881bcedc0603cc132a8": {
     "model_module": "@jupyter-widgets/controls",
     "model_module_version": "1.5.0",
     "model_name": "FloatProgressModel",
     "state": {
      "_dom_classes": [],
      "_model_module": "@jupyter-widgets/controls",
      "_model_module_version": "1.5.0",
      "_model_name": "FloatProgressModel",
      "_view_count": null,
      "_view_module": "@jupyter-widgets/controls",
      "_view_module_version": "1.5.0",
      "_view_name": "ProgressView",
      "bar_style": "success",
      "description": "",
      "description_tooltip": null,
      "layout": "IPY_MODEL_7a28a6f2580c494484eef9fb64511d2a",
      "max": 1,
      "min": 0,
      "orientation": "horizontal",
      "style": "IPY_MODEL_155f95d9a0014a8f81d229c480e59d48",
      "value": 1
     }
    },
    "ee2b322a3cba4ccd904a915362cf10c8": {
     "model_module": "@jupyter-widgets/controls",
     "model_module_version": "1.5.0",
     "model_name": "ProgressStyleModel",
     "state": {
      "_model_module": "@jupyter-widgets/controls",
      "_model_module_version": "1.5.0",
      "_model_name": "ProgressStyleModel",
      "_view_count": null,
      "_view_module": "@jupyter-widgets/base",
      "_view_module_version": "1.2.0",
      "_view_name": "StyleView",
      "bar_color": null,
      "description_width": ""
     }
    },
    "ee89dd8f1d51448dac46bb9300028567": {
     "model_module": "@jupyter-widgets/controls",
     "model_module_version": "1.5.0",
     "model_name": "HTMLModel",
     "state": {
      "_dom_classes": [],
      "_model_module": "@jupyter-widgets/controls",
      "_model_module_version": "1.5.0",
      "_model_name": "HTMLModel",
      "_view_count": null,
      "_view_module": "@jupyter-widgets/controls",
      "_view_module_version": "1.5.0",
      "_view_name": "HTMLView",
      "description": "",
      "description_tooltip": null,
      "layout": "IPY_MODEL_6bc61c115ae44e98bd7ad762acd58b8b",
      "placeholder": "​",
      "style": "IPY_MODEL_ded8fc8e77284caf9c7b352ebdb2ff83",
      "value": "Generating test examples...:   0%"
     }
    },
    "eeef1502f7db46129485079793a3be45": {
     "model_module": "@jupyter-widgets/base",
     "model_module_version": "1.2.0",
     "model_name": "LayoutModel",
     "state": {
      "_model_module": "@jupyter-widgets/base",
      "_model_module_version": "1.2.0",
      "_model_name": "LayoutModel",
      "_view_count": null,
      "_view_module": "@jupyter-widgets/base",
      "_view_module_version": "1.2.0",
      "_view_name": "LayoutView",
      "align_content": null,
      "align_items": null,
      "align_self": null,
      "border": null,
      "bottom": null,
      "display": null,
      "flex": null,
      "flex_flow": null,
      "grid_area": null,
      "grid_auto_columns": null,
      "grid_auto_flow": null,
      "grid_auto_rows": null,
      "grid_column": null,
      "grid_gap": null,
      "grid_row": null,
      "grid_template_areas": null,
      "grid_template_columns": null,
      "grid_template_rows": null,
      "height": null,
      "justify_content": null,
      "justify_items": null,
      "left": null,
      "margin": null,
      "max_height": null,
      "max_width": null,
      "min_height": null,
      "min_width": null,
      "object_fit": null,
      "object_position": null,
      "order": null,
      "overflow": null,
      "overflow_x": null,
      "overflow_y": null,
      "padding": null,
      "right": null,
      "top": null,
      "visibility": "hidden",
      "width": null
     }
    },
    "efa0dbb17bd446a2bd81c4f3536112d6": {
     "model_module": "@jupyter-widgets/controls",
     "model_module_version": "1.5.0",
     "model_name": "HBoxModel",
     "state": {
      "_dom_classes": [],
      "_model_module": "@jupyter-widgets/controls",
      "_model_module_version": "1.5.0",
      "_model_name": "HBoxModel",
      "_view_count": null,
      "_view_module": "@jupyter-widgets/controls",
      "_view_module_version": "1.5.0",
      "_view_name": "HBoxView",
      "box_style": "",
      "children": [
       "IPY_MODEL_819b81c7b0d947fc88999455ea3ff8cc",
       "IPY_MODEL_ea0877aa34d141ea991a286b23c5a8b8",
       "IPY_MODEL_97f9ebab85f943f2bbbdc346f227095c"
      ],
      "layout": "IPY_MODEL_eeef1502f7db46129485079793a3be45"
     }
    },
    "f62b439360cb48d98eca27abb471cfe8": {
     "model_module": "@jupyter-widgets/base",
     "model_module_version": "1.2.0",
     "model_name": "LayoutModel",
     "state": {
      "_model_module": "@jupyter-widgets/base",
      "_model_module_version": "1.2.0",
      "_model_name": "LayoutModel",
      "_view_count": null,
      "_view_module": "@jupyter-widgets/base",
      "_view_module_version": "1.2.0",
      "_view_name": "LayoutView",
      "align_content": null,
      "align_items": null,
      "align_self": null,
      "border": null,
      "bottom": null,
      "display": null,
      "flex": null,
      "flex_flow": null,
      "grid_area": null,
      "grid_auto_columns": null,
      "grid_auto_flow": null,
      "grid_auto_rows": null,
      "grid_column": null,
      "grid_gap": null,
      "grid_row": null,
      "grid_template_areas": null,
      "grid_template_columns": null,
      "grid_template_rows": null,
      "height": null,
      "justify_content": null,
      "justify_items": null,
      "left": null,
      "margin": null,
      "max_height": null,
      "max_width": null,
      "min_height": null,
      "min_width": null,
      "object_fit": null,
      "object_position": null,
      "order": null,
      "overflow": null,
      "overflow_x": null,
      "overflow_y": null,
      "padding": null,
      "right": null,
      "top": null,
      "visibility": "hidden",
      "width": null
     }
    },
    "f92194760e91439b83efefb7a2e62ec8": {
     "model_module": "@jupyter-widgets/base",
     "model_module_version": "1.2.0",
     "model_name": "LayoutModel",
     "state": {
      "_model_module": "@jupyter-widgets/base",
      "_model_module_version": "1.2.0",
      "_model_name": "LayoutModel",
      "_view_count": null,
      "_view_module": "@jupyter-widgets/base",
      "_view_module_version": "1.2.0",
      "_view_name": "LayoutView",
      "align_content": null,
      "align_items": null,
      "align_self": null,
      "border": null,
      "bottom": null,
      "display": null,
      "flex": null,
      "flex_flow": null,
      "grid_area": null,
      "grid_auto_columns": null,
      "grid_auto_flow": null,
      "grid_auto_rows": null,
      "grid_column": null,
      "grid_gap": null,
      "grid_row": null,
      "grid_template_areas": null,
      "grid_template_columns": null,
      "grid_template_rows": null,
      "height": null,
      "justify_content": null,
      "justify_items": null,
      "left": null,
      "margin": null,
      "max_height": null,
      "max_width": null,
      "min_height": null,
      "min_width": null,
      "object_fit": null,
      "object_position": null,
      "order": null,
      "overflow": null,
      "overflow_x": null,
      "overflow_y": null,
      "padding": null,
      "right": null,
      "top": null,
      "visibility": null,
      "width": null
     }
    },
    "fd91676b65424509900988b77afddd25": {
     "model_module": "@jupyter-widgets/controls",
     "model_module_version": "1.5.0",
     "model_name": "ProgressStyleModel",
     "state": {
      "_model_module": "@jupyter-widgets/controls",
      "_model_module_version": "1.5.0",
      "_model_name": "ProgressStyleModel",
      "_view_count": null,
      "_view_module": "@jupyter-widgets/base",
      "_view_module_version": "1.2.0",
      "_view_name": "StyleView",
      "bar_color": null,
      "description_width": ""
     }
    }
   }
  }
 },
 "nbformat": 4,
 "nbformat_minor": 5
}
