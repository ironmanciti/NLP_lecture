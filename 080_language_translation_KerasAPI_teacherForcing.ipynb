{
 "cells": [
  {
   "cell_type": "markdown",
   "metadata": {
    "id": "Q15ChKHSG8y4"
   },
   "source": [
    "# 080. seq2seq language translation\n",
    "\n",
    "### Encoder-Decoder model\n",
    "\n",
    "\n",
    "- 영어-한국어 번역"
   ]
  },
  {
   "cell_type": "code",
   "execution_count": 1,
   "metadata": {
    "colab": {
     "base_uri": "https://localhost:8080/"
    },
    "id": "8qdw8FpThxGP",
    "outputId": "2509a64e-0766-475e-c5de-a6a4c2c424a8"
   },
   "outputs": [
    {
     "name": "stdout",
     "output_type": "stream",
     "text": [
      "Requirement already satisfied: gdown in /usr/local/lib/python3.7/dist-packages (4.2.2)\n",
      "Collecting gdown\n",
      "  Downloading gdown-4.4.0.tar.gz (14 kB)\n",
      "  Installing build dependencies ... \u001b[?25l\u001b[?25hdone\n",
      "  Getting requirements to build wheel ... \u001b[?25l\u001b[?25hdone\n",
      "    Preparing wheel metadata ... \u001b[?25l\u001b[?25hdone\n",
      "Requirement already satisfied: tqdm in /usr/local/lib/python3.7/dist-packages (from gdown) (4.63.0)\n",
      "Requirement already satisfied: beautifulsoup4 in /usr/local/lib/python3.7/dist-packages (from gdown) (4.6.3)\n",
      "Requirement already satisfied: six in /usr/local/lib/python3.7/dist-packages (from gdown) (1.15.0)\n",
      "Requirement already satisfied: filelock in /usr/local/lib/python3.7/dist-packages (from gdown) (3.6.0)\n",
      "Requirement already satisfied: requests[socks] in /usr/local/lib/python3.7/dist-packages (from gdown) (2.23.0)\n",
      "Requirement already satisfied: urllib3!=1.25.0,!=1.25.1,<1.26,>=1.21.1 in /usr/local/lib/python3.7/dist-packages (from requests[socks]->gdown) (1.24.3)\n",
      "Requirement already satisfied: chardet<4,>=3.0.2 in /usr/local/lib/python3.7/dist-packages (from requests[socks]->gdown) (3.0.4)\n",
      "Requirement already satisfied: certifi>=2017.4.17 in /usr/local/lib/python3.7/dist-packages (from requests[socks]->gdown) (2021.10.8)\n",
      "Requirement already satisfied: idna<3,>=2.5 in /usr/local/lib/python3.7/dist-packages (from requests[socks]->gdown) (2.10)\n",
      "Requirement already satisfied: PySocks!=1.5.7,>=1.5.6 in /usr/local/lib/python3.7/dist-packages (from requests[socks]->gdown) (1.7.1)\n",
      "Building wheels for collected packages: gdown\n",
      "  Building wheel for gdown (PEP 517) ... \u001b[?25l\u001b[?25hdone\n",
      "  Created wheel for gdown: filename=gdown-4.4.0-py3-none-any.whl size=14774 sha256=b3309f9cb5196bdaae7599e85df2e41b7d1f50b7dcdbf65dbfcaa485e7f1065e\n",
      "  Stored in directory: /tmp/pip-ephem-wheel-cache-ndlqwsp3/wheels/fb/c3/0e/c4d8ff8bfcb0461afff199471449f642179b74968c15b7a69c\n",
      "Successfully built gdown\n",
      "Installing collected packages: gdown\n",
      "  Attempting uninstall: gdown\n",
      "    Found existing installation: gdown 4.2.2\n",
      "    Uninstalling gdown-4.2.2:\n",
      "      Successfully uninstalled gdown-4.2.2\n",
      "Successfully installed gdown-4.4.0\n"
     ]
    }
   ],
   "source": [
    "!pip install --upgrade --no-cache-dir gdown"
   ]
  },
  {
   "cell_type": "markdown",
   "metadata": {
    "id": "_kawPBRbh6NO"
   },
   "source": [
    "한글 Glove file download"
   ]
  },
  {
   "cell_type": "code",
   "execution_count": 2,
   "metadata": {
    "colab": {
     "base_uri": "https://localhost:8080/"
    },
    "id": "HC1Ot3voh4-k",
    "outputId": "8b69783a-a572-40f8-e53c-47cbf8350b6a"
   },
   "outputs": [
    {
     "name": "stdout",
     "output_type": "stream",
     "text": [
      "Downloading...\n",
      "From: https://drive.google.com/uc?id=1zR1TJm9hjqinSU0OkCcAmaVjfeTgmoOC\n",
      "To: /content/glove.6B.100d.txt\n",
      "100% 347M/347M [00:01<00:00, 187MB/s]\n"
     ]
    }
   ],
   "source": [
    "!gdown 1zR1TJm9hjqinSU0OkCcAmaVjfeTgmoOC"
   ]
  },
  {
   "cell_type": "code",
   "execution_count": 3,
   "metadata": {
    "id": "LC4sXvgFG8y5"
   },
   "outputs": [],
   "source": [
    "import numpy as np\n",
    "import pandas as pd\n",
    "import matplotlib.pyplot as plt\n",
    "\n",
    "import tensorflow as tf\n",
    "from tensorflow.keras.models import Model\n",
    "from tensorflow.keras.layers import Dense, Embedding, Input, LSTM, Bidirectional                        \n",
    "                                    \n",
    "from tensorflow.keras.preprocessing.text import Tokenizer\n",
    "from tensorflow.keras.preprocessing.sequence import pad_sequences\n",
    "from tensorflow.keras.utils import to_categorical\n",
    "from tensorflow.keras.optimizers import RMSprop\n",
    "from tensorflow.keras.utils import plot_model"
   ]
  },
  {
   "cell_type": "code",
   "execution_count": 4,
   "metadata": {
    "id": "k9fxpcfPG8y9"
   },
   "outputs": [],
   "source": [
    "BATCH_SIZE = 64\n",
    "MAX_VOCAB_SIZE = 10000\n",
    "EMBEDDING_DIM = 100\n",
    "LATENT_DIM = 512"
   ]
  },
  {
   "cell_type": "markdown",
   "metadata": {
    "id": "88dOCLrOG8zA"
   },
   "source": [
    "## 입력 data list 작성  \n",
    "\n",
    "### 1. input_texts     : original language 의 input text  \n",
    "\n",
    "\n",
    "### 2. Teacher Forcing 용 input / target data 생성\n",
    "\n",
    "- target_texts_inputs  : 1 만큼 offset 된 target language sentence $\\rightarrow$ `<sos>....`  \n",
    "- target_texts  : target language sentence  $\\rightarrow$ `.....<eos>`\n",
    "\n",
    "\n",
    "\n",
    "- data 는 http://www.manythings.org/anki/  (Tab-delimited Bilingual Sentence Pairs) 에서 download  \n",
    "\n",
    "\n",
    "    - English(input) + `\\t` + The Other Language(target) + `\\t` + Attribution(기여자) 형식으로 구성 \n",
    "        ex)\n",
    "        - Hi.\t안녕.\tCC-BY 2.0 (France) Attribution: tatoeba.org #538123 (CM) & #8355888 (Eunhee). \n",
    "        - I like horses.\t나는 말을 좋아해.\tCC-BY 2.0 (France) Attribution: tatoeba.org #1331062 (Kirschen112) & #8365125 (Eunhee)\n",
    "        - We had fun with Tom.\t우리는 톰과 즐거운 시간을 가졌다.\tCC-BY 2.0 (France) Attribution: tatoeba.org #6845055 (CK) & #6845295 (dalgarak)\n",
    "\n",
    "        \n",
    "   "
   ]
  },
  {
   "cell_type": "code",
   "execution_count": 5,
   "metadata": {
    "colab": {
     "base_uri": "https://localhost:8080/"
    },
    "id": "GajIBj3cG8zA",
    "outputId": "0191a406-65ae-42cd-91bf-4b743bcb6eb0"
   },
   "outputs": [
    {
     "name": "stdout",
     "output_type": "stream",
     "text": [
      "Downloading data from https://github.com/ironmanciti/NLP_lecture/raw/master/data/kor.txt\n",
      "491520/484226 [==============================] - 0s 0us/step\n",
      "499712/484226 [==============================] - 0s 0us/step\n"
     ]
    }
   ],
   "source": [
    "file_path = tf.keras.utils.get_file(\"kor.txt\",\n",
    "             \"https://github.com/ironmanciti/NLP_lecture/raw/master/data/kor.txt\")"
   ]
  },
  {
   "cell_type": "markdown",
   "metadata": {
    "id": "HlozoHc8GI8C"
   },
   "source": [
    "- teacher forcing 용 input, target 작성"
   ]
  },
  {
   "cell_type": "code",
   "execution_count": 6,
   "metadata": {
    "colab": {
     "base_uri": "https://localhost:8080/"
    },
    "id": "FyP9H8NeG8zD",
    "outputId": "83f7b871-b151-4a13-ee25-15bb05c003b1"
   },
   "outputs": [
    {
     "data": {
      "text/plain": [
       "(3318, 3318, 3318)"
      ]
     },
     "execution_count": 6,
     "metadata": {},
     "output_type": "execute_result"
    }
   ],
   "source": [
    "# load in the data\n",
    "eng_texts = []\n",
    "kor_inputs = []\n",
    "kor_targets = []\n",
    "\n",
    "# load data\n",
    "for line in open(file_path, 'r', encoding='utf-8'):\n",
    "   \n",
    "    if '\\t' not in line:     # \\t 가 없는 line 은 skip\n",
    "        continue\n",
    "        \n",
    "    # input 과 target translation 구분\n",
    "    english, korean, attribution = line.split('\\t')\n",
    "        \n",
    "    # target input 과 output 을 teacher forcing 입력 구성\n",
    "    input = '<sos> ' + korean\n",
    "    target = korean + ' <eos>'\n",
    "\n",
    "    eng_texts.append(english)     # 영어 문장\n",
    "    \n",
    "    kor_inputs.append(input)   \n",
    "    kor_targets.append(target)\n",
    "\n",
    "len(eng_texts), len(kor_inputs), len(kor_targets)"
   ]
  },
  {
   "cell_type": "code",
   "execution_count": 7,
   "metadata": {
    "colab": {
     "base_uri": "https://localhost:8080/"
    },
    "id": "8jgPJsAcG8zI",
    "outputId": "f1faa908-7c24-4908-8e92-caf64ab4fd94"
   },
   "outputs": [
    {
     "name": "stdout",
     "output_type": "stream",
     "text": [
      "English : [\"Don't lie anymore, OK?\", \"Don't you laugh at me.\", 'French is fascinating.', 'French is interesting.', 'French is very useful.', 'He looked quite tired.', 'He was about to speak.', 'He was born in Africa.', 'I called Tom for help.', \"I didn't come by taxi.\"]\n",
      "\n",
      "Teacher Forcing Input : ['<sos> 거짓말 하지 마세요, 알았죠?', '<sos> 날 비웃지마.', '<sos> 프랑스어는 매력적이야.', '<sos> 프랑스어는 흥미로워.', '<sos> 프랑스어는 아주 유용해.', '<sos> 그사람은 좀 지쳐보였어.', '<sos> 그사람이 말하려고 했어.', '<sos> 그는 아프리카에서 태어났다.', '<sos> 나는 톰에게 도움을 요청했다.', '<sos> 택시로 안 왔어.']\n",
      "\n",
      "Teacher Forcing Target ['거짓말 하지 마세요, 알았죠? <eos>', '날 비웃지마. <eos>', '프랑스어는 매력적이야. <eos>', '프랑스어는 흥미로워. <eos>', '프랑스어는 아주 유용해. <eos>', '그사람은 좀 지쳐보였어. <eos>', '그사람이 말하려고 했어. <eos>', '그는 아프리카에서 태어났다. <eos>', '나는 톰에게 도움을 요청했다. <eos>', '택시로 안 왔어. <eos>']\n"
     ]
    }
   ],
   "source": [
    "print(\"English :\", eng_texts[1100:1110])\n",
    "print(\"\\nTeacher Forcing Input :\", kor_inputs[1100:1110])\n",
    "print(\"\\nTeacher Forcing Target\", kor_targets[1100:1110])"
   ]
  },
  {
   "cell_type": "markdown",
   "metadata": {
    "id": "9xJ-KzkAG8zK"
   },
   "source": [
    "## Tokenization\n",
    "\n",
    "- language 가 2 개 이므로 언어별로 서로 다른 tokenizer 생성. 따라서, 2 개의 word_index 구성\n",
    "\n",
    "### 영어 input text 의 tokenizer"
   ]
  },
  {
   "cell_type": "code",
   "execution_count": 8,
   "metadata": {
    "colab": {
     "base_uri": "https://localhost:8080/"
    },
    "id": "xnBwFkjtG8zO",
    "outputId": "be58f753-90aa-4a18-8602-e1ba3ef6fa1b"
   },
   "outputs": [
    {
     "name": "stdout",
     "output_type": "stream",
     "text": [
      "[126, 12, 6, 94, 153]\n",
      "Yesterday was a good day.\n"
     ]
    },
    {
     "data": {
      "text/plain": [
       "['yesterday', 'was', 'a', 'good', 'day']"
      ]
     },
     "execution_count": 8,
     "metadata": {},
     "output_type": "execute_result"
    }
   ],
   "source": [
    "tokenizer_eng = Tokenizer(num_words=MAX_VOCAB_SIZE)\n",
    "tokenizer_eng.fit_on_texts(eng_texts)\n",
    "\n",
    "eng_sequences = tokenizer_eng.texts_to_sequences(eng_texts)\n",
    "print(eng_sequences[1500])\n",
    "print(eng_texts[1500])\n",
    "\n",
    "[tokenizer_eng.index_word[idx] for idx in eng_sequences[1500]]"
   ]
  },
  {
   "cell_type": "code",
   "execution_count": 9,
   "metadata": {
    "colab": {
     "base_uri": "https://localhost:8080/"
    },
    "id": "IeySmpW7G8zS",
    "outputId": "739f9c32-91e1-41f5-cd6e-a2b10c443283"
   },
   "outputs": [
    {
     "name": "stdout",
     "output_type": "stream",
     "text": [
      "unique input token 수 : 2395\n",
      "Input Text 의 단어 수 : 2396\n",
      "Input Text 의 최대 길이 : 101\n"
     ]
    }
   ],
   "source": [
    "word2idx_eng = tokenizer_eng.word_index\n",
    "print(f'unique input token 수 : {len(word2idx_eng)}')\n",
    "\n",
    "num_words_eng = min(MAX_VOCAB_SIZE, len(word2idx_eng) + 1)\n",
    "print(\"Input Text 의 단어 수 :\", num_words_eng)\n",
    "\n",
    "max_len_eng = max(len(s) for s in eng_sequences)\n",
    "print(\"Input Text 의 최대 길이 :\", max_len_eng)"
   ]
  },
  {
   "cell_type": "markdown",
   "metadata": {
    "id": "UnAyAZK6G8zU"
   },
   "source": [
    "### 한국어 Input Text"
   ]
  },
  {
   "cell_type": "markdown",
   "metadata": {
    "id": "RvBj6QEPG8zX"
   },
   "source": [
    "### Translation language 의 tokenizer\n",
    "- 주의 사항 : $<sos>, <eos>$때문에 special character 를 filtering 하면 안됨"
   ]
  },
  {
   "cell_type": "code",
   "execution_count": 10,
   "metadata": {
    "colab": {
     "base_uri": "https://localhost:8080/"
    },
    "id": "7Qqal6P9G8zX",
    "outputId": "f5eb4734-ff4b-4f8a-e4c9-8b1c24697db6"
   },
   "outputs": [
    {
     "name": "stdout",
     "output_type": "stream",
     "text": [
      "[1, 1164, 87, 2706]\n",
      "[1164, 87, 2706, 2]\n",
      "['<sos>', '어제는', '좋은', '날이었다.']\n",
      "['어제는', '좋은', '날이었다.', '<eos>']\n"
     ]
    }
   ],
   "source": [
    "tokenizer_kor = Tokenizer(num_words=MAX_VOCAB_SIZE,  filters=\"\")\n",
    "tokenizer_kor.fit_on_texts(kor_inputs +  kor_targets) \n",
    "\n",
    "kor_input_sequences  \\\n",
    "    = tokenizer_kor.texts_to_sequences(kor_inputs)\n",
    "kor_target_sequences \\\n",
    "    = tokenizer_kor.texts_to_sequences(kor_targets)\n",
    "\n",
    "print(kor_input_sequences[1500])\n",
    "print(kor_target_sequences [1500])\n",
    "\n",
    "print([tokenizer_kor.index_word[idx] for idx in kor_input_sequences[1500]])\n",
    "print([tokenizer_kor.index_word[idx] for idx in kor_target_sequences[1500]])"
   ]
  },
  {
   "cell_type": "code",
   "execution_count": 11,
   "metadata": {
    "colab": {
     "base_uri": "https://localhost:8080/"
    },
    "id": "QUXO5Ny7G8zc",
    "outputId": "31c06fa4-f9fb-4207-a8ee-81f5be0d629f"
   },
   "outputs": [
    {
     "name": "stdout",
     "output_type": "stream",
     "text": [
      "unique output tokens : 5324\n",
      "Target 언어의 단어 수 : 5325\n",
      "Target 언어의 최대 길이 : 90\n"
     ]
    }
   ],
   "source": [
    "word2idx_kor = tokenizer_kor.word_index\n",
    "print(f'unique output tokens : {len(word2idx_kor)}')\n",
    "\n",
    "num_words_kor = len(word2idx_kor) +1\n",
    "print(\"Target 언어의 단어 수 :\", num_words_kor)\n",
    "\n",
    "max_len_kor = max(len(s) for s in  kor_target_sequences)\n",
    "print(\"Target 언어의 최대 길이 :\", max_len_kor )"
   ]
  },
  {
   "cell_type": "markdown",
   "metadata": {
    "id": "XujZjSHZG8zh"
   },
   "source": [
    "## sequence padding\n",
    "\n",
    "\n",
    "### 주의 사항\n",
    "- encoder 는 thought vector 생성 목적이므로 `pre`(default) 로 padding\n",
    "\n",
    "\n",
    "- decoder 는 teacher forcing 을 해야하므로 `post` 로 padding"
   ]
  },
  {
   "cell_type": "code",
   "execution_count": 12,
   "metadata": {
    "colab": {
     "base_uri": "https://localhost:8080/"
    },
    "id": "6xE80jITG8zh",
    "outputId": "8ee142af-efd4-4a18-f192-f76912673c02",
    "scrolled": false
   },
   "outputs": [
    {
     "name": "stdout",
     "output_type": "stream",
     "text": [
      "encoder input shape : (3318, 101)\n",
      "encoder_inputs[0] :  [  0   0   0   0   0   0   0   0   0   0   0   0   0   0   0   0   0   0\n",
      "   0   0   0   0   0   0   0   0   0   0   0   0   0   0   0   0   0   0\n",
      "   0   0   0   0   0   0   0   0   0   0   0   0   0   0   0   0   0   0\n",
      "   0   0   0   0   0   0   0   0   0   0   0   0   0   0   0   0   0   0\n",
      "   0   0   0   0   0   0   0   0   0   0   0   0   0   0   0   0   0   0\n",
      "   0   0   0   0   0   0 126  12   6  94 153]\n",
      "\n",
      "decoder input shape : (3318, 90)\n",
      "decoder_inputs[0] :  [   1 1164   87 2706    0    0    0    0    0    0    0    0    0    0\n",
      "    0    0    0    0    0    0    0    0    0    0    0    0    0    0\n",
      "    0    0    0    0    0    0    0    0    0    0    0    0    0    0\n",
      "    0    0    0    0    0    0    0    0    0    0    0    0    0    0\n",
      "    0    0    0    0    0    0    0    0    0    0    0    0    0    0\n",
      "    0    0    0    0    0    0    0    0    0    0    0    0    0    0\n",
      "    0    0    0    0    0    0]\n",
      "\n",
      "encoder target shape : (3318, 90)\n",
      "encoder_targets[0] :  [1164   87 2706    2    0    0    0    0    0    0    0    0    0    0\n",
      "    0    0    0    0    0    0    0    0    0    0    0    0    0    0\n",
      "    0    0    0    0    0    0    0    0    0    0    0    0    0    0\n",
      "    0    0    0    0    0    0    0    0    0    0    0    0    0    0\n",
      "    0    0    0    0    0    0    0    0    0    0    0    0    0    0\n",
      "    0    0    0    0    0    0    0    0    0    0    0    0    0    0\n",
      "    0    0    0    0    0    0]\n"
     ]
    }
   ],
   "source": [
    "encoder_inputs = pad_sequences(eng_sequences, maxlen=max_len_eng)\n",
    "print(\"encoder input shape :\", encoder_inputs.shape)\n",
    "print(\"encoder_inputs[0] : \", encoder_inputs[1500])\n",
    "\n",
    "decoder_inputs = pad_sequences(kor_input_sequences, maxlen=max_len_kor, padding=\"post\")\n",
    "print(\"\\ndecoder input shape :\", decoder_inputs.shape)\n",
    "print(\"decoder_inputs[0] : \", decoder_inputs[1500])\n",
    "\n",
    "decoder_targets = pad_sequences(kor_target_sequences, maxlen=max_len_kor, padding=\"post\")\n",
    "print(\"\\nencoder target shape :\", decoder_targets.shape)\n",
    "print(\"encoder_targets[0] : \", decoder_targets[1500])"
   ]
  },
  {
   "cell_type": "markdown",
   "metadata": {
    "id": "TWIdoqQGG8zk"
   },
   "source": [
    "## pretrained word embedding 값을 transfer learning\n",
    "\n",
    "- Embedding layer 의 weight 를 pre-trained model 로 초기화  \n",
    "\n",
    "\n",
    "- glove.6B 의 EMBEDDING_DIM version 사용  \n",
    "    - space 로 구분된 text file \n",
    "    - 첫번째는 word 이고 두번째 이후는 weight vector 값이다\n",
    "\n",
    "\n",
    "- word index 가 1 부터 시작하므로 0 padding 감안하여 num_words 는 len(word2idx)+1, 혹은 MAX_VOCAB_SIZE 중 작은 것 선택  \n",
    "\n",
    "\n",
    "- embedding_dict dictionary : key - word, value - embedding_vector"
   ]
  },
  {
   "cell_type": "code",
   "execution_count": 13,
   "metadata": {
    "id": "9_uGq7s8G8zq"
   },
   "outputs": [],
   "source": [
    "def make_embedding(num_words, embedding_dim, tokenizer, max_vocab_size):\n",
    "\n",
    "    embeddings_dict = {}\n",
    "    output = './glove.6B.100d.txt'\n",
    "    \n",
    "    with open(output, encoding=\"utf8\") as f:\n",
    "        for i, line in enumerate(f):\n",
    "            values = line.split()            # 각 줄을 읽어와서 word_vector에 저장\n",
    "            word = values[0]                 # 첫번째 값은 word\n",
    "            # 두번째 element 부터 마지막까지 100 개는 해당 단어의 임베딩 벡터의  값\n",
    "            coefs = np.asarray(values[1:], dtype='float32')  \n",
    "            embeddings_dict[word] = coefs\n",
    "                \n",
    "    embedding_matrix = np.zeros((num_words, embedding_dim))    # zero 로 초기화   \n",
    "    \n",
    "    print(\"word 갯수 =\", num_words)\n",
    "    print(embedding_matrix.shape)\n",
    "\n",
    "    for word, i in tokenizer.word_index.items():\n",
    "        if i < max_vocab_size:\n",
    "            embedding_vector = embeddings_dict.get(word)\n",
    "            if embedding_vector is not None:         # 해당 word 가 없으면 all zero 로 남겨둠\n",
    "                embedding_matrix[i] = embedding_vector\n",
    "                    \n",
    "    return embedding_matrix"
   ]
  },
  {
   "cell_type": "code",
   "execution_count": 27,
   "metadata": {
    "colab": {
     "base_uri": "https://localhost:8080/"
    },
    "id": "eHnRPkgFG8zv",
    "outputId": "16dcb10e-6207-48ac-85ef-110fc05c8009"
   },
   "outputs": [
    {
     "data": {
      "text/plain": [
       "5325"
      ]
     },
     "execution_count": 27,
     "metadata": {},
     "output_type": "execute_result"
    }
   ],
   "source": [
    "num_words = min(MAX_VOCAB_SIZE, len(word2idx_kor) + 1)\n",
    "num_words"
   ]
  },
  {
   "cell_type": "markdown",
   "metadata": {
    "id": "VjrgS3RWG8zy"
   },
   "source": [
    "### embedding layer 작성\n",
    "\n",
    "- encoder 와 decoder 의 Embedding layer 에 pre-trained embedding weight 를 초기값으로 load"
   ]
  },
  {
   "cell_type": "code",
   "execution_count": 15,
   "metadata": {
    "colab": {
     "base_uri": "https://localhost:8080/"
    },
    "id": "Lu4ntZP8G8zy",
    "outputId": "e9909ee7-c9c0-4e7b-c454-d0690781b94b"
   },
   "outputs": [
    {
     "name": "stdout",
     "output_type": "stream",
     "text": [
      "word 갯수 = 2396\n",
      "(2396, 100)\n"
     ]
    }
   ],
   "source": [
    "# create embedding layer\n",
    "embedding_matrix = make_embedding(num_words_eng, EMBEDDING_DIM, \n",
    "                                  tokenizer_eng, MAX_VOCAB_SIZE)\n",
    "embedding_layer = Embedding(num_words_eng, EMBEDDING_DIM, \n",
    "                            weights=[embedding_matrix], trainable=True)"
   ]
  },
  {
   "cell_type": "markdown",
   "metadata": {
    "id": "0lTBcpJ7G8z2"
   },
   "source": [
    "## Build model\n",
    "\n",
    "- encoder 와 decoder 의 embedding, lstm 및 dense layer 를 training 할 목적의 model 작성  \n",
    "\n",
    "- encoder 는 decoder 에 states [h, c] 만 전달\n",
    "\n",
    "- prediction 을 위한 model 은 training model 에서 만들어진 layer 들의 weight 를 이용하여 별도 작성  "
   ]
  },
  {
   "cell_type": "markdown",
   "metadata": {
    "id": "uahjsXKTG8z2"
   },
   "source": [
    "## Encoder model 작성  \n",
    "\n",
    "- Training과 Inference State 에서 모두 사용"
   ]
  },
  {
   "cell_type": "code",
   "execution_count": 16,
   "metadata": {
    "colab": {
     "base_uri": "https://localhost:8080/"
    },
    "id": "p_q7v3baG8z3",
    "outputId": "43daa7b1-f481-4325-e2c3-84062ab89aeb"
   },
   "outputs": [
    {
     "name": "stdout",
     "output_type": "stream",
     "text": [
      "Model: \"model\"\n",
      "_________________________________________________________________\n",
      " Layer (type)                Output Shape              Param #   \n",
      "=================================================================\n",
      " Encoder_Input (InputLayer)  [(None, 101)]             0         \n",
      "                                                                 \n",
      " embedding (Embedding)       (None, 101, 100)          239600    \n",
      "                                                                 \n",
      " lstm (LSTM)                 [(None, 512),             1255424   \n",
      "                              (None, 512),                       \n",
      "                              (None, 512)]                       \n",
      "                                                                 \n",
      "=================================================================\n",
      "Total params: 1,495,024\n",
      "Trainable params: 1,495,024\n",
      "Non-trainable params: 0\n",
      "_________________________________________________________________\n"
     ]
    }
   ],
   "source": [
    "# Encoder\n",
    "encoder_inputs_ = Input(shape=(max_len_eng, ), name='Encoder_Input')\n",
    "\n",
    "# pre-trained embedding layer 사용\n",
    "x = embedding_layer(encoder_inputs_)\n",
    "encoder_outputs, h, c = LSTM(LATENT_DIM, return_state=True)(x)\n",
    "\n",
    "# encoder 는 hidden state and cell state 만 decoder 로 전달 --> thought vector\n",
    "encoder_states = [h, c]\n",
    "\n",
    "encoder_model = Model(encoder_inputs_, encoder_states)\n",
    "encoder_model.summary()"
   ]
  },
  {
   "cell_type": "markdown",
   "metadata": {
    "id": "r4tlTKf0G8z5"
   },
   "source": [
    "## Decoder model for Teacher Forcing \n",
    "\n",
    "- Training stage 에서 만 사용"
   ]
  },
  {
   "cell_type": "code",
   "execution_count": 17,
   "metadata": {
    "colab": {
     "base_uri": "https://localhost:8080/"
    },
    "id": "83RPsXl-G8z5",
    "outputId": "abc83a26-c2cc-4146-d7f4-f755376ca5a1"
   },
   "outputs": [
    {
     "name": "stdout",
     "output_type": "stream",
     "text": [
      "Model: \"model_1\"\n",
      "__________________________________________________________________________________________________\n",
      " Layer (type)                   Output Shape         Param #     Connected to                     \n",
      "==================================================================================================\n",
      " Encoder_Input (InputLayer)     [(None, 101)]        0           []                               \n",
      "                                                                                                  \n",
      " Decoder_Input (InputLayer)     [(None, 90)]         0           []                               \n",
      "                                                                                                  \n",
      " embedding (Embedding)          (None, 101, 100)     239600      ['Encoder_Input[0][0]']          \n",
      "                                                                                                  \n",
      " embedding_1 (Embedding)        (None, 90, 100)      532500      ['Decoder_Input[0][0]']          \n",
      "                                                                                                  \n",
      " lstm (LSTM)                    [(None, 512),        1255424     ['embedding[0][0]']              \n",
      "                                 (None, 512),                                                     \n",
      "                                 (None, 512)]                                                     \n",
      "                                                                                                  \n",
      " lstm_1 (LSTM)                  [(None, 90, 512),    1255424     ['embedding_1[0][0]',            \n",
      "                                 (None, 512),                     'lstm[0][1]',                   \n",
      "                                 (None, 512)]                     'lstm[0][2]']                   \n",
      "                                                                                                  \n",
      " Decoder_Output (Dense)         (None, 90, 5325)     2731725     ['lstm_1[0][0]']                 \n",
      "                                                                                                  \n",
      "==================================================================================================\n",
      "Total params: 6,014,673\n",
      "Trainable params: 6,014,673\n",
      "Non-trainable params: 0\n",
      "__________________________________________________________________________________________________\n"
     ]
    }
   ],
   "source": [
    "# decoder 는 [h, c] 를 initial state 로 사용\n",
    "decoder_inputs_ = Input(shape=(max_len_kor,), name=\"Decoder_Input\")\n",
    "\n",
    "# decoder word embedding 은 pre-trained vector 를 사용 않음\n",
    "decoder_embedding = Embedding(num_words_kor, EMBEDDING_DIM)\n",
    "decoder_inputs_x = decoder_embedding(decoder_inputs_)\n",
    "\n",
    "# decoder for teacher-forcing\n",
    "decoder_lstm = LSTM(LATENT_DIM, return_sequences=True, return_state=True)\n",
    "# initial state = encoder [h, c]\n",
    "decoder_outputs, _, _ = decoder_lstm(decoder_inputs_x, \n",
    "                                     initial_state=encoder_states)  \n",
    "# final layer\n",
    "decoder_dense = Dense(num_words_kor, activation='softmax', name='Decoder_Output')\n",
    "decoder_outputs = decoder_dense(decoder_outputs)\n",
    "\n",
    "# Teacher-forcing 모델 생성\n",
    "model_teacher_forcing = Model([encoder_inputs_, decoder_inputs_],  decoder_outputs)\n",
    "\n",
    "#model compile and train \n",
    "model_teacher_forcing.compile(loss='sparse_categorical_crossentropy', \n",
    "                              optimizer=RMSprop(0.001), metrics=['accuracy'])\n",
    "\n",
    "model_teacher_forcing.summary()"
   ]
  },
  {
   "cell_type": "markdown",
   "metadata": {
    "id": "73rTNuLZIaiy"
   },
   "source": [
    "- teacher-forcing model 시각화"
   ]
  },
  {
   "cell_type": "code",
   "execution_count": 18,
   "metadata": {
    "colab": {
     "base_uri": "https://localhost:8080/",
     "height": 455
    },
    "id": "nh-geR7BG8z7",
    "outputId": "01dc8aa6-4ed4-4f81-8aae-463fd1fe5598"
   },
   "outputs": [
    {
     "data": {
      "image/png": "[encoded data removed]",
      "text/plain": [
       "<IPython.core.display.Image object>"
      ]
     },
     "execution_count": 18,
     "metadata": {},
     "output_type": "execute_result"
    }
   ],
   "source": [
    "plot_model(model_teacher_forcing, show_shapes=True)"
   ]
  },
  {
   "cell_type": "markdown",
   "metadata": {
    "id": "5wbWW3D9IgZi"
   },
   "source": [
    "- teacher-forcing model train"
   ]
  },
  {
   "cell_type": "code",
   "execution_count": 19,
   "metadata": {
    "colab": {
     "base_uri": "https://localhost:8080/"
    },
    "id": "NbWbW3NsG8z-",
    "outputId": "acada5a5-84bb-4b18-ae50-9df2aab96a95",
    "scrolled": true
   },
   "outputs": [
    {
     "name": "stdout",
     "output_type": "stream",
     "text": [
      "Epoch 1/30\n",
      "42/42 [==============================] - 12s 99ms/step - loss: 0.8556 - accuracy: 0.9278 - val_loss: 0.6614 - val_accuracy: 0.9209\n",
      "Epoch 2/30\n",
      "42/42 [==============================] - 3s 81ms/step - loss: 0.5963 - accuracy: 0.9296 - val_loss: 0.6570 - val_accuracy: 0.9226\n",
      "Epoch 3/30\n",
      "42/42 [==============================] - 3s 81ms/step - loss: 0.3227 - accuracy: 0.9546 - val_loss: 0.7159 - val_accuracy: 0.9209\n",
      "Epoch 4/30\n",
      "42/42 [==============================] - 3s 81ms/step - loss: 0.3019 - accuracy: 0.9589 - val_loss: 0.6722 - val_accuracy: 0.9279\n",
      "Epoch 5/30\n",
      "42/42 [==============================] - 3s 81ms/step - loss: 0.2803 - accuracy: 0.9619 - val_loss: 0.6565 - val_accuracy: 0.9306\n",
      "Epoch 6/30\n",
      "42/42 [==============================] - 3s 81ms/step - loss: 0.2634 - accuracy: 0.9625 - val_loss: 0.6582 - val_accuracy: 0.9316\n",
      "Epoch 7/30\n",
      "42/42 [==============================] - 3s 81ms/step - loss: 0.2474 - accuracy: 0.9633 - val_loss: 0.6458 - val_accuracy: 0.9321\n",
      "Epoch 8/30\n",
      "42/42 [==============================] - 3s 81ms/step - loss: 0.2316 - accuracy: 0.9640 - val_loss: 0.6549 - val_accuracy: 0.9323\n",
      "Epoch 9/30\n",
      "42/42 [==============================] - 3s 83ms/step - loss: 0.2160 - accuracy: 0.9651 - val_loss: 0.6513 - val_accuracy: 0.9330\n",
      "Epoch 10/30\n",
      "42/42 [==============================] - 3s 82ms/step - loss: 0.2010 - accuracy: 0.9661 - val_loss: 0.6539 - val_accuracy: 0.9331\n",
      "Epoch 11/30\n",
      "42/42 [==============================] - 3s 81ms/step - loss: 0.1864 - accuracy: 0.9673 - val_loss: 0.6457 - val_accuracy: 0.9335\n",
      "Epoch 12/30\n",
      "42/42 [==============================] - 3s 80ms/step - loss: 0.1714 - accuracy: 0.9684 - val_loss: 0.6434 - val_accuracy: 0.9335\n",
      "Epoch 13/30\n",
      "42/42 [==============================] - 3s 81ms/step - loss: 0.1569 - accuracy: 0.9699 - val_loss: 0.6430 - val_accuracy: 0.9342\n",
      "Epoch 14/30\n",
      "42/42 [==============================] - 3s 81ms/step - loss: 0.1423 - accuracy: 0.9717 - val_loss: 0.6592 - val_accuracy: 0.9343\n",
      "Epoch 15/30\n",
      "42/42 [==============================] - 3s 81ms/step - loss: 0.1285 - accuracy: 0.9736 - val_loss: 0.6451 - val_accuracy: 0.9343\n",
      "Epoch 16/30\n",
      "42/42 [==============================] - 3s 81ms/step - loss: 0.1151 - accuracy: 0.9764 - val_loss: 0.6627 - val_accuracy: 0.9343\n",
      "Epoch 17/30\n",
      "42/42 [==============================] - 3s 81ms/step - loss: 0.1021 - accuracy: 0.9795 - val_loss: 0.6483 - val_accuracy: 0.9339\n",
      "Epoch 18/30\n",
      "42/42 [==============================] - 3s 82ms/step - loss: 0.0897 - accuracy: 0.9825 - val_loss: 0.6548 - val_accuracy: 0.9345\n",
      "Epoch 19/30\n",
      "42/42 [==============================] - 3s 81ms/step - loss: 0.0784 - accuracy: 0.9852 - val_loss: 0.6512 - val_accuracy: 0.9348\n",
      "Epoch 20/30\n",
      "42/42 [==============================] - 3s 81ms/step - loss: 0.0676 - accuracy: 0.9880 - val_loss: 0.6649 - val_accuracy: 0.9348\n",
      "Epoch 21/30\n",
      "42/42 [==============================] - 3s 82ms/step - loss: 0.0580 - accuracy: 0.9901 - val_loss: 0.6594 - val_accuracy: 0.9344\n",
      "Epoch 22/30\n",
      "42/42 [==============================] - 3s 82ms/step - loss: 0.0494 - accuracy: 0.9919 - val_loss: 0.6626 - val_accuracy: 0.9348\n",
      "Epoch 23/30\n",
      "42/42 [==============================] - 3s 81ms/step - loss: 0.0418 - accuracy: 0.9933 - val_loss: 0.6549 - val_accuracy: 0.9340\n",
      "Epoch 24/30\n",
      "42/42 [==============================] - 3s 81ms/step - loss: 0.0353 - accuracy: 0.9946 - val_loss: 0.6692 - val_accuracy: 0.9345\n",
      "Epoch 25/30\n",
      "42/42 [==============================] - 3s 82ms/step - loss: 0.0296 - accuracy: 0.9953 - val_loss: 0.6696 - val_accuracy: 0.9347\n",
      "Epoch 26/30\n",
      "42/42 [==============================] - 3s 81ms/step - loss: 0.0251 - accuracy: 0.9960 - val_loss: 0.6739 - val_accuracy: 0.9341\n",
      "Epoch 27/30\n",
      "42/42 [==============================] - 3s 81ms/step - loss: 0.0211 - accuracy: 0.9967 - val_loss: 0.6584 - val_accuracy: 0.9342\n",
      "Epoch 28/30\n",
      "42/42 [==============================] - 3s 81ms/step - loss: 0.0179 - accuracy: 0.9970 - val_loss: 0.6766 - val_accuracy: 0.9338\n",
      "Epoch 29/30\n",
      "42/42 [==============================] - 3s 81ms/step - loss: 0.0151 - accuracy: 0.9974 - val_loss: 0.6770 - val_accuracy: 0.9338\n",
      "Epoch 30/30\n",
      "42/42 [==============================] - 3s 82ms/step - loss: 0.0131 - accuracy: 0.9976 - val_loss: 0.6683 - val_accuracy: 0.9342\n"
     ]
    }
   ],
   "source": [
    "history = model_teacher_forcing.fit([encoder_inputs, decoder_inputs], \n",
    "                                    decoder_targets, batch_size=BATCH_SIZE, \n",
    "                                    epochs=30, validation_split=0.2)"
   ]
  },
  {
   "cell_type": "markdown",
   "metadata": {
    "id": "XyUjTEg1IkC5"
   },
   "source": [
    "- accuracy, loss 시각화"
   ]
  },
  {
   "cell_type": "code",
   "execution_count": 20,
   "metadata": {
    "colab": {
     "base_uri": "https://localhost:8080/",
     "height": 266
    },
    "id": "9BWSgxh3G80A",
    "outputId": "bde9cf2d-4bc5-480e-cc0d-d5478977d104"
   },
   "outputs": [
    {
     "data": {
      "image/png": "[encoded data removed]",
      "text/plain": [
       "<Figure size 864x288 with 2 Axes>"
      ]
     },
     "metadata": {
      "needs_background": "light"
     },
     "output_type": "display_data"
    }
   ],
   "source": [
    "# plot some data\n",
    "fig, (ax1, ax2) = plt.subplots(1, 2, figsize=(12, 4))\n",
    "ax1.plot(history.history['loss'], label='loss')\n",
    "ax1.plot(history.history['val_loss'], label='val_loss')\n",
    "ax1.legend()\n",
    "\n",
    "# accuracies\n",
    "ax2.plot(history.history['accuracy'], label='acc')\n",
    "ax2.plot(history.history['val_accuracy'], label='val_acc')\n",
    "ax2.legend()\n",
    "plt.show()"
   ]
  },
  {
   "cell_type": "markdown",
   "metadata": {
    "id": "7hQEWBi6IpGl"
   },
   "source": [
    "- save model"
   ]
  },
  {
   "cell_type": "code",
   "execution_count": 21,
   "metadata": {
    "id": "4G41Pc0MG80C"
   },
   "outputs": [],
   "source": [
    "model_teacher_forcing.save('seq2seq_translation.h5')"
   ]
  },
  {
   "cell_type": "markdown",
   "metadata": {
    "id": "QXpQ5xqKG80E"
   },
   "source": [
    "## Make Predictions - Inference phase\n",
    "\n",
    "- prediction 을 위한 별도의 decoder model 작성  \n",
    "\n",
    "- 별로 training 없이 앞에서 train 된 weights 를 모두 재사용 한다.\n",
    "\n",
    "- decoder 는 encoder 와 분리되어 구성"
   ]
  },
  {
   "cell_type": "code",
   "execution_count": 22,
   "metadata": {
    "colab": {
     "base_uri": "https://localhost:8080/"
    },
    "id": "0JJGUKl-G80E",
    "outputId": "b8ec8d4a-4d3e-4892-f65f-986895c2c7a6"
   },
   "outputs": [
    {
     "name": "stdout",
     "output_type": "stream",
     "text": [
      "Model: \"model_2\"\n",
      "__________________________________________________________________________________________________\n",
      " Layer (type)                   Output Shape         Param #     Connected to                     \n",
      "==================================================================================================\n",
      " Decoder_input (InputLayer)     [(None, 1)]          0           []                               \n",
      "                                                                                                  \n",
      " embedding_1 (Embedding)        multiple             532500      ['Decoder_input[0][0]']          \n",
      "                                                                                                  \n",
      " Decoder_hidden_h (InputLayer)  [(None, 512)]        0           []                               \n",
      "                                                                                                  \n",
      " Decoder_hidden_c (InputLayer)  [(None, 512)]        0           []                               \n",
      "                                                                                                  \n",
      " lstm_1 (LSTM)                  multiple             1255424     ['embedding_1[1][0]',            \n",
      "                                                                  'Decoder_hidden_h[0][0]',       \n",
      "                                                                  'Decoder_hidden_c[0][0]']       \n",
      "                                                                                                  \n",
      " Decoder_Output (Dense)         multiple             2731725     ['lstm_1[1][0]']                 \n",
      "                                                                                                  \n",
      "==================================================================================================\n",
      "Total params: 4,519,649\n",
      "Trainable params: 4,519,649\n",
      "Non-trainable params: 0\n",
      "__________________________________________________________________________________________________\n"
     ]
    }
   ],
   "source": [
    "# Decoder for inference\n",
    "decoder_state_input_h = Input(shape=(512,), name='Decoder_hidden_h')\n",
    "decoder_state_input_c = Input(shape=(512,), name='Decoder_hidden_c')\n",
    "decoder_states_inputs = [decoder_state_input_h, decoder_state_input_c]\n",
    "\n",
    "decoder_inputs_single = Input(shape=(1,), name='Decoder_input')\n",
    "x = decoder_embedding(decoder_inputs_single)\n",
    "\n",
    "# output, hidden states 를 저장\n",
    "decoder_outputs, h, c = decoder_lstm(x, initial_state=decoder_states_inputs)\n",
    "\n",
    "decoder_states = [h, c]\n",
    "\n",
    "decoder_outputs = decoder_dense(decoder_outputs)  \n",
    "\n",
    "decoder_model = Model(\n",
    "    [decoder_inputs_single] + decoder_states_inputs,    \n",
    "    [decoder_outputs] + decoder_states\n",
    ")\n",
    "\n",
    "decoder_model.summary()"
   ]
  },
  {
   "cell_type": "markdown",
   "metadata": {
    "id": "HOl_sDoVI1N7"
   },
   "source": [
    "- inference 용 decoder model 시각화"
   ]
  },
  {
   "cell_type": "code",
   "execution_count": 23,
   "metadata": {
    "colab": {
     "base_uri": "https://localhost:8080/",
     "height": 294
    },
    "id": "v_QF0GNtG80I",
    "outputId": "ea3db497-3dfc-4ada-abfe-add7e47d0850"
   },
   "outputs": [
    {
     "data": {
      "image/png": "[encoded data removed]",
      "text/plain": [
       "<IPython.core.display.Image object>"
      ]
     },
     "execution_count": 23,
     "metadata": {},
     "output_type": "execute_result"
    }
   ],
   "source": [
    "plot_model(decoder_model, show_shapes=True)"
   ]
  },
  {
   "cell_type": "markdown",
   "metadata": {
    "id": "RTLcPG9RI8dR"
   },
   "source": [
    "예측하는 동안 index를 단어를 되돌리기 위한 reverse word2idx dictionary 작성"
   ]
  },
  {
   "cell_type": "markdown",
   "metadata": {
    "id": "fUZfCBF-JKPR"
   },
   "source": [
    "### Translation Inference"
   ]
  },
  {
   "cell_type": "code",
   "execution_count": 24,
   "metadata": {
    "colab": {
     "base_uri": "https://localhost:8080/"
    },
    "id": "tlCAy_2MG80N",
    "outputId": "8769a4b6-9acb-41ba-cc51-4b6526f82182",
    "scrolled": false
   },
   "outputs": [
    {
     "name": "stdout",
     "output_type": "stream",
     "text": [
      "-\n",
      "Input: I smell blood.\n",
      "Translation: 피 냄새가 납니다.\n",
      "-\n",
      "Input: It's really hard to stop.\n",
      "Translation: 멈추는 건 너무 어려워.\n",
      "-\n",
      "Input: I didn't want to be interrupted.\n",
      "Translation: 방해받고 싶지 않았어.\n",
      "-\n",
      "Input: It's not always possible to eat well when you're traveling in this part of the world.\n",
      "Translation: 이게 여기서 없어.\n",
      "-\n",
      "Input: Should I learn French?\n",
      "Translation: 프랑스어를 배워야 할까요?\n"
     ]
    }
   ],
   "source": [
    "def decode_sequence(input_seq):\n",
    "   # encoder model을 이용하여 input을 state vector로 encoding\n",
    "    states_value = encoder_model.predict(input_seq)\n",
    "\n",
    "   # Generate empty target sequence of length 1.\n",
    "    target_seq = np.zeros((1, 1))\n",
    "\n",
    "   # target sequence 의 첫번째 character 를 start character (<sos>) 로 설정 \n",
    "    target_seq[0, 0] = word2idx_kor['<sos>']\n",
    "\n",
    "   # <eos> token이 decode 에서 생성되면 loop 에서 break\n",
    "    eos = word2idx_kor['<eos>']\n",
    "\n",
    "   # 번역문 생성\n",
    "    output_sentence = []\n",
    "    for _ in range(max_len_kor):\n",
    "        output_tokens, h, c = decoder_model.predict([target_seq] + states_value)\n",
    "\n",
    "       # argmax 로 가장 확률 높은 단어 선택 --> greedy selection\n",
    "        idx = np.argmax(output_tokens[0, 0, :])\n",
    "\n",
    "        if eos == idx:  # <EOS> token \n",
    "            break\n",
    "\n",
    "        if idx > 0:  # idx 0 은 zero padding 된 sequence 이므로 ''    \n",
    "            word = tokenizer_kor.index_word[idx]\n",
    "            output_sentence.append(word) \n",
    "\n",
    "        # 생성된 word 를 decoder 의 다음 input 으로 사용\n",
    "        target_seq[0, 0] = idx\n",
    "\n",
    "       # Update states\n",
    "        states_value = [h, c]\n",
    "\n",
    "    return ' '.join(output_sentence)\n",
    "\n",
    "for _ in range(5):\n",
    "    i = np.random.choice(len(eng_texts))\n",
    "    input_seq = encoder_inputs[i:i+1]\n",
    "    \n",
    "    translation = decode_sequence(input_seq)\n",
    "    print('-')\n",
    "    print('Input:', eng_texts[i])\n",
    "    print('Translation:', translation)"
   ]
  },
  {
   "cell_type": "markdown",
   "metadata": {
    "id": "Qjr59AvAJTqF"
   },
   "source": [
    "### 임의의 영어 입력을 처리하는 영한 번역 함수"
   ]
  },
  {
   "cell_type": "code",
   "execution_count": 25,
   "metadata": {
    "id": "MxL71Hf4Y53i"
   },
   "outputs": [],
   "source": [
    "def Eng_Kor_translation(txt):\n",
    "    input_sequence = tokenizer_eng.texts_to_sequences([txt])\n",
    "    encoder_input = pad_sequences(input_sequence, maxlen=max_len_eng)\n",
    "\n",
    "    return decode_sequence(encoder_input)"
   ]
  },
  {
   "cell_type": "code",
   "execution_count": 26,
   "metadata": {
    "colab": {
     "base_uri": "https://localhost:8080/"
    },
    "id": "8t8TnjTUZJiE",
    "outputId": "18089dd4-3275-4c49-f748-cc7283661c22"
   },
   "outputs": [
    {
     "name": "stdout",
     "output_type": "stream",
     "text": [
      "----\n",
      "Input: Your lips are red.\n",
      "Translation: 네 입술 빨개.\n",
      "----\n",
      "Input: French is interesting.\n",
      "Translation: 프랑스어는 흥미로워.\n",
      "----\n",
      "Input: I like you.\n",
      "Translation: 나는 부러워.\n",
      "----\n",
      "Input: Let's go to home.\n",
      "Translation: 나 집에 가자.\n"
     ]
    }
   ],
   "source": [
    "test_text = [\n",
    "       \"Your lips are red.\",\n",
    "       \"French is interesting.\",\n",
    "       \"I like you.\",\n",
    "       \"Let's go to home.\"      \n",
    "]\n",
    "for text in test_text:\n",
    "    translation = Eng_Kor_translation(text)\n",
    "    print('----')\n",
    "    print('Input:', text)\n",
    "    print('Translation:', translation)"
   ]
  },
  {
   "cell_type": "code",
   "execution_count": 26,
   "metadata": {
    "id": "cWDt0zKTG80R"
   },
   "outputs": [],
   "source": []
  }
 ],
 "metadata": {
  "accelerator": "GPU",
  "colab": {
   "name": "080_language_translation_KerasAPI_teacherForcing.ipynb",
   "provenance": []
  },
  "kernelspec": {
   "display_name": "Python 3 (ipykernel)",
   "language": "python",
   "name": "python3"
  },
  "language_info": {
   "codemirror_mode": {
    "name": "ipython",
    "version": 3
   },
   "file_extension": ".py",
   "mimetype": "text/x-python",
   "name": "python",
   "nbconvert_exporter": "python",
   "pygments_lexer": "ipython3",
   "version": "3.9.16"
  }
 },
 "nbformat": 4,
 "nbformat_minor": 1
}
